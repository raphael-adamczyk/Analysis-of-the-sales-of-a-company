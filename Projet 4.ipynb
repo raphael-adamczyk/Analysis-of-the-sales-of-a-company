{
 "cells": [
  {
   "cell_type": "markdown",
   "metadata": {},
   "source": [
    "# Projet 4: [Analysez les ventes de votre entreprise](#M0)"
   ]
  },
  {
   "cell_type": "markdown",
   "metadata": {},
   "source": [
    "# Table des matières\n",
    "**[I. Nettoyage des données](#M1)**\n",
    "- [1. Table \"clients\"](#M11)    \n",
    "- [2. Table \"produits\"](#M12)\n",
    "- [3. Table \"ventes\"](#M13)\n",
    "- [4. Jointures](#M14)\n",
    "    \n",
    "**[II. Analyses réalisées](#M2)**\n",
    "- [1. Que sait-on des clients?](#M21)\n",
    "    - [a) Composition hommes/femmes](#M211)\n",
    "    - [b) Quel est l'âge de la clientèle?](#M212)            \n",
    "- [2. Que vend l'entreprise?](#M22)\n",
    "    - [a) Catégorie des produits proposés](#M221)\n",
    "    - [b) Quels sont les prix des produits proposés?](#M222)     \n",
    "        - [Comparaison globale](#M2221)                     \n",
    "- [3. Résultats bruts des ventes](#M23)\n",
    "    - [a) Quels produits ont été vendus?](#M231)        \n",
    "        - [Volume d'achats de chaque produit](#M2311)\n",
    "            - [Podium des 10 livres de chaque catégorie les plus vendus](#M23111)\n",
    "            - [Evolution du montant des ventes en fonction du volume de produits proposés](#M23112)\n",
    "        - [Détail du volume des ventes par mois](#M2312)  \n",
    "            - [Recherche d'explications concernant la baisse soudaine d'octobre de la catégorie 1](#M23121)\n",
    "        - [Détail du chiffre d'affaire par mois](#M2313)                   \n",
    "        - [Comparaison chiffre d'affaire et volume des ventes](#M2314)        \n",
    "    - [b) Composition du panier des clients](#M232)    \n",
    "        - [Paniers revendeurs et paniers clients lambda](#M2321)\n",
    "        - [Comparaison montant et nombre d'articles des paniers clients lambda](#M2322)\n",
    "- [4. Sexe des clients et catégories de produits achetés](#M24)\n",
    "    - [Analyse](#M241)\n",
    "    - [Corrélation (variables qualitatives)](#M242)\n",
    "- [5. Age des clients...](#M25)\n",
    "    - [a) ... et montant total des achats](#M251)\n",
    "        - [Analyse](#M2511)\n",
    "        - [Corrélation (variable qualitative et quantitative)](#M2512)\n",
    "    - [b) ... et fréquence d'achat par mois](#M252)\n",
    "        - [Analyse](#M2521)\n",
    "        - [Corrélation (variable qualitative et quantitative)](#M2522)\n",
    "    - [c) ... et taille du panier moyen en nombre d'articles](#M253)\n",
    "        - [Analyse](#M2531)\n",
    "        - [Corrélation (variable qualitative et quantitative)](#M2532)\n",
    "    - [d) ... et catégories de produits achetés](#M254)\n",
    "        - [Analyse](#M2541)\n",
    "        - [Corrélation (variables qualitative et quantitative)](#M2542)"
   ]
  },
  {
   "cell_type": "code",
   "execution_count": 1,
   "metadata": {},
   "outputs": [],
   "source": [
    "import pandas as pd\n",
    "import numpy as np\n",
    "import re\n",
    "%matplotlib inline\n",
    "import matplotlib.pyplot as plt\n",
    "import seaborn as sns\n",
    "import scipy.stats as st\n",
    "from sklearn import linear_model"
   ]
  },
  {
   "cell_type": "code",
   "execution_count": 2,
   "metadata": {},
   "outputs": [],
   "source": [
    "plt.rcParams['font.size'] = 15"
   ]
  },
  {
   "cell_type": "markdown",
   "metadata": {},
   "source": [
    "# I. Nettoyage des données.<a name=\"M1\"></a>\n",
    "## <span style='color:orange'>1.Table \"clients\"<a name=\"M11\"></a>"
   ]
  },
  {
   "cell_type": "code",
   "execution_count": 3,
   "metadata": {
    "scrolled": false
   },
   "outputs": [
    {
     "data": {
      "text/html": [
       "<div>\n",
       "<style scoped>\n",
       "    .dataframe tbody tr th:only-of-type {\n",
       "        vertical-align: middle;\n",
       "    }\n",
       "\n",
       "    .dataframe tbody tr th {\n",
       "        vertical-align: top;\n",
       "    }\n",
       "\n",
       "    .dataframe thead th {\n",
       "        text-align: right;\n",
       "    }\n",
       "</style>\n",
       "<table border=\"1\" class=\"dataframe\">\n",
       "  <thead>\n",
       "    <tr style=\"text-align: right;\">\n",
       "      <th></th>\n",
       "      <th>client_id</th>\n",
       "      <th>sex</th>\n",
       "      <th>birth</th>\n",
       "    </tr>\n",
       "  </thead>\n",
       "  <tbody>\n",
       "    <tr>\n",
       "      <th>0</th>\n",
       "      <td>c_4410</td>\n",
       "      <td>f</td>\n",
       "      <td>1967</td>\n",
       "    </tr>\n",
       "    <tr>\n",
       "      <th>1</th>\n",
       "      <td>c_7839</td>\n",
       "      <td>f</td>\n",
       "      <td>1975</td>\n",
       "    </tr>\n",
       "    <tr>\n",
       "      <th>2</th>\n",
       "      <td>c_1699</td>\n",
       "      <td>f</td>\n",
       "      <td>1984</td>\n",
       "    </tr>\n",
       "    <tr>\n",
       "      <th>3</th>\n",
       "      <td>c_5961</td>\n",
       "      <td>f</td>\n",
       "      <td>1962</td>\n",
       "    </tr>\n",
       "    <tr>\n",
       "      <th>4</th>\n",
       "      <td>c_5320</td>\n",
       "      <td>m</td>\n",
       "      <td>1943</td>\n",
       "    </tr>\n",
       "  </tbody>\n",
       "</table>\n",
       "</div>"
      ],
      "text/plain": [
       "  client_id sex  birth\n",
       "0    c_4410   f   1967\n",
       "1    c_7839   f   1975\n",
       "2    c_1699   f   1984\n",
       "3    c_5961   f   1962\n",
       "4    c_5320   m   1943"
      ]
     },
     "execution_count": 3,
     "metadata": {},
     "output_type": "execute_result"
    }
   ],
   "source": [
    "clients = pd.read_csv('customers.csv')\n",
    "clients.head()"
   ]
  },
  {
   "cell_type": "code",
   "execution_count": 4,
   "metadata": {},
   "outputs": [
    {
     "data": {
      "text/plain": [
       "(8623, 3)"
      ]
     },
     "execution_count": 4,
     "metadata": {},
     "output_type": "execute_result"
    }
   ],
   "source": [
    "clients.shape # Dimensions de la table"
   ]
  },
  {
   "cell_type": "code",
   "execution_count": 5,
   "metadata": {},
   "outputs": [
    {
     "name": "stdout",
     "output_type": "stream",
     "text": [
      "\"client_id\": 0\n",
      "\"sex\": 0\n",
      "\"birth\": 0\n"
     ]
    }
   ],
   "source": [
    "# Nombre de valeurs manquantes détectées par colonne:\n",
    "for col in clients.columns:\n",
    "    print('\"%s\": %i' %(col, clients[col].isnull().sum()))   "
   ]
  },
  {
   "cell_type": "code",
   "execution_count": 6,
   "metadata": {},
   "outputs": [
    {
     "data": {
      "text/plain": [
       "0"
      ]
     },
     "execution_count": 6,
     "metadata": {},
     "output_type": "execute_result"
    }
   ],
   "source": [
    "# Nombre de doublons:\n",
    "clients.duplicated().sum()"
   ]
  },
  {
   "cell_type": "code",
   "execution_count": 7,
   "metadata": {},
   "outputs": [],
   "source": [
    "def analyse_id_clients(identifiant):\n",
    "    if re.match(r'^c\\_(\\d+)$', str(identifiant)) is None:\n",
    "        print(clients.loc[clients.client_id == identifiant])\n",
    "        print()\n",
    "        print('\"{0}\" n\\'est pas au bon format.'.format(identifiant))\n",
    "        print()\n",
    "    else:\n",
    "        return identifiant"
   ]
  },
  {
   "cell_type": "code",
   "execution_count": 8,
   "metadata": {},
   "outputs": [
    {
     "name": "stdout",
     "output_type": "stream",
     "text": [
      "     client_id sex  birth\n",
      "2735      ct_0   f   2001\n",
      "\n",
      "\"ct_0\" n'est pas au bon format.\n",
      "\n",
      "     client_id sex  birth\n",
      "8494      ct_1   m   2001\n",
      "\n",
      "\"ct_1\" n'est pas au bon format.\n",
      "\n"
     ]
    }
   ],
   "source": [
    "clients.client_id = clients.client_id.apply(analyse_id_clients)"
   ]
  },
  {
   "cell_type": "code",
   "execution_count": 9,
   "metadata": {},
   "outputs": [],
   "source": [
    "# Suppression de ct_0 et ct_1:\n",
    "clients.drop([2735, 8494], inplace = True)"
   ]
  },
  {
   "cell_type": "code",
   "execution_count": 10,
   "metadata": {},
   "outputs": [
    {
     "data": {
      "text/html": [
       "<div>\n",
       "<style scoped>\n",
       "    .dataframe tbody tr th:only-of-type {\n",
       "        vertical-align: middle;\n",
       "    }\n",
       "\n",
       "    .dataframe tbody tr th {\n",
       "        vertical-align: top;\n",
       "    }\n",
       "\n",
       "    .dataframe thead th {\n",
       "        text-align: right;\n",
       "    }\n",
       "</style>\n",
       "<table border=\"1\" class=\"dataframe\">\n",
       "  <thead>\n",
       "    <tr style=\"text-align: right;\">\n",
       "      <th></th>\n",
       "      <th>client_id</th>\n",
       "      <th>sex</th>\n",
       "      <th>birth</th>\n",
       "    </tr>\n",
       "  </thead>\n",
       "  <tbody>\n",
       "    <tr>\n",
       "      <th>2734</th>\n",
       "      <td>c_4406</td>\n",
       "      <td>f</td>\n",
       "      <td>1998</td>\n",
       "    </tr>\n",
       "    <tr>\n",
       "      <th>2736</th>\n",
       "      <td>c_3195</td>\n",
       "      <td>m</td>\n",
       "      <td>2004</td>\n",
       "    </tr>\n",
       "  </tbody>\n",
       "</table>\n",
       "</div>"
      ],
      "text/plain": [
       "     client_id sex  birth\n",
       "2734    c_4406   f   1998\n",
       "2736    c_3195   m   2004"
      ]
     },
     "execution_count": 10,
     "metadata": {},
     "output_type": "execute_result"
    }
   ],
   "source": [
    "clients.loc[2734:2736]"
   ]
  },
  {
   "cell_type": "code",
   "execution_count": 11,
   "metadata": {},
   "outputs": [
    {
     "data": {
      "text/html": [
       "<div>\n",
       "<style scoped>\n",
       "    .dataframe tbody tr th:only-of-type {\n",
       "        vertical-align: middle;\n",
       "    }\n",
       "\n",
       "    .dataframe tbody tr th {\n",
       "        vertical-align: top;\n",
       "    }\n",
       "\n",
       "    .dataframe thead th {\n",
       "        text-align: right;\n",
       "    }\n",
       "</style>\n",
       "<table border=\"1\" class=\"dataframe\">\n",
       "  <thead>\n",
       "    <tr style=\"text-align: right;\">\n",
       "      <th></th>\n",
       "      <th>client_id</th>\n",
       "      <th>sex</th>\n",
       "      <th>birth</th>\n",
       "    </tr>\n",
       "  </thead>\n",
       "  <tbody>\n",
       "    <tr>\n",
       "      <th>8493</th>\n",
       "      <td>c_3128</td>\n",
       "      <td>f</td>\n",
       "      <td>1969</td>\n",
       "    </tr>\n",
       "    <tr>\n",
       "      <th>8495</th>\n",
       "      <td>c_1218</td>\n",
       "      <td>m</td>\n",
       "      <td>1976</td>\n",
       "    </tr>\n",
       "  </tbody>\n",
       "</table>\n",
       "</div>"
      ],
      "text/plain": [
       "     client_id sex  birth\n",
       "8493    c_3128   f   1969\n",
       "8495    c_1218   m   1976"
      ]
     },
     "execution_count": 11,
     "metadata": {},
     "output_type": "execute_result"
    }
   ],
   "source": [
    "clients.loc[8493:8495]"
   ]
  },
  {
   "cell_type": "code",
   "execution_count": 12,
   "metadata": {},
   "outputs": [],
   "source": [
    "def analyse_birth(annee):\n",
    "    if re.match('^(19[2-9]\\d|20[01]\\d)$', str(annee)) is None:\n",
    "        print(clients.loc[clients.birth == annee])\n",
    "        print()\n",
    "        print('\"{0}\" n\\'est pas reconnue.'.format(annee))\n",
    "        print()\n",
    "    else:\n",
    "        return annee"
   ]
  },
  {
   "cell_type": "code",
   "execution_count": 13,
   "metadata": {},
   "outputs": [],
   "source": [
    "clients.birth = clients.birth.apply(analyse_birth)  # RAS"
   ]
  },
  {
   "cell_type": "code",
   "execution_count": 14,
   "metadata": {},
   "outputs": [
    {
     "data": {
      "text/html": [
       "<div>\n",
       "<style scoped>\n",
       "    .dataframe tbody tr th:only-of-type {\n",
       "        vertical-align: middle;\n",
       "    }\n",
       "\n",
       "    .dataframe tbody tr th {\n",
       "        vertical-align: top;\n",
       "    }\n",
       "\n",
       "    .dataframe thead th {\n",
       "        text-align: right;\n",
       "    }\n",
       "</style>\n",
       "<table border=\"1\" class=\"dataframe\">\n",
       "  <thead>\n",
       "    <tr style=\"text-align: right;\">\n",
       "      <th></th>\n",
       "      <th>birth</th>\n",
       "      <th>age</th>\n",
       "    </tr>\n",
       "  </thead>\n",
       "  <tbody>\n",
       "    <tr>\n",
       "      <th>count</th>\n",
       "      <td>8621</td>\n",
       "      <td>8621</td>\n",
       "    </tr>\n",
       "    <tr>\n",
       "      <th>mean</th>\n",
       "      <td>1978</td>\n",
       "      <td>43</td>\n",
       "    </tr>\n",
       "    <tr>\n",
       "      <th>std</th>\n",
       "      <td>16</td>\n",
       "      <td>16</td>\n",
       "    </tr>\n",
       "    <tr>\n",
       "      <th>min</th>\n",
       "      <td>1929</td>\n",
       "      <td>18</td>\n",
       "    </tr>\n",
       "    <tr>\n",
       "      <th>25%</th>\n",
       "      <td>1966</td>\n",
       "      <td>30</td>\n",
       "    </tr>\n",
       "    <tr>\n",
       "      <th>50%</th>\n",
       "      <td>1979</td>\n",
       "      <td>43</td>\n",
       "    </tr>\n",
       "    <tr>\n",
       "      <th>75%</th>\n",
       "      <td>1992</td>\n",
       "      <td>56</td>\n",
       "    </tr>\n",
       "    <tr>\n",
       "      <th>max</th>\n",
       "      <td>2004</td>\n",
       "      <td>93</td>\n",
       "    </tr>\n",
       "  </tbody>\n",
       "</table>\n",
       "</div>"
      ],
      "text/plain": [
       "       birth   age\n",
       "count   8621  8621\n",
       "mean    1978    43\n",
       "std       16    16\n",
       "min     1929    18\n",
       "25%     1966    30\n",
       "50%     1979    43\n",
       "75%     1992    56\n",
       "max     2004    93"
      ]
     },
     "execution_count": 14,
     "metadata": {},
     "output_type": "execute_result"
    }
   ],
   "source": [
    "# Création d'une colonne \"âge\", plus simple à manipuler que l'année de naissance:\n",
    "clients['age'] = clients['birth'].apply(lambda x: 2022 - x)\n",
    "clients.describe().apply(np.int64)"
   ]
  },
  {
   "cell_type": "code",
   "execution_count": 15,
   "metadata": {},
   "outputs": [],
   "source": [
    "# pour avoir une sauvegarde de \"clients\" sans modifications:\n",
    "clients_ok = clients.copy()"
   ]
  },
  {
   "cell_type": "markdown",
   "metadata": {},
   "source": [
    "##  <span style='color:orange'>2. Table \"produits\"<a name=\"M12\"></a>"
   ]
  },
  {
   "cell_type": "code",
   "execution_count": 16,
   "metadata": {},
   "outputs": [
    {
     "data": {
      "text/html": [
       "<div>\n",
       "<style scoped>\n",
       "    .dataframe tbody tr th:only-of-type {\n",
       "        vertical-align: middle;\n",
       "    }\n",
       "\n",
       "    .dataframe tbody tr th {\n",
       "        vertical-align: top;\n",
       "    }\n",
       "\n",
       "    .dataframe thead th {\n",
       "        text-align: right;\n",
       "    }\n",
       "</style>\n",
       "<table border=\"1\" class=\"dataframe\">\n",
       "  <thead>\n",
       "    <tr style=\"text-align: right;\">\n",
       "      <th></th>\n",
       "      <th>id_prod</th>\n",
       "      <th>price</th>\n",
       "      <th>categ</th>\n",
       "    </tr>\n",
       "  </thead>\n",
       "  <tbody>\n",
       "    <tr>\n",
       "      <th>0</th>\n",
       "      <td>0_1421</td>\n",
       "      <td>19.99</td>\n",
       "      <td>0</td>\n",
       "    </tr>\n",
       "    <tr>\n",
       "      <th>1</th>\n",
       "      <td>0_1368</td>\n",
       "      <td>5.13</td>\n",
       "      <td>0</td>\n",
       "    </tr>\n",
       "    <tr>\n",
       "      <th>2</th>\n",
       "      <td>0_731</td>\n",
       "      <td>17.99</td>\n",
       "      <td>0</td>\n",
       "    </tr>\n",
       "    <tr>\n",
       "      <th>3</th>\n",
       "      <td>1_587</td>\n",
       "      <td>4.99</td>\n",
       "      <td>1</td>\n",
       "    </tr>\n",
       "    <tr>\n",
       "      <th>4</th>\n",
       "      <td>0_1507</td>\n",
       "      <td>3.99</td>\n",
       "      <td>0</td>\n",
       "    </tr>\n",
       "  </tbody>\n",
       "</table>\n",
       "</div>"
      ],
      "text/plain": [
       "  id_prod  price  categ\n",
       "0  0_1421  19.99      0\n",
       "1  0_1368   5.13      0\n",
       "2   0_731  17.99      0\n",
       "3   1_587   4.99      1\n",
       "4  0_1507   3.99      0"
      ]
     },
     "execution_count": 16,
     "metadata": {},
     "output_type": "execute_result"
    }
   ],
   "source": [
    "produits = pd.read_csv('products.csv')\n",
    "produits.head()"
   ]
  },
  {
   "cell_type": "code",
   "execution_count": 17,
   "metadata": {},
   "outputs": [
    {
     "data": {
      "text/plain": [
       "(3287, 3)"
      ]
     },
     "execution_count": 17,
     "metadata": {},
     "output_type": "execute_result"
    }
   ],
   "source": [
    "produits.shape"
   ]
  },
  {
   "cell_type": "code",
   "execution_count": 18,
   "metadata": {},
   "outputs": [
    {
     "name": "stdout",
     "output_type": "stream",
     "text": [
      "\"id_prod\": 0\n",
      "\"price\": 0\n",
      "\"categ\": 0\n"
     ]
    }
   ],
   "source": [
    "# Nombre de valeurs manquantes détectées par colonne:\n",
    "for col in produits.columns:\n",
    "    print('\"%s\": %i' %(col, produits[col].isnull().sum()))   "
   ]
  },
  {
   "cell_type": "code",
   "execution_count": 19,
   "metadata": {},
   "outputs": [
    {
     "data": {
      "text/plain": [
       "0"
      ]
     },
     "execution_count": 19,
     "metadata": {},
     "output_type": "execute_result"
    }
   ],
   "source": [
    "# Nombre de doublons:\n",
    "produits.duplicated().sum()"
   ]
  },
  {
   "cell_type": "code",
   "execution_count": 20,
   "metadata": {},
   "outputs": [],
   "source": [
    "def analyse_id_produits(identifiant):\n",
    "    if re.match(r'^[012]\\_(\\d+)$', str(identifiant)) is None:\n",
    "        print(produits.loc[produits.id_prod == identifiant])\n",
    "        print()\n",
    "        print('\"{0}\" n\\'est pas au bon format.'.format(identifiant))\n",
    "        print()\n",
    "    else:\n",
    "        return identifiant"
   ]
  },
  {
   "cell_type": "code",
   "execution_count": 21,
   "metadata": {
    "scrolled": false
   },
   "outputs": [
    {
     "name": "stdout",
     "output_type": "stream",
     "text": [
      "    id_prod  price  categ\n",
      "731     T_0   -1.0      0\n",
      "\n",
      "\"T_0\" n'est pas au bon format.\n",
      "\n"
     ]
    }
   ],
   "source": [
    "produits.id_prod = produits.id_prod.apply(analyse_id_produits)"
   ]
  },
  {
   "cell_type": "code",
   "execution_count": 22,
   "metadata": {},
   "outputs": [
    {
     "data": {
      "text/html": [
       "<div>\n",
       "<style scoped>\n",
       "    .dataframe tbody tr th:only-of-type {\n",
       "        vertical-align: middle;\n",
       "    }\n",
       "\n",
       "    .dataframe tbody tr th {\n",
       "        vertical-align: top;\n",
       "    }\n",
       "\n",
       "    .dataframe thead th {\n",
       "        text-align: right;\n",
       "    }\n",
       "</style>\n",
       "<table border=\"1\" class=\"dataframe\">\n",
       "  <thead>\n",
       "    <tr style=\"text-align: right;\">\n",
       "      <th></th>\n",
       "      <th>id_prod</th>\n",
       "      <th>price</th>\n",
       "      <th>categ</th>\n",
       "    </tr>\n",
       "  </thead>\n",
       "  <tbody>\n",
       "    <tr>\n",
       "      <th>730</th>\n",
       "      <td>0_219</td>\n",
       "      <td>13.99</td>\n",
       "      <td>0</td>\n",
       "    </tr>\n",
       "    <tr>\n",
       "      <th>732</th>\n",
       "      <td>0_407</td>\n",
       "      <td>15.99</td>\n",
       "      <td>0</td>\n",
       "    </tr>\n",
       "  </tbody>\n",
       "</table>\n",
       "</div>"
      ],
      "text/plain": [
       "    id_prod  price  categ\n",
       "730   0_219  13.99      0\n",
       "732   0_407  15.99      0"
      ]
     },
     "execution_count": 22,
     "metadata": {},
     "output_type": "execute_result"
    }
   ],
   "source": [
    "produits.drop(731, inplace = True)\n",
    "produits.loc[730:732]"
   ]
  },
  {
   "cell_type": "code",
   "execution_count": 23,
   "metadata": {},
   "outputs": [],
   "source": [
    "def analyse_price(prix):\n",
    "    if re.match(r'^(\\d+)\\.(\\d+)$', str(prix)) is None:\n",
    "        print(produits.loc[produits.price == prix])\n",
    "        print()\n",
    "        print('\"{0}\" n\\'est pas reconnue. Il sera ignoré.'.format(prix))\n",
    "        return np.NaN\n",
    "    else:\n",
    "        return prix"
   ]
  },
  {
   "cell_type": "code",
   "execution_count": 24,
   "metadata": {},
   "outputs": [],
   "source": [
    "produits.price = produits.price.apply(analyse_price) # RAS"
   ]
  },
  {
   "cell_type": "code",
   "execution_count": 25,
   "metadata": {},
   "outputs": [],
   "source": [
    "# Création d'une fonction qui vérifie la concordance de l'identifiant-produit avec son numéro de catégorie:\n",
    "def lien_id_produits_categ(identifiant, numero):\n",
    "    difference = int(identifiant[0]) - numero\n",
    "    if difference != 0:\n",
    "        local = produits.loc[produits.id_prod == identifiant]\n",
    "        if local.index.notnull().any():\n",
    "            print(local)\n",
    "            print()\n",
    "            proposition = str(input('\"{0}\" n\\'est pas conforme. Corriger (c)? Réponse (o/n): '.format(identifiant)))\n",
    "            print()\n",
    "            trigger = True\n",
    "            while proposition not in ['o', 'n']:\n",
    "                proposition = str(input('\"{0}\" n\\'est pas conforme. Corriger (c)? Réponse (o/n): '.format(identifiant)))\n",
    "                print()\n",
    "            if proposition == 'o':\n",
    "                trigger = False\n",
    "                correction = str(numero)+identifiant[1:]\n",
    "                print('Corrigé!')\n",
    "                print()\n",
    "                return correction\n",
    "            elif proposition == 'n':\n",
    "                return identifiant\n",
    "    else:\n",
    "        return identifiant"
   ]
  },
  {
   "cell_type": "code",
   "execution_count": 26,
   "metadata": {},
   "outputs": [],
   "source": [
    "produits.id_prod = [lien_id_produits_categ(x, y) for x, y in zip(produits.id_prod, produits.categ)] # RAS"
   ]
  },
  {
   "cell_type": "code",
   "execution_count": 27,
   "metadata": {},
   "outputs": [
    {
     "data": {
      "text/plain": [
       "(3286, 3)"
      ]
     },
     "execution_count": 27,
     "metadata": {},
     "output_type": "execute_result"
    }
   ],
   "source": [
    "produits.shape"
   ]
  },
  {
   "cell_type": "code",
   "execution_count": 28,
   "metadata": {},
   "outputs": [],
   "source": [
    "produits_ok = produits.copy() # Sauvegarde"
   ]
  },
  {
   "cell_type": "markdown",
   "metadata": {},
   "source": [
    "##  <span style='color:orange'>3. Table \"ventes\"<a name=\"M13\"></a>"
   ]
  },
  {
   "cell_type": "code",
   "execution_count": 29,
   "metadata": {},
   "outputs": [
    {
     "data": {
      "text/html": [
       "<div>\n",
       "<style scoped>\n",
       "    .dataframe tbody tr th:only-of-type {\n",
       "        vertical-align: middle;\n",
       "    }\n",
       "\n",
       "    .dataframe tbody tr th {\n",
       "        vertical-align: top;\n",
       "    }\n",
       "\n",
       "    .dataframe thead th {\n",
       "        text-align: right;\n",
       "    }\n",
       "</style>\n",
       "<table border=\"1\" class=\"dataframe\">\n",
       "  <thead>\n",
       "    <tr style=\"text-align: right;\">\n",
       "      <th></th>\n",
       "      <th>id_prod</th>\n",
       "      <th>date</th>\n",
       "      <th>session_id</th>\n",
       "      <th>client_id</th>\n",
       "    </tr>\n",
       "  </thead>\n",
       "  <tbody>\n",
       "    <tr>\n",
       "      <th>0</th>\n",
       "      <td>0_1483</td>\n",
       "      <td>2021-04-10 18:37:28.723910</td>\n",
       "      <td>s_18746</td>\n",
       "      <td>c_4450</td>\n",
       "    </tr>\n",
       "    <tr>\n",
       "      <th>1</th>\n",
       "      <td>2_226</td>\n",
       "      <td>2022-02-03 01:55:53.276402</td>\n",
       "      <td>s_159142</td>\n",
       "      <td>c_277</td>\n",
       "    </tr>\n",
       "    <tr>\n",
       "      <th>2</th>\n",
       "      <td>1_374</td>\n",
       "      <td>2021-09-23 15:13:46.938559</td>\n",
       "      <td>s_94290</td>\n",
       "      <td>c_4270</td>\n",
       "    </tr>\n",
       "    <tr>\n",
       "      <th>3</th>\n",
       "      <td>0_2186</td>\n",
       "      <td>2021-10-17 03:27:18.783634</td>\n",
       "      <td>s_105936</td>\n",
       "      <td>c_4597</td>\n",
       "    </tr>\n",
       "    <tr>\n",
       "      <th>4</th>\n",
       "      <td>0_1351</td>\n",
       "      <td>2021-07-17 20:34:25.800563</td>\n",
       "      <td>s_63642</td>\n",
       "      <td>c_1242</td>\n",
       "    </tr>\n",
       "  </tbody>\n",
       "</table>\n",
       "</div>"
      ],
      "text/plain": [
       "  id_prod                        date session_id client_id\n",
       "0  0_1483  2021-04-10 18:37:28.723910    s_18746    c_4450\n",
       "1   2_226  2022-02-03 01:55:53.276402   s_159142     c_277\n",
       "2   1_374  2021-09-23 15:13:46.938559    s_94290    c_4270\n",
       "3  0_2186  2021-10-17 03:27:18.783634   s_105936    c_4597\n",
       "4  0_1351  2021-07-17 20:34:25.800563    s_63642    c_1242"
      ]
     },
     "execution_count": 29,
     "metadata": {},
     "output_type": "execute_result"
    }
   ],
   "source": [
    "ventes = pd.read_csv('transactions.csv')\n",
    "ventes.head()"
   ]
  },
  {
   "cell_type": "code",
   "execution_count": 30,
   "metadata": {},
   "outputs": [
    {
     "data": {
      "text/plain": [
       "(337016, 4)"
      ]
     },
     "execution_count": 30,
     "metadata": {},
     "output_type": "execute_result"
    }
   ],
   "source": [
    "ventes.shape"
   ]
  },
  {
   "cell_type": "code",
   "execution_count": 31,
   "metadata": {},
   "outputs": [
    {
     "name": "stdout",
     "output_type": "stream",
     "text": [
      "\"id_prod\": 0\n",
      "\"date\": 0\n",
      "\"session_id\": 0\n",
      "\"client_id\": 0\n"
     ]
    }
   ],
   "source": [
    "# Nombre de valeurs manquantes détectées par colonne:\n",
    "for col in ventes.columns:\n",
    "    print('\"%s\": %i' %(col, ventes[col].isnull().sum()))"
   ]
  },
  {
   "cell_type": "code",
   "execution_count": 32,
   "metadata": {},
   "outputs": [
    {
     "data": {
      "text/plain": [
       "126"
      ]
     },
     "execution_count": 32,
     "metadata": {},
     "output_type": "execute_result"
    }
   ],
   "source": [
    "# Nombre de doublons:\n",
    "ventes.duplicated().sum()"
   ]
  },
  {
   "cell_type": "code",
   "execution_count": 33,
   "metadata": {},
   "outputs": [
    {
     "data": {
      "text/html": [
       "<div>\n",
       "<style scoped>\n",
       "    .dataframe tbody tr th:only-of-type {\n",
       "        vertical-align: middle;\n",
       "    }\n",
       "\n",
       "    .dataframe tbody tr th {\n",
       "        vertical-align: top;\n",
       "    }\n",
       "\n",
       "    .dataframe thead th {\n",
       "        text-align: right;\n",
       "    }\n",
       "</style>\n",
       "<table border=\"1\" class=\"dataframe\">\n",
       "  <thead>\n",
       "    <tr style=\"text-align: right;\">\n",
       "      <th></th>\n",
       "      <th>id_prod</th>\n",
       "      <th>date</th>\n",
       "      <th>session_id</th>\n",
       "      <th>client_id</th>\n",
       "    </tr>\n",
       "  </thead>\n",
       "  <tbody>\n",
       "    <tr>\n",
       "      <th>1431</th>\n",
       "      <td>T_0</td>\n",
       "      <td>test_2021-03-01 02:30:02.237420</td>\n",
       "      <td>s_0</td>\n",
       "      <td>ct_1</td>\n",
       "    </tr>\n",
       "    <tr>\n",
       "      <th>2895</th>\n",
       "      <td>T_0</td>\n",
       "      <td>test_2021-03-01 02:30:02.237414</td>\n",
       "      <td>s_0</td>\n",
       "      <td>ct_1</td>\n",
       "    </tr>\n",
       "    <tr>\n",
       "      <th>5955</th>\n",
       "      <td>T_0</td>\n",
       "      <td>test_2021-03-01 02:30:02.237441</td>\n",
       "      <td>s_0</td>\n",
       "      <td>ct_0</td>\n",
       "    </tr>\n",
       "    <tr>\n",
       "      <th>7283</th>\n",
       "      <td>T_0</td>\n",
       "      <td>test_2021-03-01 02:30:02.237434</td>\n",
       "      <td>s_0</td>\n",
       "      <td>ct_1</td>\n",
       "    </tr>\n",
       "    <tr>\n",
       "      <th>13745</th>\n",
       "      <td>T_0</td>\n",
       "      <td>test_2021-03-01 02:30:02.237443</td>\n",
       "      <td>s_0</td>\n",
       "      <td>ct_0</td>\n",
       "    </tr>\n",
       "    <tr>\n",
       "      <th>20470</th>\n",
       "      <td>T_0</td>\n",
       "      <td>test_2021-03-01 02:30:02.237442</td>\n",
       "      <td>s_0</td>\n",
       "      <td>ct_0</td>\n",
       "    </tr>\n",
       "    <tr>\n",
       "      <th>22347</th>\n",
       "      <td>T_0</td>\n",
       "      <td>test_2021-03-01 02:30:02.237412</td>\n",
       "      <td>s_0</td>\n",
       "      <td>ct_1</td>\n",
       "    </tr>\n",
       "    <tr>\n",
       "      <th>26359</th>\n",
       "      <td>T_0</td>\n",
       "      <td>test_2021-03-01 02:30:02.237439</td>\n",
       "      <td>s_0</td>\n",
       "      <td>ct_1</td>\n",
       "    </tr>\n",
       "    <tr>\n",
       "      <th>26407</th>\n",
       "      <td>T_0</td>\n",
       "      <td>test_2021-03-01 02:30:02.237426</td>\n",
       "      <td>s_0</td>\n",
       "      <td>ct_0</td>\n",
       "    </tr>\n",
       "    <tr>\n",
       "      <th>26814</th>\n",
       "      <td>T_0</td>\n",
       "      <td>test_2021-03-01 02:30:02.237447</td>\n",
       "      <td>s_0</td>\n",
       "      <td>ct_1</td>\n",
       "    </tr>\n",
       "    <tr>\n",
       "      <th>32675</th>\n",
       "      <td>T_0</td>\n",
       "      <td>test_2021-03-01 02:30:02.237438</td>\n",
       "      <td>s_0</td>\n",
       "      <td>ct_0</td>\n",
       "    </tr>\n",
       "    <tr>\n",
       "      <th>34387</th>\n",
       "      <td>T_0</td>\n",
       "      <td>test_2021-03-01 02:30:02.237443</td>\n",
       "      <td>s_0</td>\n",
       "      <td>ct_0</td>\n",
       "    </tr>\n",
       "    <tr>\n",
       "      <th>36700</th>\n",
       "      <td>T_0</td>\n",
       "      <td>test_2021-03-01 02:30:02.237437</td>\n",
       "      <td>s_0</td>\n",
       "      <td>ct_0</td>\n",
       "    </tr>\n",
       "    <tr>\n",
       "      <th>39224</th>\n",
       "      <td>T_0</td>\n",
       "      <td>test_2021-03-01 02:30:02.237429</td>\n",
       "      <td>s_0</td>\n",
       "      <td>ct_0</td>\n",
       "    </tr>\n",
       "    <tr>\n",
       "      <th>40476</th>\n",
       "      <td>T_0</td>\n",
       "      <td>test_2021-03-01 02:30:02.237435</td>\n",
       "      <td>s_0</td>\n",
       "      <td>ct_0</td>\n",
       "    </tr>\n",
       "    <tr>\n",
       "      <th>47170</th>\n",
       "      <td>T_0</td>\n",
       "      <td>test_2021-03-01 02:30:02.237430</td>\n",
       "      <td>s_0</td>\n",
       "      <td>ct_1</td>\n",
       "    </tr>\n",
       "    <tr>\n",
       "      <th>48425</th>\n",
       "      <td>T_0</td>\n",
       "      <td>test_2021-03-01 02:30:02.237443</td>\n",
       "      <td>s_0</td>\n",
       "      <td>ct_1</td>\n",
       "    </tr>\n",
       "    <tr>\n",
       "      <th>54813</th>\n",
       "      <td>T_0</td>\n",
       "      <td>test_2021-03-01 02:30:02.237412</td>\n",
       "      <td>s_0</td>\n",
       "      <td>ct_1</td>\n",
       "    </tr>\n",
       "    <tr>\n",
       "      <th>56373</th>\n",
       "      <td>T_0</td>\n",
       "      <td>test_2021-03-01 02:30:02.237446</td>\n",
       "      <td>s_0</td>\n",
       "      <td>ct_0</td>\n",
       "    </tr>\n",
       "    <tr>\n",
       "      <th>57682</th>\n",
       "      <td>T_0</td>\n",
       "      <td>test_2021-03-01 02:30:02.237419</td>\n",
       "      <td>s_0</td>\n",
       "      <td>ct_0</td>\n",
       "    </tr>\n",
       "    <tr>\n",
       "      <th>57755</th>\n",
       "      <td>T_0</td>\n",
       "      <td>test_2021-03-01 02:30:02.237413</td>\n",
       "      <td>s_0</td>\n",
       "      <td>ct_1</td>\n",
       "    </tr>\n",
       "    <tr>\n",
       "      <th>58802</th>\n",
       "      <td>T_0</td>\n",
       "      <td>test_2021-03-01 02:30:02.237429</td>\n",
       "      <td>s_0</td>\n",
       "      <td>ct_0</td>\n",
       "    </tr>\n",
       "    <tr>\n",
       "      <th>59043</th>\n",
       "      <td>T_0</td>\n",
       "      <td>test_2021-03-01 02:30:02.237413</td>\n",
       "      <td>s_0</td>\n",
       "      <td>ct_0</td>\n",
       "    </tr>\n",
       "    <tr>\n",
       "      <th>59422</th>\n",
       "      <td>T_0</td>\n",
       "      <td>test_2021-03-01 02:30:02.237445</td>\n",
       "      <td>s_0</td>\n",
       "      <td>ct_0</td>\n",
       "    </tr>\n",
       "    <tr>\n",
       "      <th>60170</th>\n",
       "      <td>T_0</td>\n",
       "      <td>test_2021-03-01 02:30:02.237446</td>\n",
       "      <td>s_0</td>\n",
       "      <td>ct_0</td>\n",
       "    </tr>\n",
       "    <tr>\n",
       "      <th>60485</th>\n",
       "      <td>T_0</td>\n",
       "      <td>test_2021-03-01 02:30:02.237438</td>\n",
       "      <td>s_0</td>\n",
       "      <td>ct_1</td>\n",
       "    </tr>\n",
       "    <tr>\n",
       "      <th>62365</th>\n",
       "      <td>T_0</td>\n",
       "      <td>test_2021-03-01 02:30:02.237412</td>\n",
       "      <td>s_0</td>\n",
       "      <td>ct_1</td>\n",
       "    </tr>\n",
       "    <tr>\n",
       "      <th>70341</th>\n",
       "      <td>T_0</td>\n",
       "      <td>test_2021-03-01 02:30:02.237424</td>\n",
       "      <td>s_0</td>\n",
       "      <td>ct_1</td>\n",
       "    </tr>\n",
       "    <tr>\n",
       "      <th>71097</th>\n",
       "      <td>T_0</td>\n",
       "      <td>test_2021-03-01 02:30:02.237446</td>\n",
       "      <td>s_0</td>\n",
       "      <td>ct_0</td>\n",
       "    </tr>\n",
       "    <tr>\n",
       "      <th>72068</th>\n",
       "      <td>T_0</td>\n",
       "      <td>test_2021-03-01 02:30:02.237427</td>\n",
       "      <td>s_0</td>\n",
       "      <td>ct_0</td>\n",
       "    </tr>\n",
       "    <tr>\n",
       "      <th>...</th>\n",
       "      <td>...</td>\n",
       "      <td>...</td>\n",
       "      <td>...</td>\n",
       "      <td>...</td>\n",
       "    </tr>\n",
       "    <tr>\n",
       "      <th>195812</th>\n",
       "      <td>T_0</td>\n",
       "      <td>test_2021-03-01 02:30:02.237426</td>\n",
       "      <td>s_0</td>\n",
       "      <td>ct_0</td>\n",
       "    </tr>\n",
       "    <tr>\n",
       "      <th>201477</th>\n",
       "      <td>T_0</td>\n",
       "      <td>test_2021-03-01 02:30:02.237428</td>\n",
       "      <td>s_0</td>\n",
       "      <td>ct_0</td>\n",
       "    </tr>\n",
       "    <tr>\n",
       "      <th>203237</th>\n",
       "      <td>T_0</td>\n",
       "      <td>test_2021-03-01 02:30:02.237434</td>\n",
       "      <td>s_0</td>\n",
       "      <td>ct_1</td>\n",
       "    </tr>\n",
       "    <tr>\n",
       "      <th>203239</th>\n",
       "      <td>T_0</td>\n",
       "      <td>test_2021-03-01 02:30:02.237449</td>\n",
       "      <td>s_0</td>\n",
       "      <td>ct_0</td>\n",
       "    </tr>\n",
       "    <tr>\n",
       "      <th>206261</th>\n",
       "      <td>T_0</td>\n",
       "      <td>test_2021-03-01 02:30:02.237419</td>\n",
       "      <td>s_0</td>\n",
       "      <td>ct_0</td>\n",
       "    </tr>\n",
       "    <tr>\n",
       "      <th>207130</th>\n",
       "      <td>T_0</td>\n",
       "      <td>test_2021-03-01 02:30:02.237446</td>\n",
       "      <td>s_0</td>\n",
       "      <td>ct_0</td>\n",
       "    </tr>\n",
       "    <tr>\n",
       "      <th>210294</th>\n",
       "      <td>T_0</td>\n",
       "      <td>test_2021-03-01 02:30:02.237432</td>\n",
       "      <td>s_0</td>\n",
       "      <td>ct_0</td>\n",
       "    </tr>\n",
       "    <tr>\n",
       "      <th>215800</th>\n",
       "      <td>T_0</td>\n",
       "      <td>test_2021-03-01 02:30:02.237436</td>\n",
       "      <td>s_0</td>\n",
       "      <td>ct_0</td>\n",
       "    </tr>\n",
       "    <tr>\n",
       "      <th>220105</th>\n",
       "      <td>T_0</td>\n",
       "      <td>test_2021-03-01 02:30:02.237444</td>\n",
       "      <td>s_0</td>\n",
       "      <td>ct_1</td>\n",
       "    </tr>\n",
       "    <tr>\n",
       "      <th>221500</th>\n",
       "      <td>T_0</td>\n",
       "      <td>test_2021-03-01 02:30:02.237417</td>\n",
       "      <td>s_0</td>\n",
       "      <td>ct_0</td>\n",
       "    </tr>\n",
       "    <tr>\n",
       "      <th>221958</th>\n",
       "      <td>T_0</td>\n",
       "      <td>test_2021-03-01 02:30:02.237428</td>\n",
       "      <td>s_0</td>\n",
       "      <td>ct_0</td>\n",
       "    </tr>\n",
       "    <tr>\n",
       "      <th>227121</th>\n",
       "      <td>T_0</td>\n",
       "      <td>test_2021-03-01 02:30:02.237421</td>\n",
       "      <td>s_0</td>\n",
       "      <td>ct_1</td>\n",
       "    </tr>\n",
       "    <tr>\n",
       "      <th>230316</th>\n",
       "      <td>T_0</td>\n",
       "      <td>test_2021-03-01 02:30:02.237430</td>\n",
       "      <td>s_0</td>\n",
       "      <td>ct_1</td>\n",
       "    </tr>\n",
       "    <tr>\n",
       "      <th>234639</th>\n",
       "      <td>T_0</td>\n",
       "      <td>test_2021-03-01 02:30:02.237416</td>\n",
       "      <td>s_0</td>\n",
       "      <td>ct_0</td>\n",
       "    </tr>\n",
       "    <tr>\n",
       "      <th>242788</th>\n",
       "      <td>T_0</td>\n",
       "      <td>test_2021-03-01 02:30:02.237420</td>\n",
       "      <td>s_0</td>\n",
       "      <td>ct_0</td>\n",
       "    </tr>\n",
       "    <tr>\n",
       "      <th>246350</th>\n",
       "      <td>T_0</td>\n",
       "      <td>test_2021-03-01 02:30:02.237444</td>\n",
       "      <td>s_0</td>\n",
       "      <td>ct_0</td>\n",
       "    </tr>\n",
       "    <tr>\n",
       "      <th>248762</th>\n",
       "      <td>T_0</td>\n",
       "      <td>test_2021-03-01 02:30:02.237444</td>\n",
       "      <td>s_0</td>\n",
       "      <td>ct_0</td>\n",
       "    </tr>\n",
       "    <tr>\n",
       "      <th>250067</th>\n",
       "      <td>T_0</td>\n",
       "      <td>test_2021-03-01 02:30:02.237444</td>\n",
       "      <td>s_0</td>\n",
       "      <td>ct_1</td>\n",
       "    </tr>\n",
       "    <tr>\n",
       "      <th>250656</th>\n",
       "      <td>T_0</td>\n",
       "      <td>test_2021-03-01 02:30:02.237431</td>\n",
       "      <td>s_0</td>\n",
       "      <td>ct_1</td>\n",
       "    </tr>\n",
       "    <tr>\n",
       "      <th>252354</th>\n",
       "      <td>T_0</td>\n",
       "      <td>test_2021-03-01 02:30:02.237440</td>\n",
       "      <td>s_0</td>\n",
       "      <td>ct_1</td>\n",
       "    </tr>\n",
       "    <tr>\n",
       "      <th>254363</th>\n",
       "      <td>T_0</td>\n",
       "      <td>test_2021-03-01 02:30:02.237428</td>\n",
       "      <td>s_0</td>\n",
       "      <td>ct_1</td>\n",
       "    </tr>\n",
       "    <tr>\n",
       "      <th>264317</th>\n",
       "      <td>T_0</td>\n",
       "      <td>test_2021-03-01 02:30:02.237416</td>\n",
       "      <td>s_0</td>\n",
       "      <td>ct_1</td>\n",
       "    </tr>\n",
       "    <tr>\n",
       "      <th>265206</th>\n",
       "      <td>T_0</td>\n",
       "      <td>test_2021-03-01 02:30:02.237427</td>\n",
       "      <td>s_0</td>\n",
       "      <td>ct_0</td>\n",
       "    </tr>\n",
       "    <tr>\n",
       "      <th>267387</th>\n",
       "      <td>T_0</td>\n",
       "      <td>test_2021-03-01 02:30:02.237428</td>\n",
       "      <td>s_0</td>\n",
       "      <td>ct_0</td>\n",
       "    </tr>\n",
       "    <tr>\n",
       "      <th>267907</th>\n",
       "      <td>T_0</td>\n",
       "      <td>test_2021-03-01 02:30:02.237413</td>\n",
       "      <td>s_0</td>\n",
       "      <td>ct_0</td>\n",
       "    </tr>\n",
       "    <tr>\n",
       "      <th>275002</th>\n",
       "      <td>T_0</td>\n",
       "      <td>test_2021-03-01 02:30:02.237413</td>\n",
       "      <td>s_0</td>\n",
       "      <td>ct_0</td>\n",
       "    </tr>\n",
       "    <tr>\n",
       "      <th>280690</th>\n",
       "      <td>T_0</td>\n",
       "      <td>test_2021-03-01 02:30:02.237413</td>\n",
       "      <td>s_0</td>\n",
       "      <td>ct_0</td>\n",
       "    </tr>\n",
       "    <tr>\n",
       "      <th>288918</th>\n",
       "      <td>T_0</td>\n",
       "      <td>test_2021-03-01 02:30:02.237415</td>\n",
       "      <td>s_0</td>\n",
       "      <td>ct_1</td>\n",
       "    </tr>\n",
       "    <tr>\n",
       "      <th>298399</th>\n",
       "      <td>T_0</td>\n",
       "      <td>test_2021-03-01 02:30:02.237423</td>\n",
       "      <td>s_0</td>\n",
       "      <td>ct_1</td>\n",
       "    </tr>\n",
       "    <tr>\n",
       "      <th>311263</th>\n",
       "      <td>T_0</td>\n",
       "      <td>test_2021-03-01 02:30:02.237438</td>\n",
       "      <td>s_0</td>\n",
       "      <td>ct_0</td>\n",
       "    </tr>\n",
       "  </tbody>\n",
       "</table>\n",
       "<p>126 rows × 4 columns</p>\n",
       "</div>"
      ],
      "text/plain": [
       "       id_prod                             date session_id client_id\n",
       "1431       T_0  test_2021-03-01 02:30:02.237420        s_0      ct_1\n",
       "2895       T_0  test_2021-03-01 02:30:02.237414        s_0      ct_1\n",
       "5955       T_0  test_2021-03-01 02:30:02.237441        s_0      ct_0\n",
       "7283       T_0  test_2021-03-01 02:30:02.237434        s_0      ct_1\n",
       "13745      T_0  test_2021-03-01 02:30:02.237443        s_0      ct_0\n",
       "20470      T_0  test_2021-03-01 02:30:02.237442        s_0      ct_0\n",
       "22347      T_0  test_2021-03-01 02:30:02.237412        s_0      ct_1\n",
       "26359      T_0  test_2021-03-01 02:30:02.237439        s_0      ct_1\n",
       "26407      T_0  test_2021-03-01 02:30:02.237426        s_0      ct_0\n",
       "26814      T_0  test_2021-03-01 02:30:02.237447        s_0      ct_1\n",
       "32675      T_0  test_2021-03-01 02:30:02.237438        s_0      ct_0\n",
       "34387      T_0  test_2021-03-01 02:30:02.237443        s_0      ct_0\n",
       "36700      T_0  test_2021-03-01 02:30:02.237437        s_0      ct_0\n",
       "39224      T_0  test_2021-03-01 02:30:02.237429        s_0      ct_0\n",
       "40476      T_0  test_2021-03-01 02:30:02.237435        s_0      ct_0\n",
       "47170      T_0  test_2021-03-01 02:30:02.237430        s_0      ct_1\n",
       "48425      T_0  test_2021-03-01 02:30:02.237443        s_0      ct_1\n",
       "54813      T_0  test_2021-03-01 02:30:02.237412        s_0      ct_1\n",
       "56373      T_0  test_2021-03-01 02:30:02.237446        s_0      ct_0\n",
       "57682      T_0  test_2021-03-01 02:30:02.237419        s_0      ct_0\n",
       "57755      T_0  test_2021-03-01 02:30:02.237413        s_0      ct_1\n",
       "58802      T_0  test_2021-03-01 02:30:02.237429        s_0      ct_0\n",
       "59043      T_0  test_2021-03-01 02:30:02.237413        s_0      ct_0\n",
       "59422      T_0  test_2021-03-01 02:30:02.237445        s_0      ct_0\n",
       "60170      T_0  test_2021-03-01 02:30:02.237446        s_0      ct_0\n",
       "60485      T_0  test_2021-03-01 02:30:02.237438        s_0      ct_1\n",
       "62365      T_0  test_2021-03-01 02:30:02.237412        s_0      ct_1\n",
       "70341      T_0  test_2021-03-01 02:30:02.237424        s_0      ct_1\n",
       "71097      T_0  test_2021-03-01 02:30:02.237446        s_0      ct_0\n",
       "72068      T_0  test_2021-03-01 02:30:02.237427        s_0      ct_0\n",
       "...        ...                              ...        ...       ...\n",
       "195812     T_0  test_2021-03-01 02:30:02.237426        s_0      ct_0\n",
       "201477     T_0  test_2021-03-01 02:30:02.237428        s_0      ct_0\n",
       "203237     T_0  test_2021-03-01 02:30:02.237434        s_0      ct_1\n",
       "203239     T_0  test_2021-03-01 02:30:02.237449        s_0      ct_0\n",
       "206261     T_0  test_2021-03-01 02:30:02.237419        s_0      ct_0\n",
       "207130     T_0  test_2021-03-01 02:30:02.237446        s_0      ct_0\n",
       "210294     T_0  test_2021-03-01 02:30:02.237432        s_0      ct_0\n",
       "215800     T_0  test_2021-03-01 02:30:02.237436        s_0      ct_0\n",
       "220105     T_0  test_2021-03-01 02:30:02.237444        s_0      ct_1\n",
       "221500     T_0  test_2021-03-01 02:30:02.237417        s_0      ct_0\n",
       "221958     T_0  test_2021-03-01 02:30:02.237428        s_0      ct_0\n",
       "227121     T_0  test_2021-03-01 02:30:02.237421        s_0      ct_1\n",
       "230316     T_0  test_2021-03-01 02:30:02.237430        s_0      ct_1\n",
       "234639     T_0  test_2021-03-01 02:30:02.237416        s_0      ct_0\n",
       "242788     T_0  test_2021-03-01 02:30:02.237420        s_0      ct_0\n",
       "246350     T_0  test_2021-03-01 02:30:02.237444        s_0      ct_0\n",
       "248762     T_0  test_2021-03-01 02:30:02.237444        s_0      ct_0\n",
       "250067     T_0  test_2021-03-01 02:30:02.237444        s_0      ct_1\n",
       "250656     T_0  test_2021-03-01 02:30:02.237431        s_0      ct_1\n",
       "252354     T_0  test_2021-03-01 02:30:02.237440        s_0      ct_1\n",
       "254363     T_0  test_2021-03-01 02:30:02.237428        s_0      ct_1\n",
       "264317     T_0  test_2021-03-01 02:30:02.237416        s_0      ct_1\n",
       "265206     T_0  test_2021-03-01 02:30:02.237427        s_0      ct_0\n",
       "267387     T_0  test_2021-03-01 02:30:02.237428        s_0      ct_0\n",
       "267907     T_0  test_2021-03-01 02:30:02.237413        s_0      ct_0\n",
       "275002     T_0  test_2021-03-01 02:30:02.237413        s_0      ct_0\n",
       "280690     T_0  test_2021-03-01 02:30:02.237413        s_0      ct_0\n",
       "288918     T_0  test_2021-03-01 02:30:02.237415        s_0      ct_1\n",
       "298399     T_0  test_2021-03-01 02:30:02.237423        s_0      ct_1\n",
       "311263     T_0  test_2021-03-01 02:30:02.237438        s_0      ct_0\n",
       "\n",
       "[126 rows x 4 columns]"
      ]
     },
     "execution_count": 33,
     "metadata": {},
     "output_type": "execute_result"
    }
   ],
   "source": [
    "# On affiche les doublons:\n",
    "ventes[ventes.duplicated(keep = 'last')]"
   ]
  },
  {
   "cell_type": "code",
   "execution_count": 34,
   "metadata": {},
   "outputs": [
    {
     "data": {
      "text/plain": [
       "(336890, 4)"
      ]
     },
     "execution_count": 34,
     "metadata": {},
     "output_type": "execute_result"
    }
   ],
   "source": [
    "# Suppression des doublons:\n",
    "ventes.drop_duplicates(inplace = True)\n",
    "ventes.shape"
   ]
  },
  {
   "cell_type": "code",
   "execution_count": 35,
   "metadata": {},
   "outputs": [],
   "source": [
    "def analyse_prod_ventes(produit):\n",
    "    if re.match(r'^[012]\\_(\\d+)$', str(produit)) is None:\n",
    "        local = ventes.loc[ventes.id_prod == produit]\n",
    "        if local.index.notnull().any():\n",
    "            print(local)\n",
    "            print()\n",
    "            print('\"{0}\" n\\'est pas au bon format. Il sera supprimé.'.format(produit))\n",
    "            print()\n",
    "            ventes.drop(local.index, inplace = True)\n",
    "            print('Supprimé!')\n",
    "            print()\n",
    "    else:\n",
    "        return produit"
   ]
  },
  {
   "cell_type": "code",
   "execution_count": 36,
   "metadata": {
    "scrolled": false
   },
   "outputs": [
    {
     "name": "stdout",
     "output_type": "stream",
     "text": [
      "       id_prod                             date session_id client_id\n",
      "1431       T_0  test_2021-03-01 02:30:02.237420        s_0      ct_1\n",
      "2365       T_0  test_2021-03-01 02:30:02.237446        s_0      ct_1\n",
      "2895       T_0  test_2021-03-01 02:30:02.237414        s_0      ct_1\n",
      "5955       T_0  test_2021-03-01 02:30:02.237441        s_0      ct_0\n",
      "7283       T_0  test_2021-03-01 02:30:02.237434        s_0      ct_1\n",
      "13745      T_0  test_2021-03-01 02:30:02.237443        s_0      ct_0\n",
      "20470      T_0  test_2021-03-01 02:30:02.237442        s_0      ct_0\n",
      "22347      T_0  test_2021-03-01 02:30:02.237412        s_0      ct_1\n",
      "26359      T_0  test_2021-03-01 02:30:02.237439        s_0      ct_1\n",
      "26407      T_0  test_2021-03-01 02:30:02.237426        s_0      ct_0\n",
      "26814      T_0  test_2021-03-01 02:30:02.237447        s_0      ct_1\n",
      "27161      T_0  test_2021-03-01 02:30:02.237434        s_0      ct_0\n",
      "32675      T_0  test_2021-03-01 02:30:02.237438        s_0      ct_0\n",
      "36700      T_0  test_2021-03-01 02:30:02.237437        s_0      ct_0\n",
      "38779      T_0  test_2021-03-01 02:30:02.237450        s_0      ct_0\n",
      "39224      T_0  test_2021-03-01 02:30:02.237429        s_0      ct_0\n",
      "40476      T_0  test_2021-03-01 02:30:02.237435        s_0      ct_0\n",
      "47170      T_0  test_2021-03-01 02:30:02.237430        s_0      ct_1\n",
      "48425      T_0  test_2021-03-01 02:30:02.237443        s_0      ct_1\n",
      "56373      T_0  test_2021-03-01 02:30:02.237446        s_0      ct_0\n",
      "57682      T_0  test_2021-03-01 02:30:02.237419        s_0      ct_0\n",
      "57755      T_0  test_2021-03-01 02:30:02.237413        s_0      ct_1\n",
      "59043      T_0  test_2021-03-01 02:30:02.237413        s_0      ct_0\n",
      "59422      T_0  test_2021-03-01 02:30:02.237445        s_0      ct_0\n",
      "60485      T_0  test_2021-03-01 02:30:02.237438        s_0      ct_1\n",
      "70341      T_0  test_2021-03-01 02:30:02.237424        s_0      ct_1\n",
      "72068      T_0  test_2021-03-01 02:30:02.237427        s_0      ct_0\n",
      "72102      T_0  test_2021-03-01 02:30:02.237428        s_0      ct_0\n",
      "72850      T_0  test_2021-03-01 02:30:02.237433        s_0      ct_1\n",
      "77758      T_0  test_2021-03-01 02:30:02.237429        s_0      ct_1\n",
      "...        ...                              ...        ...       ...\n",
      "107619     T_0  test_2021-03-01 02:30:02.237431        s_0      ct_1\n",
      "108137     T_0  test_2021-03-01 02:30:02.237422        s_0      ct_0\n",
      "109598     T_0  test_2021-03-01 02:30:02.237437        s_0      ct_1\n",
      "116293     T_0  test_2021-03-01 02:30:02.237440        s_0      ct_0\n",
      "118938     T_0  test_2021-03-01 02:30:02.237436        s_0      ct_1\n",
      "121871     T_0  test_2021-03-01 02:30:02.237440        s_0      ct_1\n",
      "128503     T_0  test_2021-03-01 02:30:02.237444        s_0      ct_1\n",
      "129851     T_0  test_2021-03-01 02:30:02.237425        s_0      ct_0\n",
      "133443     T_0  test_2021-03-01 02:30:02.237412        s_0      ct_0\n",
      "137506     T_0  test_2021-03-01 02:30:02.237432        s_0      ct_0\n",
      "140186     T_0  test_2021-03-01 02:30:02.237444        s_0      ct_0\n",
      "146335     T_0  test_2021-03-01 02:30:02.237423        s_0      ct_0\n",
      "147143     T_0  test_2021-03-01 02:30:02.237417        s_0      ct_0\n",
      "151923     T_0  test_2021-03-01 02:30:02.237435        s_0      ct_1\n",
      "177252     T_0  test_2021-03-01 02:30:02.237445        s_0      ct_1\n",
      "198053     T_0  test_2021-03-01 02:30:02.237431        s_0      ct_0\n",
      "203239     T_0  test_2021-03-01 02:30:02.237449        s_0      ct_0\n",
      "220525     T_0  test_2021-03-01 02:30:02.237422        s_0      ct_1\n",
      "227121     T_0  test_2021-03-01 02:30:02.237421        s_0      ct_1\n",
      "234706     T_0  test_2021-03-01 02:30:02.237441        s_0      ct_1\n",
      "241297     T_0  test_2021-03-01 02:30:02.237442        s_0      ct_1\n",
      "245346     T_0  test_2021-03-01 02:30:02.237449        s_0      ct_1\n",
      "254363     T_0  test_2021-03-01 02:30:02.237428        s_0      ct_1\n",
      "258653     T_0  test_2021-03-01 02:30:02.237417        s_0      ct_1\n",
      "259134     T_0  test_2021-03-01 02:30:02.237418        s_0      ct_0\n",
      "264317     T_0  test_2021-03-01 02:30:02.237416        s_0      ct_1\n",
      "288918     T_0  test_2021-03-01 02:30:02.237415        s_0      ct_1\n",
      "293107     T_0  test_2021-03-01 02:30:02.237421        s_0      ct_0\n",
      "298399     T_0  test_2021-03-01 02:30:02.237423        s_0      ct_1\n",
      "317345     T_0  test_2021-03-01 02:30:02.237448        s_0      ct_0\n",
      "\n",
      "[74 rows x 4 columns]\n",
      "\n",
      "\"T_0\" n'est pas au bon format. Il sera supprimé.\n",
      "\n",
      "Supprimé!\n",
      "\n"
     ]
    }
   ],
   "source": [
    "ventes.id_prod = ventes.id_prod.apply(analyse_prod_ventes)"
   ]
  },
  {
   "cell_type": "code",
   "execution_count": 37,
   "metadata": {},
   "outputs": [
    {
     "data": {
      "text/plain": [
       "(336816, 4)"
      ]
     },
     "execution_count": 37,
     "metadata": {},
     "output_type": "execute_result"
    }
   ],
   "source": [
    "ventes.shape"
   ]
  },
  {
   "cell_type": "code",
   "execution_count": 38,
   "metadata": {},
   "outputs": [],
   "source": [
    "def analyse_date(temps):\n",
    "    if re.match(r'^((202[12])\\-(0[1-9]|1[012])\\-(0[1-9]|[12]\\d|3[01])) (([01]\\d|2[0-3])\\:([0-5]\\d)\\:([0-5]\\d)\\.(\\d{6}))$', str(temps)) is None:\n",
    "        print(ventes.loc[ventes.date == temps])\n",
    "        print()\n",
    "        print('\"{0}\" n\\'est pas au bon format.'.format(temps))\n",
    "        print()\n",
    "    else:\n",
    "        return temps"
   ]
  },
  {
   "cell_type": "code",
   "execution_count": 39,
   "metadata": {},
   "outputs": [],
   "source": [
    "ventes.date = ventes.date.apply(analyse_date) # RAS"
   ]
  },
  {
   "cell_type": "code",
   "execution_count": 40,
   "metadata": {},
   "outputs": [],
   "source": [
    "def analyse_session_ventes(session):\n",
    "    if re.match(r'^s\\_(\\d+)$', str(session)) is None:\n",
    "        print(ventes.loc[ventes.session_id == session])\n",
    "        print()\n",
    "        print('\"{0}\" n\\'est pas au bon format.'.format(session))\n",
    "        print()\n",
    "    else:\n",
    "        return session"
   ]
  },
  {
   "cell_type": "code",
   "execution_count": 41,
   "metadata": {},
   "outputs": [],
   "source": [
    "ventes.session_id = ventes.session_id.apply(analyse_session_ventes) # RAS"
   ]
  },
  {
   "cell_type": "code",
   "execution_count": 42,
   "metadata": {},
   "outputs": [],
   "source": [
    "def analyse_clients_ventes(identifiant):\n",
    "    if re.match(r'^c\\_(\\d+)$', str(identifiant)) is None:\n",
    "        print(ventes.loc[ventes.client_id == identifiant])\n",
    "        print()\n",
    "        print('\"{0}\" n\\'est pas au bon format.'.format(identifiant))\n",
    "        print()\n",
    "    else:\n",
    "        return identifiant"
   ]
  },
  {
   "cell_type": "code",
   "execution_count": 43,
   "metadata": {},
   "outputs": [],
   "source": [
    "ventes.client_id = ventes.client_id.apply(analyse_clients_ventes) # RAS"
   ]
  },
  {
   "cell_type": "code",
   "execution_count": 44,
   "metadata": {},
   "outputs": [
    {
     "data": {
      "text/plain": [
       "(336816, 4)"
      ]
     },
     "execution_count": 44,
     "metadata": {},
     "output_type": "execute_result"
    }
   ],
   "source": [
    "ventes.shape"
   ]
  },
  {
   "cell_type": "code",
   "execution_count": 45,
   "metadata": {},
   "outputs": [],
   "source": [
    "ventes_ok = ventes.copy() # Sauvegarde"
   ]
  },
  {
   "cell_type": "markdown",
   "metadata": {},
   "source": [
    "##  <span style='color:orange'>4. Jointures<a name=\"M14\"></a>"
   ]
  },
  {
   "cell_type": "code",
   "execution_count": 46,
   "metadata": {},
   "outputs": [
    {
     "data": {
      "text/html": [
       "<div>\n",
       "<style scoped>\n",
       "    .dataframe tbody tr th:only-of-type {\n",
       "        vertical-align: middle;\n",
       "    }\n",
       "\n",
       "    .dataframe tbody tr th {\n",
       "        vertical-align: top;\n",
       "    }\n",
       "\n",
       "    .dataframe thead th {\n",
       "        text-align: right;\n",
       "    }\n",
       "</style>\n",
       "<table border=\"1\" class=\"dataframe\">\n",
       "  <thead>\n",
       "    <tr style=\"text-align: right;\">\n",
       "      <th></th>\n",
       "      <th>id_prod</th>\n",
       "      <th>date</th>\n",
       "      <th>session_id</th>\n",
       "      <th>client_id</th>\n",
       "      <th>price</th>\n",
       "      <th>categ</th>\n",
       "      <th>_merge</th>\n",
       "    </tr>\n",
       "  </thead>\n",
       "  <tbody>\n",
       "    <tr>\n",
       "      <th>0</th>\n",
       "      <td>0_1483</td>\n",
       "      <td>2021-04-10 18:37:28.723910</td>\n",
       "      <td>s_18746</td>\n",
       "      <td>c_4450</td>\n",
       "      <td>4.99</td>\n",
       "      <td>0.0</td>\n",
       "      <td>both</td>\n",
       "    </tr>\n",
       "    <tr>\n",
       "      <th>1</th>\n",
       "      <td>0_1483</td>\n",
       "      <td>2021-10-18 19:16:14.767807</td>\n",
       "      <td>s_106741</td>\n",
       "      <td>c_1576</td>\n",
       "      <td>4.99</td>\n",
       "      <td>0.0</td>\n",
       "      <td>both</td>\n",
       "    </tr>\n",
       "    <tr>\n",
       "      <th>2</th>\n",
       "      <td>0_1483</td>\n",
       "      <td>2021-11-14 11:11:45.276771</td>\n",
       "      <td>s_119491</td>\n",
       "      <td>c_182</td>\n",
       "      <td>4.99</td>\n",
       "      <td>0.0</td>\n",
       "      <td>both</td>\n",
       "    </tr>\n",
       "    <tr>\n",
       "      <th>3</th>\n",
       "      <td>0_1483</td>\n",
       "      <td>2021-07-30 19:37:16.087057</td>\n",
       "      <td>s_69222</td>\n",
       "      <td>c_1196</td>\n",
       "      <td>4.99</td>\n",
       "      <td>0.0</td>\n",
       "      <td>both</td>\n",
       "    </tr>\n",
       "    <tr>\n",
       "      <th>4</th>\n",
       "      <td>0_1483</td>\n",
       "      <td>2021-03-30 14:18:13.403218</td>\n",
       "      <td>s_13545</td>\n",
       "      <td>c_2890</td>\n",
       "      <td>4.99</td>\n",
       "      <td>0.0</td>\n",
       "      <td>both</td>\n",
       "    </tr>\n",
       "  </tbody>\n",
       "</table>\n",
       "</div>"
      ],
      "text/plain": [
       "  id_prod                        date session_id client_id  price  categ  \\\n",
       "0  0_1483  2021-04-10 18:37:28.723910    s_18746    c_4450   4.99    0.0   \n",
       "1  0_1483  2021-10-18 19:16:14.767807   s_106741    c_1576   4.99    0.0   \n",
       "2  0_1483  2021-11-14 11:11:45.276771   s_119491     c_182   4.99    0.0   \n",
       "3  0_1483  2021-07-30 19:37:16.087057    s_69222    c_1196   4.99    0.0   \n",
       "4  0_1483  2021-03-30 14:18:13.403218    s_13545    c_2890   4.99    0.0   \n",
       "\n",
       "  _merge  \n",
       "0   both  \n",
       "1   both  \n",
       "2   both  \n",
       "3   both  \n",
       "4   both  "
      ]
     },
     "execution_count": 46,
     "metadata": {},
     "output_type": "execute_result"
    }
   ],
   "source": [
    "# On joint les tables ventes_ok et produits_ok:\n",
    "# (\"indicator\", en paramètre, permet de savoir si un élément est commun ou non aux deux tables grâce à la colonne \"_merge\")\n",
    "recoupe = pd.merge(ventes_ok, produits_ok, on = 'id_prod', how = 'outer', indicator = True)\n",
    "recoupe.head()"
   ]
  },
  {
   "cell_type": "code",
   "execution_count": 47,
   "metadata": {},
   "outputs": [
    {
     "data": {
      "text/plain": [
       "(336838, 7)"
      ]
     },
     "execution_count": 47,
     "metadata": {},
     "output_type": "execute_result"
    }
   ],
   "source": [
    "recoupe.shape"
   ]
  },
  {
   "cell_type": "code",
   "execution_count": 48,
   "metadata": {},
   "outputs": [
    {
     "data": {
      "text/plain": [
       "id_prod         0\n",
       "date           22\n",
       "session_id     22\n",
       "client_id      22\n",
       "price         103\n",
       "categ         103\n",
       "_merge          0\n",
       "dtype: int64"
      ]
     },
     "execution_count": 48,
     "metadata": {},
     "output_type": "execute_result"
    }
   ],
   "source": [
    "# Décommpte des valeurs non communes aux deux tables:\n",
    "recoupe.isna().sum()"
   ]
  },
  {
   "cell_type": "code",
   "execution_count": 49,
   "metadata": {},
   "outputs": [
    {
     "data": {
      "text/html": [
       "<div>\n",
       "<style scoped>\n",
       "    .dataframe tbody tr th:only-of-type {\n",
       "        vertical-align: middle;\n",
       "    }\n",
       "\n",
       "    .dataframe tbody tr th {\n",
       "        vertical-align: top;\n",
       "    }\n",
       "\n",
       "    .dataframe thead th {\n",
       "        text-align: right;\n",
       "    }\n",
       "</style>\n",
       "<table border=\"1\" class=\"dataframe\">\n",
       "  <thead>\n",
       "    <tr style=\"text-align: right;\">\n",
       "      <th></th>\n",
       "      <th>id_prod</th>\n",
       "      <th>date</th>\n",
       "      <th>session_id</th>\n",
       "      <th>client_id</th>\n",
       "      <th>price</th>\n",
       "      <th>categ</th>\n",
       "      <th>_merge</th>\n",
       "    </tr>\n",
       "  </thead>\n",
       "  <tbody>\n",
       "    <tr>\n",
       "      <th>336816</th>\n",
       "      <td>0_1016</td>\n",
       "      <td>NaN</td>\n",
       "      <td>NaN</td>\n",
       "      <td>NaN</td>\n",
       "      <td>35.06</td>\n",
       "      <td>0.0</td>\n",
       "      <td>right_only</td>\n",
       "    </tr>\n",
       "    <tr>\n",
       "      <th>336817</th>\n",
       "      <td>0_1780</td>\n",
       "      <td>NaN</td>\n",
       "      <td>NaN</td>\n",
       "      <td>NaN</td>\n",
       "      <td>1.67</td>\n",
       "      <td>0.0</td>\n",
       "      <td>right_only</td>\n",
       "    </tr>\n",
       "    <tr>\n",
       "      <th>336818</th>\n",
       "      <td>0_1062</td>\n",
       "      <td>NaN</td>\n",
       "      <td>NaN</td>\n",
       "      <td>NaN</td>\n",
       "      <td>20.08</td>\n",
       "      <td>0.0</td>\n",
       "      <td>right_only</td>\n",
       "    </tr>\n",
       "    <tr>\n",
       "      <th>336819</th>\n",
       "      <td>0_1119</td>\n",
       "      <td>NaN</td>\n",
       "      <td>NaN</td>\n",
       "      <td>NaN</td>\n",
       "      <td>2.99</td>\n",
       "      <td>0.0</td>\n",
       "      <td>right_only</td>\n",
       "    </tr>\n",
       "    <tr>\n",
       "      <th>336820</th>\n",
       "      <td>0_1014</td>\n",
       "      <td>NaN</td>\n",
       "      <td>NaN</td>\n",
       "      <td>NaN</td>\n",
       "      <td>1.15</td>\n",
       "      <td>0.0</td>\n",
       "      <td>right_only</td>\n",
       "    </tr>\n",
       "    <tr>\n",
       "      <th>336821</th>\n",
       "      <td>1_0</td>\n",
       "      <td>NaN</td>\n",
       "      <td>NaN</td>\n",
       "      <td>NaN</td>\n",
       "      <td>31.82</td>\n",
       "      <td>1.0</td>\n",
       "      <td>right_only</td>\n",
       "    </tr>\n",
       "    <tr>\n",
       "      <th>336822</th>\n",
       "      <td>0_1318</td>\n",
       "      <td>NaN</td>\n",
       "      <td>NaN</td>\n",
       "      <td>NaN</td>\n",
       "      <td>20.92</td>\n",
       "      <td>0.0</td>\n",
       "      <td>right_only</td>\n",
       "    </tr>\n",
       "    <tr>\n",
       "      <th>336823</th>\n",
       "      <td>0_1800</td>\n",
       "      <td>NaN</td>\n",
       "      <td>NaN</td>\n",
       "      <td>NaN</td>\n",
       "      <td>22.05</td>\n",
       "      <td>0.0</td>\n",
       "      <td>right_only</td>\n",
       "    </tr>\n",
       "    <tr>\n",
       "      <th>336824</th>\n",
       "      <td>0_1645</td>\n",
       "      <td>NaN</td>\n",
       "      <td>NaN</td>\n",
       "      <td>NaN</td>\n",
       "      <td>2.99</td>\n",
       "      <td>0.0</td>\n",
       "      <td>right_only</td>\n",
       "    </tr>\n",
       "    <tr>\n",
       "      <th>336825</th>\n",
       "      <td>0_322</td>\n",
       "      <td>NaN</td>\n",
       "      <td>NaN</td>\n",
       "      <td>NaN</td>\n",
       "      <td>2.99</td>\n",
       "      <td>0.0</td>\n",
       "      <td>right_only</td>\n",
       "    </tr>\n",
       "    <tr>\n",
       "      <th>336826</th>\n",
       "      <td>0_1620</td>\n",
       "      <td>NaN</td>\n",
       "      <td>NaN</td>\n",
       "      <td>NaN</td>\n",
       "      <td>0.80</td>\n",
       "      <td>0.0</td>\n",
       "      <td>right_only</td>\n",
       "    </tr>\n",
       "    <tr>\n",
       "      <th>336827</th>\n",
       "      <td>0_1025</td>\n",
       "      <td>NaN</td>\n",
       "      <td>NaN</td>\n",
       "      <td>NaN</td>\n",
       "      <td>24.99</td>\n",
       "      <td>0.0</td>\n",
       "      <td>right_only</td>\n",
       "    </tr>\n",
       "    <tr>\n",
       "      <th>336828</th>\n",
       "      <td>2_87</td>\n",
       "      <td>NaN</td>\n",
       "      <td>NaN</td>\n",
       "      <td>NaN</td>\n",
       "      <td>220.99</td>\n",
       "      <td>2.0</td>\n",
       "      <td>right_only</td>\n",
       "    </tr>\n",
       "    <tr>\n",
       "      <th>336829</th>\n",
       "      <td>1_394</td>\n",
       "      <td>NaN</td>\n",
       "      <td>NaN</td>\n",
       "      <td>NaN</td>\n",
       "      <td>39.73</td>\n",
       "      <td>1.0</td>\n",
       "      <td>right_only</td>\n",
       "    </tr>\n",
       "    <tr>\n",
       "      <th>336830</th>\n",
       "      <td>2_72</td>\n",
       "      <td>NaN</td>\n",
       "      <td>NaN</td>\n",
       "      <td>NaN</td>\n",
       "      <td>141.32</td>\n",
       "      <td>2.0</td>\n",
       "      <td>right_only</td>\n",
       "    </tr>\n",
       "    <tr>\n",
       "      <th>336831</th>\n",
       "      <td>0_310</td>\n",
       "      <td>NaN</td>\n",
       "      <td>NaN</td>\n",
       "      <td>NaN</td>\n",
       "      <td>1.94</td>\n",
       "      <td>0.0</td>\n",
       "      <td>right_only</td>\n",
       "    </tr>\n",
       "    <tr>\n",
       "      <th>336832</th>\n",
       "      <td>0_1624</td>\n",
       "      <td>NaN</td>\n",
       "      <td>NaN</td>\n",
       "      <td>NaN</td>\n",
       "      <td>24.50</td>\n",
       "      <td>0.0</td>\n",
       "      <td>right_only</td>\n",
       "    </tr>\n",
       "    <tr>\n",
       "      <th>336833</th>\n",
       "      <td>0_525</td>\n",
       "      <td>NaN</td>\n",
       "      <td>NaN</td>\n",
       "      <td>NaN</td>\n",
       "      <td>2.99</td>\n",
       "      <td>0.0</td>\n",
       "      <td>right_only</td>\n",
       "    </tr>\n",
       "    <tr>\n",
       "      <th>336834</th>\n",
       "      <td>2_86</td>\n",
       "      <td>NaN</td>\n",
       "      <td>NaN</td>\n",
       "      <td>NaN</td>\n",
       "      <td>132.36</td>\n",
       "      <td>2.0</td>\n",
       "      <td>right_only</td>\n",
       "    </tr>\n",
       "    <tr>\n",
       "      <th>336835</th>\n",
       "      <td>0_299</td>\n",
       "      <td>NaN</td>\n",
       "      <td>NaN</td>\n",
       "      <td>NaN</td>\n",
       "      <td>22.99</td>\n",
       "      <td>0.0</td>\n",
       "      <td>right_only</td>\n",
       "    </tr>\n",
       "    <tr>\n",
       "      <th>336836</th>\n",
       "      <td>0_510</td>\n",
       "      <td>NaN</td>\n",
       "      <td>NaN</td>\n",
       "      <td>NaN</td>\n",
       "      <td>23.66</td>\n",
       "      <td>0.0</td>\n",
       "      <td>right_only</td>\n",
       "    </tr>\n",
       "    <tr>\n",
       "      <th>336837</th>\n",
       "      <td>0_2308</td>\n",
       "      <td>NaN</td>\n",
       "      <td>NaN</td>\n",
       "      <td>NaN</td>\n",
       "      <td>20.28</td>\n",
       "      <td>0.0</td>\n",
       "      <td>right_only</td>\n",
       "    </tr>\n",
       "  </tbody>\n",
       "</table>\n",
       "</div>"
      ],
      "text/plain": [
       "       id_prod date session_id client_id   price  categ      _merge\n",
       "336816  0_1016  NaN        NaN       NaN   35.06    0.0  right_only\n",
       "336817  0_1780  NaN        NaN       NaN    1.67    0.0  right_only\n",
       "336818  0_1062  NaN        NaN       NaN   20.08    0.0  right_only\n",
       "336819  0_1119  NaN        NaN       NaN    2.99    0.0  right_only\n",
       "336820  0_1014  NaN        NaN       NaN    1.15    0.0  right_only\n",
       "336821     1_0  NaN        NaN       NaN   31.82    1.0  right_only\n",
       "336822  0_1318  NaN        NaN       NaN   20.92    0.0  right_only\n",
       "336823  0_1800  NaN        NaN       NaN   22.05    0.0  right_only\n",
       "336824  0_1645  NaN        NaN       NaN    2.99    0.0  right_only\n",
       "336825   0_322  NaN        NaN       NaN    2.99    0.0  right_only\n",
       "336826  0_1620  NaN        NaN       NaN    0.80    0.0  right_only\n",
       "336827  0_1025  NaN        NaN       NaN   24.99    0.0  right_only\n",
       "336828    2_87  NaN        NaN       NaN  220.99    2.0  right_only\n",
       "336829   1_394  NaN        NaN       NaN   39.73    1.0  right_only\n",
       "336830    2_72  NaN        NaN       NaN  141.32    2.0  right_only\n",
       "336831   0_310  NaN        NaN       NaN    1.94    0.0  right_only\n",
       "336832  0_1624  NaN        NaN       NaN   24.50    0.0  right_only\n",
       "336833   0_525  NaN        NaN       NaN    2.99    0.0  right_only\n",
       "336834    2_86  NaN        NaN       NaN  132.36    2.0  right_only\n",
       "336835   0_299  NaN        NaN       NaN   22.99    0.0  right_only\n",
       "336836   0_510  NaN        NaN       NaN   23.66    0.0  right_only\n",
       "336837  0_2308  NaN        NaN       NaN   20.28    0.0  right_only"
      ]
     },
     "execution_count": 49,
     "metadata": {},
     "output_type": "execute_result"
    }
   ],
   "source": [
    "produits_invendus = recoupe[recoupe._merge == 'right_only']\n",
    "produits_invendus"
   ]
  },
  {
   "cell_type": "code",
   "execution_count": 50,
   "metadata": {},
   "outputs": [
    {
     "data": {
      "text/plain": [
       "22"
      ]
     },
     "execution_count": 50,
     "metadata": {},
     "output_type": "execute_result"
    }
   ],
   "source": [
    "produits_invendus.shape[0]"
   ]
  },
  {
   "cell_type": "code",
   "execution_count": 51,
   "metadata": {},
   "outputs": [
    {
     "data": {
      "text/plain": [
       "0.6695069993913573"
      ]
     },
     "execution_count": 51,
     "metadata": {},
     "output_type": "execute_result"
    }
   ],
   "source": [
    "proportion_invendus = produits_invendus.shape[0]/produits_ok.shape[0]*100\n",
    "proportion_invendus"
   ]
  },
  {
   "cell_type": "markdown",
   "metadata": {},
   "source": [
    "On constate ces 22 produits invendus, qu'on va supprimer de la table recoupe (ils représentent moins de 1% des produits à vendre).<br/>\n",
    "Le choix est fait en revanche de les conserver dans la table produits_ok car ils ont pu ou pourront être vendu hors la période étudiée."
   ]
  },
  {
   "cell_type": "code",
   "execution_count": 52,
   "metadata": {},
   "outputs": [],
   "source": [
    "recoupe.drop(produits_invendus.index, 0, inplace = True)"
   ]
  },
  {
   "cell_type": "code",
   "execution_count": 53,
   "metadata": {},
   "outputs": [
    {
     "data": {
      "text/plain": [
       "(336816, 7)"
      ]
     },
     "execution_count": 53,
     "metadata": {},
     "output_type": "execute_result"
    }
   ],
   "source": [
    "recoupe.shape # ok"
   ]
  },
  {
   "cell_type": "code",
   "execution_count": 54,
   "metadata": {},
   "outputs": [
    {
     "data": {
      "text/html": [
       "<div>\n",
       "<style scoped>\n",
       "    .dataframe tbody tr th:only-of-type {\n",
       "        vertical-align: middle;\n",
       "    }\n",
       "\n",
       "    .dataframe tbody tr th {\n",
       "        vertical-align: top;\n",
       "    }\n",
       "\n",
       "    .dataframe thead th {\n",
       "        text-align: right;\n",
       "    }\n",
       "</style>\n",
       "<table border=\"1\" class=\"dataframe\">\n",
       "  <thead>\n",
       "    <tr style=\"text-align: right;\">\n",
       "      <th></th>\n",
       "      <th>id_prod</th>\n",
       "      <th>date</th>\n",
       "      <th>session_id</th>\n",
       "      <th>client_id</th>\n",
       "      <th>price</th>\n",
       "      <th>categ</th>\n",
       "      <th>_merge</th>\n",
       "    </tr>\n",
       "  </thead>\n",
       "  <tbody>\n",
       "    <tr>\n",
       "      <th>307791</th>\n",
       "      <td>0_2245</td>\n",
       "      <td>2021-06-17 03:03:12.668129</td>\n",
       "      <td>s_49705</td>\n",
       "      <td>c_1533</td>\n",
       "      <td>NaN</td>\n",
       "      <td>NaN</td>\n",
       "      <td>left_only</td>\n",
       "    </tr>\n",
       "    <tr>\n",
       "      <th>307792</th>\n",
       "      <td>0_2245</td>\n",
       "      <td>2021-06-16 05:53:01.627491</td>\n",
       "      <td>s_49323</td>\n",
       "      <td>c_7954</td>\n",
       "      <td>NaN</td>\n",
       "      <td>NaN</td>\n",
       "      <td>left_only</td>\n",
       "    </tr>\n",
       "    <tr>\n",
       "      <th>307793</th>\n",
       "      <td>0_2245</td>\n",
       "      <td>2021-11-24 17:35:59.911427</td>\n",
       "      <td>s_124474</td>\n",
       "      <td>c_5120</td>\n",
       "      <td>NaN</td>\n",
       "      <td>NaN</td>\n",
       "      <td>left_only</td>\n",
       "    </tr>\n",
       "    <tr>\n",
       "      <th>307794</th>\n",
       "      <td>0_2245</td>\n",
       "      <td>2022-02-28 18:08:49.875709</td>\n",
       "      <td>s_172304</td>\n",
       "      <td>c_4964</td>\n",
       "      <td>NaN</td>\n",
       "      <td>NaN</td>\n",
       "      <td>left_only</td>\n",
       "    </tr>\n",
       "    <tr>\n",
       "      <th>307795</th>\n",
       "      <td>0_2245</td>\n",
       "      <td>2021-03-01 00:09:29.301897</td>\n",
       "      <td>s_3</td>\n",
       "      <td>c_580</td>\n",
       "      <td>NaN</td>\n",
       "      <td>NaN</td>\n",
       "      <td>left_only</td>\n",
       "    </tr>\n",
       "    <tr>\n",
       "      <th>307796</th>\n",
       "      <td>0_2245</td>\n",
       "      <td>2022-02-11 09:05:43.952857</td>\n",
       "      <td>s_163405</td>\n",
       "      <td>c_1098</td>\n",
       "      <td>NaN</td>\n",
       "      <td>NaN</td>\n",
       "      <td>left_only</td>\n",
       "    </tr>\n",
       "    <tr>\n",
       "      <th>307797</th>\n",
       "      <td>0_2245</td>\n",
       "      <td>2021-10-19 00:28:01.920054</td>\n",
       "      <td>s_106841</td>\n",
       "      <td>c_3953</td>\n",
       "      <td>NaN</td>\n",
       "      <td>NaN</td>\n",
       "      <td>left_only</td>\n",
       "    </tr>\n",
       "    <tr>\n",
       "      <th>307798</th>\n",
       "      <td>0_2245</td>\n",
       "      <td>2022-02-25 00:08:08.736068</td>\n",
       "      <td>s_170426</td>\n",
       "      <td>c_6236</td>\n",
       "      <td>NaN</td>\n",
       "      <td>NaN</td>\n",
       "      <td>left_only</td>\n",
       "    </tr>\n",
       "    <tr>\n",
       "      <th>307799</th>\n",
       "      <td>0_2245</td>\n",
       "      <td>2021-08-22 08:51:27.564509</td>\n",
       "      <td>s_79102</td>\n",
       "      <td>c_6752</td>\n",
       "      <td>NaN</td>\n",
       "      <td>NaN</td>\n",
       "      <td>left_only</td>\n",
       "    </tr>\n",
       "    <tr>\n",
       "      <th>307800</th>\n",
       "      <td>0_2245</td>\n",
       "      <td>2021-05-12 03:36:34.586221</td>\n",
       "      <td>s_33316</td>\n",
       "      <td>c_6205</td>\n",
       "      <td>NaN</td>\n",
       "      <td>NaN</td>\n",
       "      <td>left_only</td>\n",
       "    </tr>\n",
       "    <tr>\n",
       "      <th>307801</th>\n",
       "      <td>0_2245</td>\n",
       "      <td>2021-10-15 09:31:31.539354</td>\n",
       "      <td>s_105069</td>\n",
       "      <td>c_4188</td>\n",
       "      <td>NaN</td>\n",
       "      <td>NaN</td>\n",
       "      <td>left_only</td>\n",
       "    </tr>\n",
       "    <tr>\n",
       "      <th>307802</th>\n",
       "      <td>0_2245</td>\n",
       "      <td>2021-12-29 23:24:51.621799</td>\n",
       "      <td>s_142078</td>\n",
       "      <td>c_2189</td>\n",
       "      <td>NaN</td>\n",
       "      <td>NaN</td>\n",
       "      <td>left_only</td>\n",
       "    </tr>\n",
       "    <tr>\n",
       "      <th>307803</th>\n",
       "      <td>0_2245</td>\n",
       "      <td>2022-02-24 04:18:45.054650</td>\n",
       "      <td>s_169978</td>\n",
       "      <td>c_5953</td>\n",
       "      <td>NaN</td>\n",
       "      <td>NaN</td>\n",
       "      <td>left_only</td>\n",
       "    </tr>\n",
       "    <tr>\n",
       "      <th>307804</th>\n",
       "      <td>0_2245</td>\n",
       "      <td>2021-03-29 04:29:29.995701</td>\n",
       "      <td>s_12938</td>\n",
       "      <td>c_1025</td>\n",
       "      <td>NaN</td>\n",
       "      <td>NaN</td>\n",
       "      <td>left_only</td>\n",
       "    </tr>\n",
       "    <tr>\n",
       "      <th>307805</th>\n",
       "      <td>0_2245</td>\n",
       "      <td>2022-01-04 19:02:47.712837</td>\n",
       "      <td>s_144966</td>\n",
       "      <td>c_8595</td>\n",
       "      <td>NaN</td>\n",
       "      <td>NaN</td>\n",
       "      <td>left_only</td>\n",
       "    </tr>\n",
       "    <tr>\n",
       "      <th>307806</th>\n",
       "      <td>0_2245</td>\n",
       "      <td>2021-09-19 03:08:45.918021</td>\n",
       "      <td>s_92049</td>\n",
       "      <td>c_4935</td>\n",
       "      <td>NaN</td>\n",
       "      <td>NaN</td>\n",
       "      <td>left_only</td>\n",
       "    </tr>\n",
       "    <tr>\n",
       "      <th>307807</th>\n",
       "      <td>0_2245</td>\n",
       "      <td>2021-10-04 21:20:27.540982</td>\n",
       "      <td>s_100047</td>\n",
       "      <td>c_8138</td>\n",
       "      <td>NaN</td>\n",
       "      <td>NaN</td>\n",
       "      <td>left_only</td>\n",
       "    </tr>\n",
       "    <tr>\n",
       "      <th>307808</th>\n",
       "      <td>0_2245</td>\n",
       "      <td>2021-09-23 07:22:38.636773</td>\n",
       "      <td>s_94139</td>\n",
       "      <td>c_4746</td>\n",
       "      <td>NaN</td>\n",
       "      <td>NaN</td>\n",
       "      <td>left_only</td>\n",
       "    </tr>\n",
       "    <tr>\n",
       "      <th>307809</th>\n",
       "      <td>0_2245</td>\n",
       "      <td>2021-11-21 18:39:25.649231</td>\n",
       "      <td>s_123006</td>\n",
       "      <td>c_6268</td>\n",
       "      <td>NaN</td>\n",
       "      <td>NaN</td>\n",
       "      <td>left_only</td>\n",
       "    </tr>\n",
       "    <tr>\n",
       "      <th>307810</th>\n",
       "      <td>0_2245</td>\n",
       "      <td>2021-04-17 16:43:16.543156</td>\n",
       "      <td>s_21906</td>\n",
       "      <td>c_7808</td>\n",
       "      <td>NaN</td>\n",
       "      <td>NaN</td>\n",
       "      <td>left_only</td>\n",
       "    </tr>\n",
       "    <tr>\n",
       "      <th>307811</th>\n",
       "      <td>0_2245</td>\n",
       "      <td>2021-06-05 17:04:43.982913</td>\n",
       "      <td>s_44481</td>\n",
       "      <td>c_6714</td>\n",
       "      <td>NaN</td>\n",
       "      <td>NaN</td>\n",
       "      <td>left_only</td>\n",
       "    </tr>\n",
       "    <tr>\n",
       "      <th>307812</th>\n",
       "      <td>0_2245</td>\n",
       "      <td>2021-09-11 10:52:05.205583</td>\n",
       "      <td>s_88251</td>\n",
       "      <td>c_3468</td>\n",
       "      <td>NaN</td>\n",
       "      <td>NaN</td>\n",
       "      <td>left_only</td>\n",
       "    </tr>\n",
       "    <tr>\n",
       "      <th>307813</th>\n",
       "      <td>0_2245</td>\n",
       "      <td>2021-09-01 23:54:58.803916</td>\n",
       "      <td>s_83778</td>\n",
       "      <td>c_2504</td>\n",
       "      <td>NaN</td>\n",
       "      <td>NaN</td>\n",
       "      <td>left_only</td>\n",
       "    </tr>\n",
       "    <tr>\n",
       "      <th>307814</th>\n",
       "      <td>0_2245</td>\n",
       "      <td>2021-08-14 23:34:15.559623</td>\n",
       "      <td>s_75819</td>\n",
       "      <td>c_5157</td>\n",
       "      <td>NaN</td>\n",
       "      <td>NaN</td>\n",
       "      <td>left_only</td>\n",
       "    </tr>\n",
       "    <tr>\n",
       "      <th>307815</th>\n",
       "      <td>0_2245</td>\n",
       "      <td>2021-05-11 03:28:02.080884</td>\n",
       "      <td>s_32846</td>\n",
       "      <td>c_2028</td>\n",
       "      <td>NaN</td>\n",
       "      <td>NaN</td>\n",
       "      <td>left_only</td>\n",
       "    </tr>\n",
       "    <tr>\n",
       "      <th>307816</th>\n",
       "      <td>0_2245</td>\n",
       "      <td>2021-05-06 20:14:22.522372</td>\n",
       "      <td>s_30824</td>\n",
       "      <td>c_4973</td>\n",
       "      <td>NaN</td>\n",
       "      <td>NaN</td>\n",
       "      <td>left_only</td>\n",
       "    </tr>\n",
       "    <tr>\n",
       "      <th>307817</th>\n",
       "      <td>0_2245</td>\n",
       "      <td>2021-09-03 04:31:18.063440</td>\n",
       "      <td>s_84343</td>\n",
       "      <td>c_5056</td>\n",
       "      <td>NaN</td>\n",
       "      <td>NaN</td>\n",
       "      <td>left_only</td>\n",
       "    </tr>\n",
       "    <tr>\n",
       "      <th>307818</th>\n",
       "      <td>0_2245</td>\n",
       "      <td>2021-08-06 01:51:40.749182</td>\n",
       "      <td>s_71925</td>\n",
       "      <td>c_2039</td>\n",
       "      <td>NaN</td>\n",
       "      <td>NaN</td>\n",
       "      <td>left_only</td>\n",
       "    </tr>\n",
       "    <tr>\n",
       "      <th>307819</th>\n",
       "      <td>0_2245</td>\n",
       "      <td>2021-09-26 17:52:55.561657</td>\n",
       "      <td>s_95930</td>\n",
       "      <td>c_6990</td>\n",
       "      <td>NaN</td>\n",
       "      <td>NaN</td>\n",
       "      <td>left_only</td>\n",
       "    </tr>\n",
       "    <tr>\n",
       "      <th>307820</th>\n",
       "      <td>0_2245</td>\n",
       "      <td>2022-01-09 09:23:31.000720</td>\n",
       "      <td>s_147220</td>\n",
       "      <td>c_4505</td>\n",
       "      <td>NaN</td>\n",
       "      <td>NaN</td>\n",
       "      <td>left_only</td>\n",
       "    </tr>\n",
       "    <tr>\n",
       "      <th>...</th>\n",
       "      <td>...</td>\n",
       "      <td>...</td>\n",
       "      <td>...</td>\n",
       "      <td>...</td>\n",
       "      <td>...</td>\n",
       "      <td>...</td>\n",
       "      <td>...</td>\n",
       "    </tr>\n",
       "    <tr>\n",
       "      <th>307864</th>\n",
       "      <td>0_2245</td>\n",
       "      <td>2021-09-07 20:55:19.719028</td>\n",
       "      <td>s_86505</td>\n",
       "      <td>c_8153</td>\n",
       "      <td>NaN</td>\n",
       "      <td>NaN</td>\n",
       "      <td>left_only</td>\n",
       "    </tr>\n",
       "    <tr>\n",
       "      <th>307865</th>\n",
       "      <td>0_2245</td>\n",
       "      <td>2021-09-10 08:04:02.763762</td>\n",
       "      <td>s_87678</td>\n",
       "      <td>c_4120</td>\n",
       "      <td>NaN</td>\n",
       "      <td>NaN</td>\n",
       "      <td>left_only</td>\n",
       "    </tr>\n",
       "    <tr>\n",
       "      <th>307866</th>\n",
       "      <td>0_2245</td>\n",
       "      <td>2021-08-23 09:24:14.133889</td>\n",
       "      <td>s_79561</td>\n",
       "      <td>c_6713</td>\n",
       "      <td>NaN</td>\n",
       "      <td>NaN</td>\n",
       "      <td>left_only</td>\n",
       "    </tr>\n",
       "    <tr>\n",
       "      <th>307867</th>\n",
       "      <td>0_2245</td>\n",
       "      <td>2021-04-22 04:57:20.090378</td>\n",
       "      <td>s_23987</td>\n",
       "      <td>c_6714</td>\n",
       "      <td>NaN</td>\n",
       "      <td>NaN</td>\n",
       "      <td>left_only</td>\n",
       "    </tr>\n",
       "    <tr>\n",
       "      <th>307868</th>\n",
       "      <td>0_2245</td>\n",
       "      <td>2022-01-15 06:19:44.035000</td>\n",
       "      <td>s_150064</td>\n",
       "      <td>c_4765</td>\n",
       "      <td>NaN</td>\n",
       "      <td>NaN</td>\n",
       "      <td>left_only</td>\n",
       "    </tr>\n",
       "    <tr>\n",
       "      <th>307869</th>\n",
       "      <td>0_2245</td>\n",
       "      <td>2021-04-10 02:26:04.604882</td>\n",
       "      <td>s_18428</td>\n",
       "      <td>c_1876</td>\n",
       "      <td>NaN</td>\n",
       "      <td>NaN</td>\n",
       "      <td>left_only</td>\n",
       "    </tr>\n",
       "    <tr>\n",
       "      <th>307870</th>\n",
       "      <td>0_2245</td>\n",
       "      <td>2021-05-22 09:28:34.806734</td>\n",
       "      <td>s_37909</td>\n",
       "      <td>c_1811</td>\n",
       "      <td>NaN</td>\n",
       "      <td>NaN</td>\n",
       "      <td>left_only</td>\n",
       "    </tr>\n",
       "    <tr>\n",
       "      <th>307871</th>\n",
       "      <td>0_2245</td>\n",
       "      <td>2021-11-12 09:25:22.905886</td>\n",
       "      <td>s_118458</td>\n",
       "      <td>c_7416</td>\n",
       "      <td>NaN</td>\n",
       "      <td>NaN</td>\n",
       "      <td>left_only</td>\n",
       "    </tr>\n",
       "    <tr>\n",
       "      <th>307872</th>\n",
       "      <td>0_2245</td>\n",
       "      <td>2021-04-10 08:59:14.100780</td>\n",
       "      <td>s_18560</td>\n",
       "      <td>c_3454</td>\n",
       "      <td>NaN</td>\n",
       "      <td>NaN</td>\n",
       "      <td>left_only</td>\n",
       "    </tr>\n",
       "    <tr>\n",
       "      <th>307873</th>\n",
       "      <td>0_2245</td>\n",
       "      <td>2022-02-16 11:35:20.319501</td>\n",
       "      <td>s_166050</td>\n",
       "      <td>c_4453</td>\n",
       "      <td>NaN</td>\n",
       "      <td>NaN</td>\n",
       "      <td>left_only</td>\n",
       "    </tr>\n",
       "    <tr>\n",
       "      <th>307874</th>\n",
       "      <td>0_2245</td>\n",
       "      <td>2021-07-03 03:26:35.696673</td>\n",
       "      <td>s_57134</td>\n",
       "      <td>c_5108</td>\n",
       "      <td>NaN</td>\n",
       "      <td>NaN</td>\n",
       "      <td>left_only</td>\n",
       "    </tr>\n",
       "    <tr>\n",
       "      <th>307875</th>\n",
       "      <td>0_2245</td>\n",
       "      <td>2021-03-28 10:46:04.804784</td>\n",
       "      <td>s_12567</td>\n",
       "      <td>c_966</td>\n",
       "      <td>NaN</td>\n",
       "      <td>NaN</td>\n",
       "      <td>left_only</td>\n",
       "    </tr>\n",
       "    <tr>\n",
       "      <th>307876</th>\n",
       "      <td>0_2245</td>\n",
       "      <td>2021-11-11 04:36:55.259042</td>\n",
       "      <td>s_117850</td>\n",
       "      <td>c_4333</td>\n",
       "      <td>NaN</td>\n",
       "      <td>NaN</td>\n",
       "      <td>left_only</td>\n",
       "    </tr>\n",
       "    <tr>\n",
       "      <th>307877</th>\n",
       "      <td>0_2245</td>\n",
       "      <td>2021-11-01 14:00:26.535213</td>\n",
       "      <td>s_113219</td>\n",
       "      <td>c_7810</td>\n",
       "      <td>NaN</td>\n",
       "      <td>NaN</td>\n",
       "      <td>left_only</td>\n",
       "    </tr>\n",
       "    <tr>\n",
       "      <th>307878</th>\n",
       "      <td>0_2245</td>\n",
       "      <td>2021-11-30 21:49:23.614810</td>\n",
       "      <td>s_127497</td>\n",
       "      <td>c_4721</td>\n",
       "      <td>NaN</td>\n",
       "      <td>NaN</td>\n",
       "      <td>left_only</td>\n",
       "    </tr>\n",
       "    <tr>\n",
       "      <th>307879</th>\n",
       "      <td>0_2245</td>\n",
       "      <td>2022-02-20 03:50:42.646180</td>\n",
       "      <td>s_167926</td>\n",
       "      <td>c_7287</td>\n",
       "      <td>NaN</td>\n",
       "      <td>NaN</td>\n",
       "      <td>left_only</td>\n",
       "    </tr>\n",
       "    <tr>\n",
       "      <th>307880</th>\n",
       "      <td>0_2245</td>\n",
       "      <td>2021-04-02 14:31:03.612048</td>\n",
       "      <td>s_14980</td>\n",
       "      <td>c_7849</td>\n",
       "      <td>NaN</td>\n",
       "      <td>NaN</td>\n",
       "      <td>left_only</td>\n",
       "    </tr>\n",
       "    <tr>\n",
       "      <th>307881</th>\n",
       "      <td>0_2245</td>\n",
       "      <td>2021-10-26 03:31:42.296144</td>\n",
       "      <td>s_110231</td>\n",
       "      <td>c_8286</td>\n",
       "      <td>NaN</td>\n",
       "      <td>NaN</td>\n",
       "      <td>left_only</td>\n",
       "    </tr>\n",
       "    <tr>\n",
       "      <th>307882</th>\n",
       "      <td>0_2245</td>\n",
       "      <td>2021-09-06 14:03:40.171938</td>\n",
       "      <td>s_85877</td>\n",
       "      <td>c_1060</td>\n",
       "      <td>NaN</td>\n",
       "      <td>NaN</td>\n",
       "      <td>left_only</td>\n",
       "    </tr>\n",
       "    <tr>\n",
       "      <th>307883</th>\n",
       "      <td>0_2245</td>\n",
       "      <td>2021-03-28 21:39:14.337424</td>\n",
       "      <td>s_12792</td>\n",
       "      <td>c_2688</td>\n",
       "      <td>NaN</td>\n",
       "      <td>NaN</td>\n",
       "      <td>left_only</td>\n",
       "    </tr>\n",
       "    <tr>\n",
       "      <th>307884</th>\n",
       "      <td>0_2245</td>\n",
       "      <td>2021-12-10 21:36:59.873580</td>\n",
       "      <td>s_132462</td>\n",
       "      <td>c_2266</td>\n",
       "      <td>NaN</td>\n",
       "      <td>NaN</td>\n",
       "      <td>left_only</td>\n",
       "    </tr>\n",
       "    <tr>\n",
       "      <th>307885</th>\n",
       "      <td>0_2245</td>\n",
       "      <td>2021-07-10 11:54:44.891532</td>\n",
       "      <td>s_60426</td>\n",
       "      <td>c_6952</td>\n",
       "      <td>NaN</td>\n",
       "      <td>NaN</td>\n",
       "      <td>left_only</td>\n",
       "    </tr>\n",
       "    <tr>\n",
       "      <th>307886</th>\n",
       "      <td>0_2245</td>\n",
       "      <td>2021-08-19 12:22:41.380319</td>\n",
       "      <td>s_77853</td>\n",
       "      <td>c_2613</td>\n",
       "      <td>NaN</td>\n",
       "      <td>NaN</td>\n",
       "      <td>left_only</td>\n",
       "    </tr>\n",
       "    <tr>\n",
       "      <th>307887</th>\n",
       "      <td>0_2245</td>\n",
       "      <td>2022-02-07 09:39:59.546556</td>\n",
       "      <td>s_161318</td>\n",
       "      <td>c_554</td>\n",
       "      <td>NaN</td>\n",
       "      <td>NaN</td>\n",
       "      <td>left_only</td>\n",
       "    </tr>\n",
       "    <tr>\n",
       "      <th>307888</th>\n",
       "      <td>0_2245</td>\n",
       "      <td>2021-11-20 20:21:06.505658</td>\n",
       "      <td>s_122593</td>\n",
       "      <td>c_8524</td>\n",
       "      <td>NaN</td>\n",
       "      <td>NaN</td>\n",
       "      <td>left_only</td>\n",
       "    </tr>\n",
       "    <tr>\n",
       "      <th>307889</th>\n",
       "      <td>0_2245</td>\n",
       "      <td>2021-04-06 19:59:19.462288</td>\n",
       "      <td>s_16936</td>\n",
       "      <td>c_4167</td>\n",
       "      <td>NaN</td>\n",
       "      <td>NaN</td>\n",
       "      <td>left_only</td>\n",
       "    </tr>\n",
       "    <tr>\n",
       "      <th>307890</th>\n",
       "      <td>0_2245</td>\n",
       "      <td>2021-03-30 23:29:02.347672</td>\n",
       "      <td>s_13738</td>\n",
       "      <td>c_7790</td>\n",
       "      <td>NaN</td>\n",
       "      <td>NaN</td>\n",
       "      <td>left_only</td>\n",
       "    </tr>\n",
       "    <tr>\n",
       "      <th>307891</th>\n",
       "      <td>0_2245</td>\n",
       "      <td>2021-12-03 14:14:40.444177</td>\n",
       "      <td>s_128815</td>\n",
       "      <td>c_6189</td>\n",
       "      <td>NaN</td>\n",
       "      <td>NaN</td>\n",
       "      <td>left_only</td>\n",
       "    </tr>\n",
       "    <tr>\n",
       "      <th>307892</th>\n",
       "      <td>0_2245</td>\n",
       "      <td>2021-04-27 18:58:47.703374</td>\n",
       "      <td>s_26624</td>\n",
       "      <td>c_1595</td>\n",
       "      <td>NaN</td>\n",
       "      <td>NaN</td>\n",
       "      <td>left_only</td>\n",
       "    </tr>\n",
       "    <tr>\n",
       "      <th>307893</th>\n",
       "      <td>0_2245</td>\n",
       "      <td>2021-05-01 03:35:03.146305</td>\n",
       "      <td>s_28235</td>\n",
       "      <td>c_5714</td>\n",
       "      <td>NaN</td>\n",
       "      <td>NaN</td>\n",
       "      <td>left_only</td>\n",
       "    </tr>\n",
       "  </tbody>\n",
       "</table>\n",
       "<p>103 rows × 7 columns</p>\n",
       "</div>"
      ],
      "text/plain": [
       "       id_prod                        date session_id client_id  price  categ  \\\n",
       "307791  0_2245  2021-06-17 03:03:12.668129    s_49705    c_1533    NaN    NaN   \n",
       "307792  0_2245  2021-06-16 05:53:01.627491    s_49323    c_7954    NaN    NaN   \n",
       "307793  0_2245  2021-11-24 17:35:59.911427   s_124474    c_5120    NaN    NaN   \n",
       "307794  0_2245  2022-02-28 18:08:49.875709   s_172304    c_4964    NaN    NaN   \n",
       "307795  0_2245  2021-03-01 00:09:29.301897        s_3     c_580    NaN    NaN   \n",
       "307796  0_2245  2022-02-11 09:05:43.952857   s_163405    c_1098    NaN    NaN   \n",
       "307797  0_2245  2021-10-19 00:28:01.920054   s_106841    c_3953    NaN    NaN   \n",
       "307798  0_2245  2022-02-25 00:08:08.736068   s_170426    c_6236    NaN    NaN   \n",
       "307799  0_2245  2021-08-22 08:51:27.564509    s_79102    c_6752    NaN    NaN   \n",
       "307800  0_2245  2021-05-12 03:36:34.586221    s_33316    c_6205    NaN    NaN   \n",
       "307801  0_2245  2021-10-15 09:31:31.539354   s_105069    c_4188    NaN    NaN   \n",
       "307802  0_2245  2021-12-29 23:24:51.621799   s_142078    c_2189    NaN    NaN   \n",
       "307803  0_2245  2022-02-24 04:18:45.054650   s_169978    c_5953    NaN    NaN   \n",
       "307804  0_2245  2021-03-29 04:29:29.995701    s_12938    c_1025    NaN    NaN   \n",
       "307805  0_2245  2022-01-04 19:02:47.712837   s_144966    c_8595    NaN    NaN   \n",
       "307806  0_2245  2021-09-19 03:08:45.918021    s_92049    c_4935    NaN    NaN   \n",
       "307807  0_2245  2021-10-04 21:20:27.540982   s_100047    c_8138    NaN    NaN   \n",
       "307808  0_2245  2021-09-23 07:22:38.636773    s_94139    c_4746    NaN    NaN   \n",
       "307809  0_2245  2021-11-21 18:39:25.649231   s_123006    c_6268    NaN    NaN   \n",
       "307810  0_2245  2021-04-17 16:43:16.543156    s_21906    c_7808    NaN    NaN   \n",
       "307811  0_2245  2021-06-05 17:04:43.982913    s_44481    c_6714    NaN    NaN   \n",
       "307812  0_2245  2021-09-11 10:52:05.205583    s_88251    c_3468    NaN    NaN   \n",
       "307813  0_2245  2021-09-01 23:54:58.803916    s_83778    c_2504    NaN    NaN   \n",
       "307814  0_2245  2021-08-14 23:34:15.559623    s_75819    c_5157    NaN    NaN   \n",
       "307815  0_2245  2021-05-11 03:28:02.080884    s_32846    c_2028    NaN    NaN   \n",
       "307816  0_2245  2021-05-06 20:14:22.522372    s_30824    c_4973    NaN    NaN   \n",
       "307817  0_2245  2021-09-03 04:31:18.063440    s_84343    c_5056    NaN    NaN   \n",
       "307818  0_2245  2021-08-06 01:51:40.749182    s_71925    c_2039    NaN    NaN   \n",
       "307819  0_2245  2021-09-26 17:52:55.561657    s_95930    c_6990    NaN    NaN   \n",
       "307820  0_2245  2022-01-09 09:23:31.000720   s_147220    c_4505    NaN    NaN   \n",
       "...        ...                         ...        ...       ...    ...    ...   \n",
       "307864  0_2245  2021-09-07 20:55:19.719028    s_86505    c_8153    NaN    NaN   \n",
       "307865  0_2245  2021-09-10 08:04:02.763762    s_87678    c_4120    NaN    NaN   \n",
       "307866  0_2245  2021-08-23 09:24:14.133889    s_79561    c_6713    NaN    NaN   \n",
       "307867  0_2245  2021-04-22 04:57:20.090378    s_23987    c_6714    NaN    NaN   \n",
       "307868  0_2245  2022-01-15 06:19:44.035000   s_150064    c_4765    NaN    NaN   \n",
       "307869  0_2245  2021-04-10 02:26:04.604882    s_18428    c_1876    NaN    NaN   \n",
       "307870  0_2245  2021-05-22 09:28:34.806734    s_37909    c_1811    NaN    NaN   \n",
       "307871  0_2245  2021-11-12 09:25:22.905886   s_118458    c_7416    NaN    NaN   \n",
       "307872  0_2245  2021-04-10 08:59:14.100780    s_18560    c_3454    NaN    NaN   \n",
       "307873  0_2245  2022-02-16 11:35:20.319501   s_166050    c_4453    NaN    NaN   \n",
       "307874  0_2245  2021-07-03 03:26:35.696673    s_57134    c_5108    NaN    NaN   \n",
       "307875  0_2245  2021-03-28 10:46:04.804784    s_12567     c_966    NaN    NaN   \n",
       "307876  0_2245  2021-11-11 04:36:55.259042   s_117850    c_4333    NaN    NaN   \n",
       "307877  0_2245  2021-11-01 14:00:26.535213   s_113219    c_7810    NaN    NaN   \n",
       "307878  0_2245  2021-11-30 21:49:23.614810   s_127497    c_4721    NaN    NaN   \n",
       "307879  0_2245  2022-02-20 03:50:42.646180   s_167926    c_7287    NaN    NaN   \n",
       "307880  0_2245  2021-04-02 14:31:03.612048    s_14980    c_7849    NaN    NaN   \n",
       "307881  0_2245  2021-10-26 03:31:42.296144   s_110231    c_8286    NaN    NaN   \n",
       "307882  0_2245  2021-09-06 14:03:40.171938    s_85877    c_1060    NaN    NaN   \n",
       "307883  0_2245  2021-03-28 21:39:14.337424    s_12792    c_2688    NaN    NaN   \n",
       "307884  0_2245  2021-12-10 21:36:59.873580   s_132462    c_2266    NaN    NaN   \n",
       "307885  0_2245  2021-07-10 11:54:44.891532    s_60426    c_6952    NaN    NaN   \n",
       "307886  0_2245  2021-08-19 12:22:41.380319    s_77853    c_2613    NaN    NaN   \n",
       "307887  0_2245  2022-02-07 09:39:59.546556   s_161318     c_554    NaN    NaN   \n",
       "307888  0_2245  2021-11-20 20:21:06.505658   s_122593    c_8524    NaN    NaN   \n",
       "307889  0_2245  2021-04-06 19:59:19.462288    s_16936    c_4167    NaN    NaN   \n",
       "307890  0_2245  2021-03-30 23:29:02.347672    s_13738    c_7790    NaN    NaN   \n",
       "307891  0_2245  2021-12-03 14:14:40.444177   s_128815    c_6189    NaN    NaN   \n",
       "307892  0_2245  2021-04-27 18:58:47.703374    s_26624    c_1595    NaN    NaN   \n",
       "307893  0_2245  2021-05-01 03:35:03.146305    s_28235    c_5714    NaN    NaN   \n",
       "\n",
       "           _merge  \n",
       "307791  left_only  \n",
       "307792  left_only  \n",
       "307793  left_only  \n",
       "307794  left_only  \n",
       "307795  left_only  \n",
       "307796  left_only  \n",
       "307797  left_only  \n",
       "307798  left_only  \n",
       "307799  left_only  \n",
       "307800  left_only  \n",
       "307801  left_only  \n",
       "307802  left_only  \n",
       "307803  left_only  \n",
       "307804  left_only  \n",
       "307805  left_only  \n",
       "307806  left_only  \n",
       "307807  left_only  \n",
       "307808  left_only  \n",
       "307809  left_only  \n",
       "307810  left_only  \n",
       "307811  left_only  \n",
       "307812  left_only  \n",
       "307813  left_only  \n",
       "307814  left_only  \n",
       "307815  left_only  \n",
       "307816  left_only  \n",
       "307817  left_only  \n",
       "307818  left_only  \n",
       "307819  left_only  \n",
       "307820  left_only  \n",
       "...           ...  \n",
       "307864  left_only  \n",
       "307865  left_only  \n",
       "307866  left_only  \n",
       "307867  left_only  \n",
       "307868  left_only  \n",
       "307869  left_only  \n",
       "307870  left_only  \n",
       "307871  left_only  \n",
       "307872  left_only  \n",
       "307873  left_only  \n",
       "307874  left_only  \n",
       "307875  left_only  \n",
       "307876  left_only  \n",
       "307877  left_only  \n",
       "307878  left_only  \n",
       "307879  left_only  \n",
       "307880  left_only  \n",
       "307881  left_only  \n",
       "307882  left_only  \n",
       "307883  left_only  \n",
       "307884  left_only  \n",
       "307885  left_only  \n",
       "307886  left_only  \n",
       "307887  left_only  \n",
       "307888  left_only  \n",
       "307889  left_only  \n",
       "307890  left_only  \n",
       "307891  left_only  \n",
       "307892  left_only  \n",
       "307893  left_only  \n",
       "\n",
       "[103 rows x 7 columns]"
      ]
     },
     "execution_count": 54,
     "metadata": {},
     "output_type": "execute_result"
    }
   ],
   "source": [
    "produits_imp = recoupe[recoupe._merge == 'left_only']\n",
    "produits_imp"
   ]
  },
  {
   "cell_type": "markdown",
   "metadata": {},
   "source": [
    "On constate que le produit \"0_2245\" n'a pas de prix et pas de categorie malgré les sessions_clients.<br/>\n",
    "On va lui assigner la catégorie 0 (son identifiant commence par 0) et lui imputer un prix par la médiane des prix de la catégorie 0.<br/>\n",
    "(le choix de supprimer ces lignes est écarté car ce produit a été vendu plus de 100 fois).\n",
    "<br/>Il faudra le signaler au client afin qu'il rectifie cet oubli."
   ]
  },
  {
   "cell_type": "markdown",
   "metadata": {},
   "source": [
    "Il faudra également le rajouter à la table produits_ok car il n'est logiquement pas référencé, comme on le voit ci-dessous:"
   ]
  },
  {
   "cell_type": "code",
   "execution_count": 55,
   "metadata": {},
   "outputs": [
    {
     "data": {
      "text/html": [
       "<div>\n",
       "<style scoped>\n",
       "    .dataframe tbody tr th:only-of-type {\n",
       "        vertical-align: middle;\n",
       "    }\n",
       "\n",
       "    .dataframe tbody tr th {\n",
       "        vertical-align: top;\n",
       "    }\n",
       "\n",
       "    .dataframe thead th {\n",
       "        text-align: right;\n",
       "    }\n",
       "</style>\n",
       "<table border=\"1\" class=\"dataframe\">\n",
       "  <thead>\n",
       "    <tr style=\"text-align: right;\">\n",
       "      <th></th>\n",
       "      <th>id_prod</th>\n",
       "      <th>price</th>\n",
       "      <th>categ</th>\n",
       "    </tr>\n",
       "  </thead>\n",
       "  <tbody>\n",
       "  </tbody>\n",
       "</table>\n",
       "</div>"
      ],
      "text/plain": [
       "Empty DataFrame\n",
       "Columns: [id_prod, price, categ]\n",
       "Index: []"
      ]
     },
     "execution_count": 55,
     "metadata": {},
     "output_type": "execute_result"
    }
   ],
   "source": [
    "produits_ok.loc[produits_ok.id_prod == '0_2245']"
   ]
  },
  {
   "cell_type": "code",
   "execution_count": 56,
   "metadata": {},
   "outputs": [
    {
     "data": {
      "text/html": [
       "<div>\n",
       "<style scoped>\n",
       "    .dataframe tbody tr th:only-of-type {\n",
       "        vertical-align: middle;\n",
       "    }\n",
       "\n",
       "    .dataframe tbody tr th {\n",
       "        vertical-align: top;\n",
       "    }\n",
       "\n",
       "    .dataframe thead th {\n",
       "        text-align: right;\n",
       "    }\n",
       "</style>\n",
       "<table border=\"1\" class=\"dataframe\">\n",
       "  <thead>\n",
       "    <tr style=\"text-align: right;\">\n",
       "      <th></th>\n",
       "      <th>id_prod</th>\n",
       "      <th>date</th>\n",
       "      <th>session_id</th>\n",
       "      <th>client_id</th>\n",
       "      <th>price</th>\n",
       "      <th>categ</th>\n",
       "      <th>_merge</th>\n",
       "    </tr>\n",
       "  </thead>\n",
       "  <tbody>\n",
       "    <tr>\n",
       "      <th>307791</th>\n",
       "      <td>0_2245</td>\n",
       "      <td>2021-06-17 03:03:12.668129</td>\n",
       "      <td>s_49705</td>\n",
       "      <td>c_1533</td>\n",
       "      <td>NaN</td>\n",
       "      <td>0</td>\n",
       "      <td>left_only</td>\n",
       "    </tr>\n",
       "    <tr>\n",
       "      <th>307792</th>\n",
       "      <td>0_2245</td>\n",
       "      <td>2021-06-16 05:53:01.627491</td>\n",
       "      <td>s_49323</td>\n",
       "      <td>c_7954</td>\n",
       "      <td>NaN</td>\n",
       "      <td>0</td>\n",
       "      <td>left_only</td>\n",
       "    </tr>\n",
       "    <tr>\n",
       "      <th>307793</th>\n",
       "      <td>0_2245</td>\n",
       "      <td>2021-11-24 17:35:59.911427</td>\n",
       "      <td>s_124474</td>\n",
       "      <td>c_5120</td>\n",
       "      <td>NaN</td>\n",
       "      <td>0</td>\n",
       "      <td>left_only</td>\n",
       "    </tr>\n",
       "    <tr>\n",
       "      <th>307794</th>\n",
       "      <td>0_2245</td>\n",
       "      <td>2022-02-28 18:08:49.875709</td>\n",
       "      <td>s_172304</td>\n",
       "      <td>c_4964</td>\n",
       "      <td>NaN</td>\n",
       "      <td>0</td>\n",
       "      <td>left_only</td>\n",
       "    </tr>\n",
       "    <tr>\n",
       "      <th>307795</th>\n",
       "      <td>0_2245</td>\n",
       "      <td>2021-03-01 00:09:29.301897</td>\n",
       "      <td>s_3</td>\n",
       "      <td>c_580</td>\n",
       "      <td>NaN</td>\n",
       "      <td>0</td>\n",
       "      <td>left_only</td>\n",
       "    </tr>\n",
       "  </tbody>\n",
       "</table>\n",
       "</div>"
      ],
      "text/plain": [
       "       id_prod                        date session_id client_id  price categ  \\\n",
       "307791  0_2245  2021-06-17 03:03:12.668129    s_49705    c_1533    NaN     0   \n",
       "307792  0_2245  2021-06-16 05:53:01.627491    s_49323    c_7954    NaN     0   \n",
       "307793  0_2245  2021-11-24 17:35:59.911427   s_124474    c_5120    NaN     0   \n",
       "307794  0_2245  2022-02-28 18:08:49.875709   s_172304    c_4964    NaN     0   \n",
       "307795  0_2245  2021-03-01 00:09:29.301897        s_3     c_580    NaN     0   \n",
       "\n",
       "           _merge  \n",
       "307791  left_only  \n",
       "307792  left_only  \n",
       "307793  left_only  \n",
       "307794  left_only  \n",
       "307795  left_only  "
      ]
     },
     "execution_count": 56,
     "metadata": {},
     "output_type": "execute_result"
    }
   ],
   "source": [
    "# Imputation par la valeur 0 dans \"categ\":\n",
    "recoupe.categ.replace(np.NaN, '0', inplace = True)\n",
    "recoupe.iloc[produits_imp.index].head()"
   ]
  },
  {
   "cell_type": "code",
   "execution_count": 57,
   "metadata": {},
   "outputs": [
    {
     "data": {
      "text/plain": [
       "10.32"
      ]
     },
     "execution_count": 57,
     "metadata": {},
     "output_type": "execute_result"
    }
   ],
   "source": [
    "# Imputation par la médiane des prix de la catégorie 0 dans \"price\":\n",
    "round(produits_ok[produits_ok.categ==0].price.median(), 2)"
   ]
  },
  {
   "cell_type": "code",
   "execution_count": 58,
   "metadata": {},
   "outputs": [
    {
     "data": {
      "text/html": [
       "<div>\n",
       "<style scoped>\n",
       "    .dataframe tbody tr th:only-of-type {\n",
       "        vertical-align: middle;\n",
       "    }\n",
       "\n",
       "    .dataframe tbody tr th {\n",
       "        vertical-align: top;\n",
       "    }\n",
       "\n",
       "    .dataframe thead th {\n",
       "        text-align: right;\n",
       "    }\n",
       "</style>\n",
       "<table border=\"1\" class=\"dataframe\">\n",
       "  <thead>\n",
       "    <tr style=\"text-align: right;\">\n",
       "      <th></th>\n",
       "      <th>id_prod</th>\n",
       "      <th>date</th>\n",
       "      <th>session_id</th>\n",
       "      <th>client_id</th>\n",
       "      <th>price</th>\n",
       "      <th>categ</th>\n",
       "      <th>_merge</th>\n",
       "    </tr>\n",
       "  </thead>\n",
       "  <tbody>\n",
       "    <tr>\n",
       "      <th>307791</th>\n",
       "      <td>0_2245</td>\n",
       "      <td>2021-06-17 03:03:12.668129</td>\n",
       "      <td>s_49705</td>\n",
       "      <td>c_1533</td>\n",
       "      <td>10.32</td>\n",
       "      <td>0</td>\n",
       "      <td>left_only</td>\n",
       "    </tr>\n",
       "    <tr>\n",
       "      <th>307792</th>\n",
       "      <td>0_2245</td>\n",
       "      <td>2021-06-16 05:53:01.627491</td>\n",
       "      <td>s_49323</td>\n",
       "      <td>c_7954</td>\n",
       "      <td>10.32</td>\n",
       "      <td>0</td>\n",
       "      <td>left_only</td>\n",
       "    </tr>\n",
       "    <tr>\n",
       "      <th>307793</th>\n",
       "      <td>0_2245</td>\n",
       "      <td>2021-11-24 17:35:59.911427</td>\n",
       "      <td>s_124474</td>\n",
       "      <td>c_5120</td>\n",
       "      <td>10.32</td>\n",
       "      <td>0</td>\n",
       "      <td>left_only</td>\n",
       "    </tr>\n",
       "    <tr>\n",
       "      <th>307794</th>\n",
       "      <td>0_2245</td>\n",
       "      <td>2022-02-28 18:08:49.875709</td>\n",
       "      <td>s_172304</td>\n",
       "      <td>c_4964</td>\n",
       "      <td>10.32</td>\n",
       "      <td>0</td>\n",
       "      <td>left_only</td>\n",
       "    </tr>\n",
       "    <tr>\n",
       "      <th>307795</th>\n",
       "      <td>0_2245</td>\n",
       "      <td>2021-03-01 00:09:29.301897</td>\n",
       "      <td>s_3</td>\n",
       "      <td>c_580</td>\n",
       "      <td>10.32</td>\n",
       "      <td>0</td>\n",
       "      <td>left_only</td>\n",
       "    </tr>\n",
       "  </tbody>\n",
       "</table>\n",
       "</div>"
      ],
      "text/plain": [
       "       id_prod                        date session_id client_id  price categ  \\\n",
       "307791  0_2245  2021-06-17 03:03:12.668129    s_49705    c_1533  10.32     0   \n",
       "307792  0_2245  2021-06-16 05:53:01.627491    s_49323    c_7954  10.32     0   \n",
       "307793  0_2245  2021-11-24 17:35:59.911427   s_124474    c_5120  10.32     0   \n",
       "307794  0_2245  2022-02-28 18:08:49.875709   s_172304    c_4964  10.32     0   \n",
       "307795  0_2245  2021-03-01 00:09:29.301897        s_3     c_580  10.32     0   \n",
       "\n",
       "           _merge  \n",
       "307791  left_only  \n",
       "307792  left_only  \n",
       "307793  left_only  \n",
       "307794  left_only  \n",
       "307795  left_only  "
      ]
     },
     "execution_count": 58,
     "metadata": {},
     "output_type": "execute_result"
    }
   ],
   "source": [
    "recoupe.price.replace(np.NaN, '10.32', inplace = True)\n",
    "recoupe.iloc[produits_imp.index].head()"
   ]
  },
  {
   "cell_type": "code",
   "execution_count": 59,
   "metadata": {},
   "outputs": [
    {
     "data": {
      "text/plain": [
       "id_prod       0\n",
       "date          0\n",
       "session_id    0\n",
       "client_id     0\n",
       "price         0\n",
       "categ         0\n",
       "_merge        0\n",
       "dtype: int64"
      ]
     },
     "execution_count": 59,
     "metadata": {},
     "output_type": "execute_result"
    }
   ],
   "source": [
    "recoupe.isna().sum() # vérification"
   ]
  },
  {
   "cell_type": "code",
   "execution_count": 60,
   "metadata": {},
   "outputs": [
    {
     "data": {
      "text/html": [
       "<div>\n",
       "<style scoped>\n",
       "    .dataframe tbody tr th:only-of-type {\n",
       "        vertical-align: middle;\n",
       "    }\n",
       "\n",
       "    .dataframe tbody tr th {\n",
       "        vertical-align: top;\n",
       "    }\n",
       "\n",
       "    .dataframe thead th {\n",
       "        text-align: right;\n",
       "    }\n",
       "</style>\n",
       "<table border=\"1\" class=\"dataframe\">\n",
       "  <thead>\n",
       "    <tr style=\"text-align: right;\">\n",
       "      <th></th>\n",
       "      <th>id_prod</th>\n",
       "      <th>date</th>\n",
       "      <th>session_id</th>\n",
       "      <th>client_id</th>\n",
       "      <th>price</th>\n",
       "      <th>categ</th>\n",
       "    </tr>\n",
       "  </thead>\n",
       "  <tbody>\n",
       "    <tr>\n",
       "      <th>0</th>\n",
       "      <td>0_1483</td>\n",
       "      <td>2021-04-10 18:37:28.723910</td>\n",
       "      <td>s_18746</td>\n",
       "      <td>c_4450</td>\n",
       "      <td>4.99</td>\n",
       "      <td>0</td>\n",
       "    </tr>\n",
       "    <tr>\n",
       "      <th>1</th>\n",
       "      <td>0_1483</td>\n",
       "      <td>2021-10-18 19:16:14.767807</td>\n",
       "      <td>s_106741</td>\n",
       "      <td>c_1576</td>\n",
       "      <td>4.99</td>\n",
       "      <td>0</td>\n",
       "    </tr>\n",
       "    <tr>\n",
       "      <th>2</th>\n",
       "      <td>0_1483</td>\n",
       "      <td>2021-11-14 11:11:45.276771</td>\n",
       "      <td>s_119491</td>\n",
       "      <td>c_182</td>\n",
       "      <td>4.99</td>\n",
       "      <td>0</td>\n",
       "    </tr>\n",
       "    <tr>\n",
       "      <th>3</th>\n",
       "      <td>0_1483</td>\n",
       "      <td>2021-07-30 19:37:16.087057</td>\n",
       "      <td>s_69222</td>\n",
       "      <td>c_1196</td>\n",
       "      <td>4.99</td>\n",
       "      <td>0</td>\n",
       "    </tr>\n",
       "    <tr>\n",
       "      <th>4</th>\n",
       "      <td>0_1483</td>\n",
       "      <td>2021-03-30 14:18:13.403218</td>\n",
       "      <td>s_13545</td>\n",
       "      <td>c_2890</td>\n",
       "      <td>4.99</td>\n",
       "      <td>0</td>\n",
       "    </tr>\n",
       "  </tbody>\n",
       "</table>\n",
       "</div>"
      ],
      "text/plain": [
       "  id_prod                        date session_id client_id price  categ\n",
       "0  0_1483  2021-04-10 18:37:28.723910    s_18746    c_4450  4.99      0\n",
       "1  0_1483  2021-10-18 19:16:14.767807   s_106741    c_1576  4.99      0\n",
       "2  0_1483  2021-11-14 11:11:45.276771   s_119491     c_182  4.99      0\n",
       "3  0_1483  2021-07-30 19:37:16.087057    s_69222    c_1196  4.99      0\n",
       "4  0_1483  2021-03-30 14:18:13.403218    s_13545    c_2890  4.99      0"
      ]
     },
     "execution_count": 60,
     "metadata": {},
     "output_type": "execute_result"
    }
   ],
   "source": [
    "# Pour obtenir des entiers dans categ à la place des nombres \"float\":\n",
    "recoupe.categ = recoupe.categ.apply(np.int64)\n",
    "# Afin de se servir à nouveau du paramètre \"indicator\" par la suite:\n",
    "recoupe.drop(['_merge'], 1, inplace = True)\n",
    "recoupe.head()"
   ]
  },
  {
   "cell_type": "code",
   "execution_count": 61,
   "metadata": {},
   "outputs": [
    {
     "data": {
      "text/html": [
       "<div>\n",
       "<style scoped>\n",
       "    .dataframe tbody tr th:only-of-type {\n",
       "        vertical-align: middle;\n",
       "    }\n",
       "\n",
       "    .dataframe tbody tr th {\n",
       "        vertical-align: top;\n",
       "    }\n",
       "\n",
       "    .dataframe thead th {\n",
       "        text-align: right;\n",
       "    }\n",
       "</style>\n",
       "<table border=\"1\" class=\"dataframe\">\n",
       "  <thead>\n",
       "    <tr style=\"text-align: right;\">\n",
       "      <th></th>\n",
       "      <th>id_prod</th>\n",
       "      <th>price</th>\n",
       "      <th>categ</th>\n",
       "    </tr>\n",
       "  </thead>\n",
       "  <tbody>\n",
       "    <tr>\n",
       "      <th>3283</th>\n",
       "      <td>0_146</td>\n",
       "      <td>17.14</td>\n",
       "      <td>0</td>\n",
       "    </tr>\n",
       "    <tr>\n",
       "      <th>3284</th>\n",
       "      <td>0_802</td>\n",
       "      <td>11.22</td>\n",
       "      <td>0</td>\n",
       "    </tr>\n",
       "    <tr>\n",
       "      <th>3285</th>\n",
       "      <td>1_140</td>\n",
       "      <td>38.56</td>\n",
       "      <td>1</td>\n",
       "    </tr>\n",
       "    <tr>\n",
       "      <th>3286</th>\n",
       "      <td>0_1920</td>\n",
       "      <td>25.16</td>\n",
       "      <td>0</td>\n",
       "    </tr>\n",
       "    <tr>\n",
       "      <th>3287</th>\n",
       "      <td>0_2245</td>\n",
       "      <td>10.32</td>\n",
       "      <td>0</td>\n",
       "    </tr>\n",
       "  </tbody>\n",
       "</table>\n",
       "</div>"
      ],
      "text/plain": [
       "     id_prod  price categ\n",
       "3283   0_146  17.14     0\n",
       "3284   0_802  11.22     0\n",
       "3285   1_140  38.56     1\n",
       "3286  0_1920  25.16     0\n",
       "3287  0_2245  10.32     0"
      ]
     },
     "execution_count": 61,
     "metadata": {},
     "output_type": "execute_result"
    }
   ],
   "source": [
    "produits_ok.loc[3287] = {'id_prod': '0_2245', 'price': '10.32', 'categ': '0'}\n",
    "produits_ok.tail() # Le produit \"0_2245\" est bien rajoutée dans la table \"produits_ok\"."
   ]
  },
  {
   "cell_type": "code",
   "execution_count": 62,
   "metadata": {},
   "outputs": [
    {
     "data": {
      "text/html": [
       "<div>\n",
       "<style scoped>\n",
       "    .dataframe tbody tr th:only-of-type {\n",
       "        vertical-align: middle;\n",
       "    }\n",
       "\n",
       "    .dataframe tbody tr th {\n",
       "        vertical-align: top;\n",
       "    }\n",
       "\n",
       "    .dataframe thead th {\n",
       "        text-align: right;\n",
       "    }\n",
       "</style>\n",
       "<table border=\"1\" class=\"dataframe\">\n",
       "  <thead>\n",
       "    <tr style=\"text-align: right;\">\n",
       "      <th></th>\n",
       "      <th>id_prod</th>\n",
       "      <th>date</th>\n",
       "      <th>session_id</th>\n",
       "      <th>client_id</th>\n",
       "      <th>price</th>\n",
       "      <th>categ</th>\n",
       "      <th>sex</th>\n",
       "      <th>birth</th>\n",
       "      <th>age</th>\n",
       "      <th>_merge</th>\n",
       "    </tr>\n",
       "  </thead>\n",
       "  <tbody>\n",
       "    <tr>\n",
       "      <th>0</th>\n",
       "      <td>0_1483</td>\n",
       "      <td>2021-04-10 18:37:28.723910</td>\n",
       "      <td>s_18746</td>\n",
       "      <td>c_4450</td>\n",
       "      <td>4.99</td>\n",
       "      <td>0.0</td>\n",
       "      <td>f</td>\n",
       "      <td>1977</td>\n",
       "      <td>45</td>\n",
       "      <td>both</td>\n",
       "    </tr>\n",
       "    <tr>\n",
       "      <th>1</th>\n",
       "      <td>0_1085</td>\n",
       "      <td>2021-09-29 11:14:59.793823</td>\n",
       "      <td>s_97382</td>\n",
       "      <td>c_4450</td>\n",
       "      <td>3.99</td>\n",
       "      <td>0.0</td>\n",
       "      <td>f</td>\n",
       "      <td>1977</td>\n",
       "      <td>45</td>\n",
       "      <td>both</td>\n",
       "    </tr>\n",
       "    <tr>\n",
       "      <th>2</th>\n",
       "      <td>0_1453</td>\n",
       "      <td>2021-08-27 19:50:46.796939</td>\n",
       "      <td>s_81509</td>\n",
       "      <td>c_4450</td>\n",
       "      <td>7.99</td>\n",
       "      <td>0.0</td>\n",
       "      <td>f</td>\n",
       "      <td>1977</td>\n",
       "      <td>45</td>\n",
       "      <td>both</td>\n",
       "    </tr>\n",
       "    <tr>\n",
       "      <th>3</th>\n",
       "      <td>0_1405</td>\n",
       "      <td>2021-08-27 20:07:25.878440</td>\n",
       "      <td>s_81509</td>\n",
       "      <td>c_4450</td>\n",
       "      <td>4.99</td>\n",
       "      <td>0.0</td>\n",
       "      <td>f</td>\n",
       "      <td>1977</td>\n",
       "      <td>45</td>\n",
       "      <td>both</td>\n",
       "    </tr>\n",
       "    <tr>\n",
       "      <th>4</th>\n",
       "      <td>0_1392</td>\n",
       "      <td>2021-12-28 11:45:04.072281</td>\n",
       "      <td>s_141302</td>\n",
       "      <td>c_4450</td>\n",
       "      <td>6.3</td>\n",
       "      <td>0.0</td>\n",
       "      <td>f</td>\n",
       "      <td>1977</td>\n",
       "      <td>45</td>\n",
       "      <td>both</td>\n",
       "    </tr>\n",
       "  </tbody>\n",
       "</table>\n",
       "</div>"
      ],
      "text/plain": [
       "  id_prod                        date session_id client_id price  categ sex  \\\n",
       "0  0_1483  2021-04-10 18:37:28.723910    s_18746    c_4450  4.99    0.0   f   \n",
       "1  0_1085  2021-09-29 11:14:59.793823    s_97382    c_4450  3.99    0.0   f   \n",
       "2  0_1453  2021-08-27 19:50:46.796939    s_81509    c_4450  7.99    0.0   f   \n",
       "3  0_1405  2021-08-27 20:07:25.878440    s_81509    c_4450  4.99    0.0   f   \n",
       "4  0_1392  2021-12-28 11:45:04.072281   s_141302    c_4450   6.3    0.0   f   \n",
       "\n",
       "   birth  age _merge  \n",
       "0   1977   45   both  \n",
       "1   1977   45   both  \n",
       "2   1977   45   both  \n",
       "3   1977   45   both  \n",
       "4   1977   45   both  "
      ]
     },
     "execution_count": 62,
     "metadata": {},
     "output_type": "execute_result"
    }
   ],
   "source": [
    "# On continue l'association de la table recoupe avec la table client_ok:\n",
    "activite = pd.merge(recoupe, clients_ok, on = 'client_id', how = 'outer', indicator = True)\n",
    "activite.head()"
   ]
  },
  {
   "cell_type": "code",
   "execution_count": 63,
   "metadata": {},
   "outputs": [
    {
     "data": {
      "text/plain": [
       "(336837, 10)"
      ]
     },
     "execution_count": 63,
     "metadata": {},
     "output_type": "execute_result"
    }
   ],
   "source": [
    "activite.shape"
   ]
  },
  {
   "cell_type": "code",
   "execution_count": 64,
   "metadata": {},
   "outputs": [
    {
     "data": {
      "text/plain": [
       "id_prod       21\n",
       "date          21\n",
       "session_id    21\n",
       "client_id      0\n",
       "price         21\n",
       "categ         21\n",
       "sex            0\n",
       "birth          0\n",
       "age            0\n",
       "_merge         0\n",
       "dtype: int64"
      ]
     },
     "execution_count": 64,
     "metadata": {},
     "output_type": "execute_result"
    }
   ],
   "source": [
    "activite.isna().sum() "
   ]
  },
  {
   "cell_type": "code",
   "execution_count": 65,
   "metadata": {},
   "outputs": [
    {
     "data": {
      "text/html": [
       "<div>\n",
       "<style scoped>\n",
       "    .dataframe tbody tr th:only-of-type {\n",
       "        vertical-align: middle;\n",
       "    }\n",
       "\n",
       "    .dataframe tbody tr th {\n",
       "        vertical-align: top;\n",
       "    }\n",
       "\n",
       "    .dataframe thead th {\n",
       "        text-align: right;\n",
       "    }\n",
       "</style>\n",
       "<table border=\"1\" class=\"dataframe\">\n",
       "  <thead>\n",
       "    <tr style=\"text-align: right;\">\n",
       "      <th></th>\n",
       "      <th>id_prod</th>\n",
       "      <th>date</th>\n",
       "      <th>session_id</th>\n",
       "      <th>client_id</th>\n",
       "      <th>price</th>\n",
       "      <th>categ</th>\n",
       "      <th>sex</th>\n",
       "      <th>birth</th>\n",
       "      <th>age</th>\n",
       "      <th>_merge</th>\n",
       "    </tr>\n",
       "  </thead>\n",
       "  <tbody>\n",
       "    <tr>\n",
       "      <th>336816</th>\n",
       "      <td>NaN</td>\n",
       "      <td>NaN</td>\n",
       "      <td>NaN</td>\n",
       "      <td>c_8253</td>\n",
       "      <td>NaN</td>\n",
       "      <td>NaN</td>\n",
       "      <td>f</td>\n",
       "      <td>2001</td>\n",
       "      <td>21</td>\n",
       "      <td>right_only</td>\n",
       "    </tr>\n",
       "    <tr>\n",
       "      <th>336817</th>\n",
       "      <td>NaN</td>\n",
       "      <td>NaN</td>\n",
       "      <td>NaN</td>\n",
       "      <td>c_3789</td>\n",
       "      <td>NaN</td>\n",
       "      <td>NaN</td>\n",
       "      <td>f</td>\n",
       "      <td>1997</td>\n",
       "      <td>25</td>\n",
       "      <td>right_only</td>\n",
       "    </tr>\n",
       "    <tr>\n",
       "      <th>336818</th>\n",
       "      <td>NaN</td>\n",
       "      <td>NaN</td>\n",
       "      <td>NaN</td>\n",
       "      <td>c_4406</td>\n",
       "      <td>NaN</td>\n",
       "      <td>NaN</td>\n",
       "      <td>f</td>\n",
       "      <td>1998</td>\n",
       "      <td>24</td>\n",
       "      <td>right_only</td>\n",
       "    </tr>\n",
       "    <tr>\n",
       "      <th>336819</th>\n",
       "      <td>NaN</td>\n",
       "      <td>NaN</td>\n",
       "      <td>NaN</td>\n",
       "      <td>c_2706</td>\n",
       "      <td>NaN</td>\n",
       "      <td>NaN</td>\n",
       "      <td>f</td>\n",
       "      <td>1967</td>\n",
       "      <td>55</td>\n",
       "      <td>right_only</td>\n",
       "    </tr>\n",
       "    <tr>\n",
       "      <th>336820</th>\n",
       "      <td>NaN</td>\n",
       "      <td>NaN</td>\n",
       "      <td>NaN</td>\n",
       "      <td>c_3443</td>\n",
       "      <td>NaN</td>\n",
       "      <td>NaN</td>\n",
       "      <td>m</td>\n",
       "      <td>1959</td>\n",
       "      <td>63</td>\n",
       "      <td>right_only</td>\n",
       "    </tr>\n",
       "    <tr>\n",
       "      <th>336821</th>\n",
       "      <td>NaN</td>\n",
       "      <td>NaN</td>\n",
       "      <td>NaN</td>\n",
       "      <td>c_4447</td>\n",
       "      <td>NaN</td>\n",
       "      <td>NaN</td>\n",
       "      <td>m</td>\n",
       "      <td>1956</td>\n",
       "      <td>66</td>\n",
       "      <td>right_only</td>\n",
       "    </tr>\n",
       "    <tr>\n",
       "      <th>336822</th>\n",
       "      <td>NaN</td>\n",
       "      <td>NaN</td>\n",
       "      <td>NaN</td>\n",
       "      <td>c_3017</td>\n",
       "      <td>NaN</td>\n",
       "      <td>NaN</td>\n",
       "      <td>f</td>\n",
       "      <td>1992</td>\n",
       "      <td>30</td>\n",
       "      <td>right_only</td>\n",
       "    </tr>\n",
       "    <tr>\n",
       "      <th>336823</th>\n",
       "      <td>NaN</td>\n",
       "      <td>NaN</td>\n",
       "      <td>NaN</td>\n",
       "      <td>c_4086</td>\n",
       "      <td>NaN</td>\n",
       "      <td>NaN</td>\n",
       "      <td>f</td>\n",
       "      <td>1992</td>\n",
       "      <td>30</td>\n",
       "      <td>right_only</td>\n",
       "    </tr>\n",
       "    <tr>\n",
       "      <th>336824</th>\n",
       "      <td>NaN</td>\n",
       "      <td>NaN</td>\n",
       "      <td>NaN</td>\n",
       "      <td>c_6930</td>\n",
       "      <td>NaN</td>\n",
       "      <td>NaN</td>\n",
       "      <td>m</td>\n",
       "      <td>2004</td>\n",
       "      <td>18</td>\n",
       "      <td>right_only</td>\n",
       "    </tr>\n",
       "    <tr>\n",
       "      <th>336825</th>\n",
       "      <td>NaN</td>\n",
       "      <td>NaN</td>\n",
       "      <td>NaN</td>\n",
       "      <td>c_4358</td>\n",
       "      <td>NaN</td>\n",
       "      <td>NaN</td>\n",
       "      <td>m</td>\n",
       "      <td>1999</td>\n",
       "      <td>23</td>\n",
       "      <td>right_only</td>\n",
       "    </tr>\n",
       "    <tr>\n",
       "      <th>336826</th>\n",
       "      <td>NaN</td>\n",
       "      <td>NaN</td>\n",
       "      <td>NaN</td>\n",
       "      <td>c_8381</td>\n",
       "      <td>NaN</td>\n",
       "      <td>NaN</td>\n",
       "      <td>f</td>\n",
       "      <td>1965</td>\n",
       "      <td>57</td>\n",
       "      <td>right_only</td>\n",
       "    </tr>\n",
       "    <tr>\n",
       "      <th>336827</th>\n",
       "      <td>NaN</td>\n",
       "      <td>NaN</td>\n",
       "      <td>NaN</td>\n",
       "      <td>c_1223</td>\n",
       "      <td>NaN</td>\n",
       "      <td>NaN</td>\n",
       "      <td>m</td>\n",
       "      <td>1963</td>\n",
       "      <td>59</td>\n",
       "      <td>right_only</td>\n",
       "    </tr>\n",
       "    <tr>\n",
       "      <th>336828</th>\n",
       "      <td>NaN</td>\n",
       "      <td>NaN</td>\n",
       "      <td>NaN</td>\n",
       "      <td>c_6862</td>\n",
       "      <td>NaN</td>\n",
       "      <td>NaN</td>\n",
       "      <td>f</td>\n",
       "      <td>2002</td>\n",
       "      <td>20</td>\n",
       "      <td>right_only</td>\n",
       "    </tr>\n",
       "    <tr>\n",
       "      <th>336829</th>\n",
       "      <td>NaN</td>\n",
       "      <td>NaN</td>\n",
       "      <td>NaN</td>\n",
       "      <td>c_5245</td>\n",
       "      <td>NaN</td>\n",
       "      <td>NaN</td>\n",
       "      <td>f</td>\n",
       "      <td>2004</td>\n",
       "      <td>18</td>\n",
       "      <td>right_only</td>\n",
       "    </tr>\n",
       "    <tr>\n",
       "      <th>336830</th>\n",
       "      <td>NaN</td>\n",
       "      <td>NaN</td>\n",
       "      <td>NaN</td>\n",
       "      <td>c_5223</td>\n",
       "      <td>NaN</td>\n",
       "      <td>NaN</td>\n",
       "      <td>m</td>\n",
       "      <td>2003</td>\n",
       "      <td>19</td>\n",
       "      <td>right_only</td>\n",
       "    </tr>\n",
       "    <tr>\n",
       "      <th>336831</th>\n",
       "      <td>NaN</td>\n",
       "      <td>NaN</td>\n",
       "      <td>NaN</td>\n",
       "      <td>c_6735</td>\n",
       "      <td>NaN</td>\n",
       "      <td>NaN</td>\n",
       "      <td>m</td>\n",
       "      <td>2004</td>\n",
       "      <td>18</td>\n",
       "      <td>right_only</td>\n",
       "    </tr>\n",
       "    <tr>\n",
       "      <th>336832</th>\n",
       "      <td>NaN</td>\n",
       "      <td>NaN</td>\n",
       "      <td>NaN</td>\n",
       "      <td>c_862</td>\n",
       "      <td>NaN</td>\n",
       "      <td>NaN</td>\n",
       "      <td>f</td>\n",
       "      <td>1956</td>\n",
       "      <td>66</td>\n",
       "      <td>right_only</td>\n",
       "    </tr>\n",
       "    <tr>\n",
       "      <th>336833</th>\n",
       "      <td>NaN</td>\n",
       "      <td>NaN</td>\n",
       "      <td>NaN</td>\n",
       "      <td>c_7584</td>\n",
       "      <td>NaN</td>\n",
       "      <td>NaN</td>\n",
       "      <td>f</td>\n",
       "      <td>1960</td>\n",
       "      <td>62</td>\n",
       "      <td>right_only</td>\n",
       "    </tr>\n",
       "    <tr>\n",
       "      <th>336834</th>\n",
       "      <td>NaN</td>\n",
       "      <td>NaN</td>\n",
       "      <td>NaN</td>\n",
       "      <td>c_90</td>\n",
       "      <td>NaN</td>\n",
       "      <td>NaN</td>\n",
       "      <td>m</td>\n",
       "      <td>2001</td>\n",
       "      <td>21</td>\n",
       "      <td>right_only</td>\n",
       "    </tr>\n",
       "    <tr>\n",
       "      <th>336835</th>\n",
       "      <td>NaN</td>\n",
       "      <td>NaN</td>\n",
       "      <td>NaN</td>\n",
       "      <td>c_587</td>\n",
       "      <td>NaN</td>\n",
       "      <td>NaN</td>\n",
       "      <td>m</td>\n",
       "      <td>1993</td>\n",
       "      <td>29</td>\n",
       "      <td>right_only</td>\n",
       "    </tr>\n",
       "    <tr>\n",
       "      <th>336836</th>\n",
       "      <td>NaN</td>\n",
       "      <td>NaN</td>\n",
       "      <td>NaN</td>\n",
       "      <td>c_3526</td>\n",
       "      <td>NaN</td>\n",
       "      <td>NaN</td>\n",
       "      <td>m</td>\n",
       "      <td>1956</td>\n",
       "      <td>66</td>\n",
       "      <td>right_only</td>\n",
       "    </tr>\n",
       "  </tbody>\n",
       "</table>\n",
       "</div>"
      ],
      "text/plain": [
       "       id_prod date session_id client_id price  categ sex  birth  age  \\\n",
       "336816     NaN  NaN        NaN    c_8253   NaN    NaN   f   2001   21   \n",
       "336817     NaN  NaN        NaN    c_3789   NaN    NaN   f   1997   25   \n",
       "336818     NaN  NaN        NaN    c_4406   NaN    NaN   f   1998   24   \n",
       "336819     NaN  NaN        NaN    c_2706   NaN    NaN   f   1967   55   \n",
       "336820     NaN  NaN        NaN    c_3443   NaN    NaN   m   1959   63   \n",
       "336821     NaN  NaN        NaN    c_4447   NaN    NaN   m   1956   66   \n",
       "336822     NaN  NaN        NaN    c_3017   NaN    NaN   f   1992   30   \n",
       "336823     NaN  NaN        NaN    c_4086   NaN    NaN   f   1992   30   \n",
       "336824     NaN  NaN        NaN    c_6930   NaN    NaN   m   2004   18   \n",
       "336825     NaN  NaN        NaN    c_4358   NaN    NaN   m   1999   23   \n",
       "336826     NaN  NaN        NaN    c_8381   NaN    NaN   f   1965   57   \n",
       "336827     NaN  NaN        NaN    c_1223   NaN    NaN   m   1963   59   \n",
       "336828     NaN  NaN        NaN    c_6862   NaN    NaN   f   2002   20   \n",
       "336829     NaN  NaN        NaN    c_5245   NaN    NaN   f   2004   18   \n",
       "336830     NaN  NaN        NaN    c_5223   NaN    NaN   m   2003   19   \n",
       "336831     NaN  NaN        NaN    c_6735   NaN    NaN   m   2004   18   \n",
       "336832     NaN  NaN        NaN     c_862   NaN    NaN   f   1956   66   \n",
       "336833     NaN  NaN        NaN    c_7584   NaN    NaN   f   1960   62   \n",
       "336834     NaN  NaN        NaN      c_90   NaN    NaN   m   2001   21   \n",
       "336835     NaN  NaN        NaN     c_587   NaN    NaN   m   1993   29   \n",
       "336836     NaN  NaN        NaN    c_3526   NaN    NaN   m   1956   66   \n",
       "\n",
       "            _merge  \n",
       "336816  right_only  \n",
       "336817  right_only  \n",
       "336818  right_only  \n",
       "336819  right_only  \n",
       "336820  right_only  \n",
       "336821  right_only  \n",
       "336822  right_only  \n",
       "336823  right_only  \n",
       "336824  right_only  \n",
       "336825  right_only  \n",
       "336826  right_only  \n",
       "336827  right_only  \n",
       "336828  right_only  \n",
       "336829  right_only  \n",
       "336830  right_only  \n",
       "336831  right_only  \n",
       "336832  right_only  \n",
       "336833  right_only  \n",
       "336834  right_only  \n",
       "336835  right_only  \n",
       "336836  right_only  "
      ]
     },
     "execution_count": 65,
     "metadata": {},
     "output_type": "execute_result"
    }
   ],
   "source": [
    "clients_non = activite[activite._merge == 'right_only']\n",
    "clients_non"
   ]
  },
  {
   "cell_type": "code",
   "execution_count": 66,
   "metadata": {},
   "outputs": [
    {
     "data": {
      "text/plain": [
       "21"
      ]
     },
     "execution_count": 66,
     "metadata": {},
     "output_type": "execute_result"
    }
   ],
   "source": [
    "clients_non.shape[0]"
   ]
  },
  {
   "cell_type": "code",
   "execution_count": 67,
   "metadata": {},
   "outputs": [
    {
     "data": {
      "text/plain": [
       "0.24359123071569425"
      ]
     },
     "execution_count": 67,
     "metadata": {},
     "output_type": "execute_result"
    }
   ],
   "source": [
    "proportion_clients_non = clients_non.shape[0]/clients_ok.shape[0]*100\n",
    "proportion_clients_non"
   ]
  },
  {
   "cell_type": "markdown",
   "metadata": {},
   "source": [
    "Il y a donc 21 clients qui n'ont pas consommé sur cette période, ce qui représente moins de 0.3% des clients.<br/>\n",
    "On les retire de la table activite."
   ]
  },
  {
   "cell_type": "code",
   "execution_count": 68,
   "metadata": {},
   "outputs": [
    {
     "data": {
      "text/plain": [
       "(336816, 10)"
      ]
     },
     "execution_count": 68,
     "metadata": {},
     "output_type": "execute_result"
    }
   ],
   "source": [
    "activite.drop(clients_non.index, 0, inplace = True)\n",
    "activite.shape"
   ]
  },
  {
   "cell_type": "code",
   "execution_count": 69,
   "metadata": {},
   "outputs": [
    {
     "data": {
      "text/html": [
       "<div>\n",
       "<style scoped>\n",
       "    .dataframe tbody tr th:only-of-type {\n",
       "        vertical-align: middle;\n",
       "    }\n",
       "\n",
       "    .dataframe tbody tr th {\n",
       "        vertical-align: top;\n",
       "    }\n",
       "\n",
       "    .dataframe thead th {\n",
       "        text-align: right;\n",
       "    }\n",
       "</style>\n",
       "<table border=\"1\" class=\"dataframe\">\n",
       "  <thead>\n",
       "    <tr style=\"text-align: right;\">\n",
       "      <th></th>\n",
       "      <th>id_prod</th>\n",
       "      <th>date</th>\n",
       "      <th>session_id</th>\n",
       "      <th>client_id</th>\n",
       "      <th>price</th>\n",
       "      <th>categ</th>\n",
       "      <th>sex</th>\n",
       "      <th>birth</th>\n",
       "      <th>age</th>\n",
       "      <th>_merge</th>\n",
       "    </tr>\n",
       "  </thead>\n",
       "  <tbody>\n",
       "  </tbody>\n",
       "</table>\n",
       "</div>"
      ],
      "text/plain": [
       "Empty DataFrame\n",
       "Columns: [id_prod, date, session_id, client_id, price, categ, sex, birth, age, _merge]\n",
       "Index: []"
      ]
     },
     "execution_count": 69,
     "metadata": {},
     "output_type": "execute_result"
    }
   ],
   "source": [
    "activite[activite._merge == 'left_only']"
   ]
  },
  {
   "cell_type": "markdown",
   "metadata": {},
   "source": [
    "Tous les clients qui ont effectué un achat sont bien référencés dans la table clients_ok."
   ]
  },
  {
   "cell_type": "code",
   "execution_count": 70,
   "metadata": {},
   "outputs": [],
   "source": [
    "# Pour obtenir des entiers dans categ à la place des nombres \"float\":\n",
    "activite.categ = activite.categ.apply(np.int64)\n",
    "activite.drop('_merge', 1, inplace = True)"
   ]
  },
  {
   "cell_type": "code",
   "execution_count": 71,
   "metadata": {},
   "outputs": [
    {
     "data": {
      "text/html": [
       "<div>\n",
       "<style scoped>\n",
       "    .dataframe tbody tr th:only-of-type {\n",
       "        vertical-align: middle;\n",
       "    }\n",
       "\n",
       "    .dataframe tbody tr th {\n",
       "        vertical-align: top;\n",
       "    }\n",
       "\n",
       "    .dataframe thead th {\n",
       "        text-align: right;\n",
       "    }\n",
       "</style>\n",
       "<table border=\"1\" class=\"dataframe\">\n",
       "  <thead>\n",
       "    <tr style=\"text-align: right;\">\n",
       "      <th></th>\n",
       "      <th>session_id</th>\n",
       "      <th>annee-mois</th>\n",
       "      <th>jour</th>\n",
       "      <th>heure-min</th>\n",
       "      <th>id_prod</th>\n",
       "      <th>price</th>\n",
       "      <th>categ</th>\n",
       "      <th>client_id</th>\n",
       "      <th>sex</th>\n",
       "      <th>age</th>\n",
       "      <th>birth</th>\n",
       "      <th>date</th>\n",
       "    </tr>\n",
       "  </thead>\n",
       "  <tbody>\n",
       "    <tr>\n",
       "      <th>272113</th>\n",
       "      <td>s_1</td>\n",
       "      <td>2021-03</td>\n",
       "      <td>01</td>\n",
       "      <td>00:01</td>\n",
       "      <td>0_1259</td>\n",
       "      <td>11.99</td>\n",
       "      <td>0</td>\n",
       "      <td>c_329</td>\n",
       "      <td>f</td>\n",
       "      <td>55</td>\n",
       "      <td>1967</td>\n",
       "      <td>2021-03-01 00:01:07.843138</td>\n",
       "    </tr>\n",
       "    <tr>\n",
       "      <th>217524</th>\n",
       "      <td>s_2</td>\n",
       "      <td>2021-03</td>\n",
       "      <td>01</td>\n",
       "      <td>00:02</td>\n",
       "      <td>0_1390</td>\n",
       "      <td>19.37</td>\n",
       "      <td>0</td>\n",
       "      <td>c_664</td>\n",
       "      <td>m</td>\n",
       "      <td>62</td>\n",
       "      <td>1960</td>\n",
       "      <td>2021-03-01 00:02:26.047414</td>\n",
       "    </tr>\n",
       "    <tr>\n",
       "      <th>153790</th>\n",
       "      <td>s_3</td>\n",
       "      <td>2021-03</td>\n",
       "      <td>01</td>\n",
       "      <td>00:02</td>\n",
       "      <td>0_1352</td>\n",
       "      <td>4.5</td>\n",
       "      <td>0</td>\n",
       "      <td>c_580</td>\n",
       "      <td>m</td>\n",
       "      <td>34</td>\n",
       "      <td>1988</td>\n",
       "      <td>2021-03-01 00:02:38.311413</td>\n",
       "    </tr>\n",
       "    <tr>\n",
       "      <th>174440</th>\n",
       "      <td>s_4</td>\n",
       "      <td>2021-03</td>\n",
       "      <td>01</td>\n",
       "      <td>00:04</td>\n",
       "      <td>0_1458</td>\n",
       "      <td>6.55</td>\n",
       "      <td>0</td>\n",
       "      <td>c_7912</td>\n",
       "      <td>f</td>\n",
       "      <td>33</td>\n",
       "      <td>1989</td>\n",
       "      <td>2021-03-01 00:04:54.559692</td>\n",
       "    </tr>\n",
       "    <tr>\n",
       "      <th>284518</th>\n",
       "      <td>s_5</td>\n",
       "      <td>2021-03</td>\n",
       "      <td>01</td>\n",
       "      <td>00:05</td>\n",
       "      <td>0_1358</td>\n",
       "      <td>16.49</td>\n",
       "      <td>0</td>\n",
       "      <td>c_2033</td>\n",
       "      <td>f</td>\n",
       "      <td>66</td>\n",
       "      <td>1956</td>\n",
       "      <td>2021-03-01 00:05:18.801198</td>\n",
       "    </tr>\n",
       "  </tbody>\n",
       "</table>\n",
       "</div>"
      ],
      "text/plain": [
       "       session_id annee-mois jour heure-min id_prod  price  categ client_id  \\\n",
       "272113        s_1    2021-03   01     00:01  0_1259  11.99      0     c_329   \n",
       "217524        s_2    2021-03   01     00:02  0_1390  19.37      0     c_664   \n",
       "153790        s_3    2021-03   01     00:02  0_1352    4.5      0     c_580   \n",
       "174440        s_4    2021-03   01     00:04  0_1458   6.55      0    c_7912   \n",
       "284518        s_5    2021-03   01     00:05  0_1358  16.49      0    c_2033   \n",
       "\n",
       "       sex  age  birth                        date  \n",
       "272113   f   55   1967  2021-03-01 00:01:07.843138  \n",
       "217524   m   62   1960  2021-03-01 00:02:26.047414  \n",
       "153790   m   34   1988  2021-03-01 00:02:38.311413  \n",
       "174440   f   33   1989  2021-03-01 00:04:54.559692  \n",
       "284518   f   66   1956  2021-03-01 00:05:18.801198  "
      ]
     },
     "execution_count": 71,
     "metadata": {},
     "output_type": "execute_result"
    }
   ],
   "source": [
    "#création de colonnes temporelles distinctes en découpant la colonne \"date\": \n",
    "activite['annee-mois'] = activite['date'].apply(lambda x: x[:7])\n",
    "activite['jour'] = activite['date'].apply(lambda x: x[8:10])\n",
    "activite['heure-min'] = activite['date'].apply(lambda x: x[11:16])\n",
    "# On réorganise l'ordre des colonnes:\n",
    "activite = activite.reindex(columns = ['session_id', 'annee-mois', 'jour', 'heure-min', 'id_prod', 'price', 'categ', 'client_id', 'sex', 'age', 'birth', 'date'])\n",
    "# Tri par \"date\":\n",
    "activite.sort_values(['date'], ascending = True, inplace = True)\n",
    "activite.head()"
   ]
  },
  {
   "cell_type": "code",
   "execution_count": 72,
   "metadata": {},
   "outputs": [
    {
     "data": {
      "text/html": [
       "<div>\n",
       "<style scoped>\n",
       "    .dataframe tbody tr th:only-of-type {\n",
       "        vertical-align: middle;\n",
       "    }\n",
       "\n",
       "    .dataframe tbody tr th {\n",
       "        vertical-align: top;\n",
       "    }\n",
       "\n",
       "    .dataframe thead th {\n",
       "        text-align: right;\n",
       "    }\n",
       "</style>\n",
       "<table border=\"1\" class=\"dataframe\">\n",
       "  <thead>\n",
       "    <tr style=\"text-align: right;\">\n",
       "      <th></th>\n",
       "      <th>session_id</th>\n",
       "      <th>annee-mois</th>\n",
       "      <th>jour</th>\n",
       "      <th>heure-min</th>\n",
       "      <th>id_prod</th>\n",
       "      <th>price</th>\n",
       "      <th>categ</th>\n",
       "      <th>client_id</th>\n",
       "      <th>sex</th>\n",
       "      <th>age</th>\n",
       "      <th>birth</th>\n",
       "    </tr>\n",
       "  </thead>\n",
       "  <tbody>\n",
       "    <tr>\n",
       "      <th>272113</th>\n",
       "      <td>s_1</td>\n",
       "      <td>2021-03</td>\n",
       "      <td>01</td>\n",
       "      <td>00:01</td>\n",
       "      <td>0_1259</td>\n",
       "      <td>11.99</td>\n",
       "      <td>0</td>\n",
       "      <td>c_329</td>\n",
       "      <td>f</td>\n",
       "      <td>55</td>\n",
       "      <td>1967</td>\n",
       "    </tr>\n",
       "    <tr>\n",
       "      <th>217524</th>\n",
       "      <td>s_2</td>\n",
       "      <td>2021-03</td>\n",
       "      <td>01</td>\n",
       "      <td>00:02</td>\n",
       "      <td>0_1390</td>\n",
       "      <td>19.37</td>\n",
       "      <td>0</td>\n",
       "      <td>c_664</td>\n",
       "      <td>m</td>\n",
       "      <td>62</td>\n",
       "      <td>1960</td>\n",
       "    </tr>\n",
       "    <tr>\n",
       "      <th>153790</th>\n",
       "      <td>s_3</td>\n",
       "      <td>2021-03</td>\n",
       "      <td>01</td>\n",
       "      <td>00:02</td>\n",
       "      <td>0_1352</td>\n",
       "      <td>4.5</td>\n",
       "      <td>0</td>\n",
       "      <td>c_580</td>\n",
       "      <td>m</td>\n",
       "      <td>34</td>\n",
       "      <td>1988</td>\n",
       "    </tr>\n",
       "    <tr>\n",
       "      <th>174440</th>\n",
       "      <td>s_4</td>\n",
       "      <td>2021-03</td>\n",
       "      <td>01</td>\n",
       "      <td>00:04</td>\n",
       "      <td>0_1458</td>\n",
       "      <td>6.55</td>\n",
       "      <td>0</td>\n",
       "      <td>c_7912</td>\n",
       "      <td>f</td>\n",
       "      <td>33</td>\n",
       "      <td>1989</td>\n",
       "    </tr>\n",
       "    <tr>\n",
       "      <th>284518</th>\n",
       "      <td>s_5</td>\n",
       "      <td>2021-03</td>\n",
       "      <td>01</td>\n",
       "      <td>00:05</td>\n",
       "      <td>0_1358</td>\n",
       "      <td>16.49</td>\n",
       "      <td>0</td>\n",
       "      <td>c_2033</td>\n",
       "      <td>f</td>\n",
       "      <td>66</td>\n",
       "      <td>1956</td>\n",
       "    </tr>\n",
       "  </tbody>\n",
       "</table>\n",
       "</div>"
      ],
      "text/plain": [
       "       session_id annee-mois jour heure-min id_prod  price  categ client_id  \\\n",
       "272113        s_1    2021-03   01     00:01  0_1259  11.99      0     c_329   \n",
       "217524        s_2    2021-03   01     00:02  0_1390  19.37      0     c_664   \n",
       "153790        s_3    2021-03   01     00:02  0_1352    4.5      0     c_580   \n",
       "174440        s_4    2021-03   01     00:04  0_1458   6.55      0    c_7912   \n",
       "284518        s_5    2021-03   01     00:05  0_1358  16.49      0    c_2033   \n",
       "\n",
       "       sex  age  birth  \n",
       "272113   f   55   1967  \n",
       "217524   m   62   1960  \n",
       "153790   m   34   1988  \n",
       "174440   f   33   1989  \n",
       "284518   f   66   1956  "
      ]
     },
     "execution_count": 72,
     "metadata": {},
     "output_type": "execute_result"
    }
   ],
   "source": [
    "activite.drop(['date'], 1, inplace = True)\n",
    "activite.head()"
   ]
  },
  {
   "cell_type": "code",
   "execution_count": 73,
   "metadata": {},
   "outputs": [],
   "source": [
    "activites = activite.copy()"
   ]
  },
  {
   "cell_type": "markdown",
   "metadata": {},
   "source": [
    "# II. Analyses réalisées.<a name=\"M2\"></a>"
   ]
  },
  {
   "cell_type": "markdown",
   "metadata": {},
   "source": [
    "## <span style='color:orange'>1. Que sait-on des clients?<a name=\"M21\"></a>"
   ]
  },
  {
   "cell_type": "markdown",
   "metadata": {},
   "source": [
    "### <span style='color:purple'>a) Composition hommes/femmes.<a name=\"M211\"></a>"
   ]
  },
  {
   "cell_type": "code",
   "execution_count": 74,
   "metadata": {},
   "outputs": [],
   "source": [
    "proportion_femmes = clients_ok['sex'].value_counts()[0]/(clients_ok['sex'].count())*100\n",
    "proportion_hommes = 100 - proportion_femmes"
   ]
  },
  {
   "cell_type": "code",
   "execution_count": 75,
   "metadata": {},
   "outputs": [
    {
     "data": {
      "text/plain": [
       "f    11\n",
       "m    10\n",
       "Name: sex, dtype: int64"
      ]
     },
     "execution_count": 75,
     "metadata": {},
     "output_type": "execute_result"
    }
   ],
   "source": [
    "clients_non['sex'].value_counts()"
   ]
  },
  {
   "cell_type": "code",
   "execution_count": 76,
   "metadata": {},
   "outputs": [],
   "source": [
    "proportion_acheteuses = (clients_ok['sex'].value_counts()[0]-clients_non['sex'].value_counts()[0])/clients_ok.sex.count()*100\n",
    "proportion_acheteurs = 100 - proportion_acheteuses"
   ]
  },
  {
   "cell_type": "code",
   "execution_count": 77,
   "metadata": {},
   "outputs": [
    {
     "data": {
      "image/png": "[encoded data removed]",
      "text/plain": [
       "<Figure size 1080x576 with 2 Axes>"
      ]
     },
     "metadata": {},
     "output_type": "display_data"
    }
   ],
   "source": [
    "plt.figure(figsize = (15, 8))\n",
    "\n",
    "plt.subplot(1, 2, 1)\n",
    "plt.pie([proportion_femmes, proportion_hommes],\n",
    "        labels = ['Femmes', 'Hommes'],\n",
    "        autopct = '%1.1f%%',\n",
    "        explode = (0.01, 0.01),\n",
    "        pctdistance = 0.5,\n",
    "        labeldistance = 0.2,\n",
    "        startangle = 135)\n",
    "plt.title('Clients',\n",
    "          size = 18)\n",
    "\n",
    "plt.subplot(1, 2, 2)\n",
    "plt.pie([proportion_acheteuses, proportion_acheteurs],\n",
    "        labels = ['Femmes', 'Hommes'],\n",
    "        autopct = '%1.1f%%',\n",
    "        explode = (0.01, 0.01),\n",
    "        pctdistance = 0.5,\n",
    "        labeldistance = 0.2,\n",
    "        startangle = 135)\n",
    "plt.title('Acheteurs (sur la période étudiée)',\n",
    "          size = 18)\n",
    "\n",
    "plt.suptitle('Proportion par sexe', size = 22);"
   ]
  },
  {
   "cell_type": "markdown",
   "metadata": {},
   "source": [
    "### <span style='color:purple'>b) Quel est l'âge de la clientèle?<a name=\"M212\"></a>"
   ]
  },
  {
   "cell_type": "code",
   "execution_count": 78,
   "metadata": {},
   "outputs": [],
   "source": [
    "clients_ok.age = clients_ok.age.apply(np.int64)"
   ]
  },
  {
   "cell_type": "code",
   "execution_count": 79,
   "metadata": {},
   "outputs": [
    {
     "data": {
      "text/html": [
       "<div>\n",
       "<style scoped>\n",
       "    .dataframe tbody tr th:only-of-type {\n",
       "        vertical-align: middle;\n",
       "    }\n",
       "\n",
       "    .dataframe tbody tr th {\n",
       "        vertical-align: top;\n",
       "    }\n",
       "\n",
       "    .dataframe thead th {\n",
       "        text-align: right;\n",
       "    }\n",
       "</style>\n",
       "<table border=\"1\" class=\"dataframe\">\n",
       "  <thead>\n",
       "    <tr style=\"text-align: right;\">\n",
       "      <th></th>\n",
       "      <th>client_id</th>\n",
       "      <th>sex</th>\n",
       "      <th>birth</th>\n",
       "      <th>age</th>\n",
       "    </tr>\n",
       "  </thead>\n",
       "  <tbody>\n",
       "    <tr>\n",
       "      <th>0</th>\n",
       "      <td>c_4410</td>\n",
       "      <td>f</td>\n",
       "      <td>1967</td>\n",
       "      <td>55</td>\n",
       "    </tr>\n",
       "    <tr>\n",
       "      <th>1</th>\n",
       "      <td>c_7839</td>\n",
       "      <td>f</td>\n",
       "      <td>1975</td>\n",
       "      <td>47</td>\n",
       "    </tr>\n",
       "    <tr>\n",
       "      <th>2</th>\n",
       "      <td>c_1699</td>\n",
       "      <td>f</td>\n",
       "      <td>1984</td>\n",
       "      <td>38</td>\n",
       "    </tr>\n",
       "    <tr>\n",
       "      <th>3</th>\n",
       "      <td>c_5961</td>\n",
       "      <td>f</td>\n",
       "      <td>1962</td>\n",
       "      <td>60</td>\n",
       "    </tr>\n",
       "    <tr>\n",
       "      <th>6</th>\n",
       "      <td>c_285</td>\n",
       "      <td>f</td>\n",
       "      <td>1967</td>\n",
       "      <td>55</td>\n",
       "    </tr>\n",
       "  </tbody>\n",
       "</table>\n",
       "</div>"
      ],
      "text/plain": [
       "  client_id sex  birth  age\n",
       "0    c_4410   f   1967   55\n",
       "1    c_7839   f   1975   47\n",
       "2    c_1699   f   1984   38\n",
       "3    c_5961   f   1962   60\n",
       "6     c_285   f   1967   55"
      ]
     },
     "execution_count": 79,
     "metadata": {},
     "output_type": "execute_result"
    }
   ],
   "source": [
    "femmes = clients_ok.loc[clients_ok['sex'] == 'f']\n",
    "femmes.head()"
   ]
  },
  {
   "cell_type": "code",
   "execution_count": 80,
   "metadata": {},
   "outputs": [
    {
     "data": {
      "text/html": [
       "<div>\n",
       "<style scoped>\n",
       "    .dataframe tbody tr th:only-of-type {\n",
       "        vertical-align: middle;\n",
       "    }\n",
       "\n",
       "    .dataframe tbody tr th {\n",
       "        vertical-align: top;\n",
       "    }\n",
       "\n",
       "    .dataframe thead th {\n",
       "        text-align: right;\n",
       "    }\n",
       "</style>\n",
       "<table border=\"1\" class=\"dataframe\">\n",
       "  <thead>\n",
       "    <tr style=\"text-align: right;\">\n",
       "      <th></th>\n",
       "      <th>birth</th>\n",
       "      <th>age</th>\n",
       "    </tr>\n",
       "  </thead>\n",
       "  <tbody>\n",
       "    <tr>\n",
       "      <th>count</th>\n",
       "      <td>4490</td>\n",
       "      <td>4490</td>\n",
       "    </tr>\n",
       "    <tr>\n",
       "      <th>mean</th>\n",
       "      <td>1977</td>\n",
       "      <td>44</td>\n",
       "    </tr>\n",
       "    <tr>\n",
       "      <th>std</th>\n",
       "      <td>17</td>\n",
       "      <td>17</td>\n",
       "    </tr>\n",
       "    <tr>\n",
       "      <th>min</th>\n",
       "      <td>1929</td>\n",
       "      <td>18</td>\n",
       "    </tr>\n",
       "    <tr>\n",
       "      <th>25%</th>\n",
       "      <td>1966</td>\n",
       "      <td>30</td>\n",
       "    </tr>\n",
       "    <tr>\n",
       "      <th>50%</th>\n",
       "      <td>1979</td>\n",
       "      <td>43</td>\n",
       "    </tr>\n",
       "    <tr>\n",
       "      <th>75%</th>\n",
       "      <td>1992</td>\n",
       "      <td>56</td>\n",
       "    </tr>\n",
       "    <tr>\n",
       "      <th>max</th>\n",
       "      <td>2004</td>\n",
       "      <td>93</td>\n",
       "    </tr>\n",
       "  </tbody>\n",
       "</table>\n",
       "</div>"
      ],
      "text/plain": [
       "       birth   age\n",
       "count   4490  4490\n",
       "mean    1977    44\n",
       "std       17    17\n",
       "min     1929    18\n",
       "25%     1966    30\n",
       "50%     1979    43\n",
       "75%     1992    56\n",
       "max     2004    93"
      ]
     },
     "execution_count": 80,
     "metadata": {},
     "output_type": "execute_result"
    }
   ],
   "source": [
    "femmes.describe().astype(int)"
   ]
  },
  {
   "cell_type": "code",
   "execution_count": 81,
   "metadata": {},
   "outputs": [
    {
     "data": {
      "text/html": [
       "<div>\n",
       "<style scoped>\n",
       "    .dataframe tbody tr th:only-of-type {\n",
       "        vertical-align: middle;\n",
       "    }\n",
       "\n",
       "    .dataframe tbody tr th {\n",
       "        vertical-align: top;\n",
       "    }\n",
       "\n",
       "    .dataframe thead th {\n",
       "        text-align: right;\n",
       "    }\n",
       "</style>\n",
       "<table border=\"1\" class=\"dataframe\">\n",
       "  <thead>\n",
       "    <tr style=\"text-align: right;\">\n",
       "      <th></th>\n",
       "      <th>client_id</th>\n",
       "      <th>sex</th>\n",
       "      <th>birth</th>\n",
       "      <th>age</th>\n",
       "    </tr>\n",
       "  </thead>\n",
       "  <tbody>\n",
       "    <tr>\n",
       "      <th>4</th>\n",
       "      <td>c_5320</td>\n",
       "      <td>m</td>\n",
       "      <td>1943</td>\n",
       "      <td>79</td>\n",
       "    </tr>\n",
       "    <tr>\n",
       "      <th>5</th>\n",
       "      <td>c_415</td>\n",
       "      <td>m</td>\n",
       "      <td>1993</td>\n",
       "      <td>29</td>\n",
       "    </tr>\n",
       "    <tr>\n",
       "      <th>8</th>\n",
       "      <td>c_6446</td>\n",
       "      <td>m</td>\n",
       "      <td>1971</td>\n",
       "      <td>51</td>\n",
       "    </tr>\n",
       "    <tr>\n",
       "      <th>9</th>\n",
       "      <td>c_6866</td>\n",
       "      <td>m</td>\n",
       "      <td>1993</td>\n",
       "      <td>29</td>\n",
       "    </tr>\n",
       "    <tr>\n",
       "      <th>10</th>\n",
       "      <td>c_1013</td>\n",
       "      <td>m</td>\n",
       "      <td>1982</td>\n",
       "      <td>40</td>\n",
       "    </tr>\n",
       "  </tbody>\n",
       "</table>\n",
       "</div>"
      ],
      "text/plain": [
       "   client_id sex  birth  age\n",
       "4     c_5320   m   1943   79\n",
       "5      c_415   m   1993   29\n",
       "8     c_6446   m   1971   51\n",
       "9     c_6866   m   1993   29\n",
       "10    c_1013   m   1982   40"
      ]
     },
     "execution_count": 81,
     "metadata": {},
     "output_type": "execute_result"
    }
   ],
   "source": [
    "hommes = clients_ok[clients_ok['sex'] == 'm']\n",
    "hommes.head()"
   ]
  },
  {
   "cell_type": "code",
   "execution_count": 82,
   "metadata": {},
   "outputs": [
    {
     "data": {
      "text/html": [
       "<div>\n",
       "<style scoped>\n",
       "    .dataframe tbody tr th:only-of-type {\n",
       "        vertical-align: middle;\n",
       "    }\n",
       "\n",
       "    .dataframe tbody tr th {\n",
       "        vertical-align: top;\n",
       "    }\n",
       "\n",
       "    .dataframe thead th {\n",
       "        text-align: right;\n",
       "    }\n",
       "</style>\n",
       "<table border=\"1\" class=\"dataframe\">\n",
       "  <thead>\n",
       "    <tr style=\"text-align: right;\">\n",
       "      <th></th>\n",
       "      <th>birth</th>\n",
       "      <th>age</th>\n",
       "    </tr>\n",
       "  </thead>\n",
       "  <tbody>\n",
       "    <tr>\n",
       "      <th>count</th>\n",
       "      <td>4131</td>\n",
       "      <td>4131</td>\n",
       "    </tr>\n",
       "    <tr>\n",
       "      <th>mean</th>\n",
       "      <td>1978</td>\n",
       "      <td>43</td>\n",
       "    </tr>\n",
       "    <tr>\n",
       "      <th>std</th>\n",
       "      <td>16</td>\n",
       "      <td>16</td>\n",
       "    </tr>\n",
       "    <tr>\n",
       "      <th>min</th>\n",
       "      <td>1929</td>\n",
       "      <td>18</td>\n",
       "    </tr>\n",
       "    <tr>\n",
       "      <th>25%</th>\n",
       "      <td>1966</td>\n",
       "      <td>30</td>\n",
       "    </tr>\n",
       "    <tr>\n",
       "      <th>50%</th>\n",
       "      <td>1980</td>\n",
       "      <td>42</td>\n",
       "    </tr>\n",
       "    <tr>\n",
       "      <th>75%</th>\n",
       "      <td>1992</td>\n",
       "      <td>56</td>\n",
       "    </tr>\n",
       "    <tr>\n",
       "      <th>max</th>\n",
       "      <td>2004</td>\n",
       "      <td>93</td>\n",
       "    </tr>\n",
       "  </tbody>\n",
       "</table>\n",
       "</div>"
      ],
      "text/plain": [
       "       birth   age\n",
       "count   4131  4131\n",
       "mean    1978    43\n",
       "std       16    16\n",
       "min     1929    18\n",
       "25%     1966    30\n",
       "50%     1980    42\n",
       "75%     1992    56\n",
       "max     2004    93"
      ]
     },
     "execution_count": 82,
     "metadata": {},
     "output_type": "execute_result"
    }
   ],
   "source": [
    "hommes.describe().astype(int)"
   ]
  },
  {
   "cell_type": "code",
   "execution_count": 83,
   "metadata": {},
   "outputs": [
    {
     "data": {
      "text/html": [
       "<div>\n",
       "<style scoped>\n",
       "    .dataframe tbody tr th:only-of-type {\n",
       "        vertical-align: middle;\n",
       "    }\n",
       "\n",
       "    .dataframe tbody tr th {\n",
       "        vertical-align: top;\n",
       "    }\n",
       "\n",
       "    .dataframe thead th {\n",
       "        text-align: right;\n",
       "    }\n",
       "</style>\n",
       "<table border=\"1\" class=\"dataframe\">\n",
       "  <thead>\n",
       "    <tr style=\"text-align: right;\">\n",
       "      <th></th>\n",
       "      <th>décompte femmes</th>\n",
       "    </tr>\n",
       "    <tr>\n",
       "      <th>age</th>\n",
       "      <th></th>\n",
       "    </tr>\n",
       "  </thead>\n",
       "  <tbody>\n",
       "    <tr>\n",
       "      <th>18</th>\n",
       "      <td>232</td>\n",
       "    </tr>\n",
       "    <tr>\n",
       "      <th>19</th>\n",
       "      <td>65</td>\n",
       "    </tr>\n",
       "    <tr>\n",
       "      <th>20</th>\n",
       "      <td>66</td>\n",
       "    </tr>\n",
       "    <tr>\n",
       "      <th>21</th>\n",
       "      <td>71</td>\n",
       "    </tr>\n",
       "    <tr>\n",
       "      <th>22</th>\n",
       "      <td>78</td>\n",
       "    </tr>\n",
       "  </tbody>\n",
       "</table>\n",
       "</div>"
      ],
      "text/plain": [
       "     décompte femmes\n",
       "age                 \n",
       "18               232\n",
       "19                65\n",
       "20                66\n",
       "21                71\n",
       "22                78"
      ]
     },
     "execution_count": 83,
     "metadata": {},
     "output_type": "execute_result"
    }
   ],
   "source": [
    "femmes_age = femmes.pivot_table('sex' , 'age', aggfunc = {'sex' : len})\n",
    "femmes_age.columns = ['décompte femmes']\n",
    "femmes_age.head()"
   ]
  },
  {
   "cell_type": "code",
   "execution_count": 84,
   "metadata": {},
   "outputs": [
    {
     "data": {
      "text/html": [
       "<div>\n",
       "<style scoped>\n",
       "    .dataframe tbody tr th:only-of-type {\n",
       "        vertical-align: middle;\n",
       "    }\n",
       "\n",
       "    .dataframe tbody tr th {\n",
       "        vertical-align: top;\n",
       "    }\n",
       "\n",
       "    .dataframe thead th {\n",
       "        text-align: right;\n",
       "    }\n",
       "</style>\n",
       "<table border=\"1\" class=\"dataframe\">\n",
       "  <thead>\n",
       "    <tr style=\"text-align: right;\">\n",
       "      <th></th>\n",
       "      <th>décompte hommes</th>\n",
       "    </tr>\n",
       "    <tr>\n",
       "      <th>age</th>\n",
       "      <th></th>\n",
       "    </tr>\n",
       "  </thead>\n",
       "  <tbody>\n",
       "    <tr>\n",
       "      <th>18</th>\n",
       "      <td>208</td>\n",
       "    </tr>\n",
       "    <tr>\n",
       "      <th>19</th>\n",
       "      <td>81</td>\n",
       "    </tr>\n",
       "    <tr>\n",
       "      <th>20</th>\n",
       "      <td>80</td>\n",
       "    </tr>\n",
       "    <tr>\n",
       "      <th>21</th>\n",
       "      <td>56</td>\n",
       "    </tr>\n",
       "    <tr>\n",
       "      <th>22</th>\n",
       "      <td>58</td>\n",
       "    </tr>\n",
       "  </tbody>\n",
       "</table>\n",
       "</div>"
      ],
      "text/plain": [
       "     décompte hommes\n",
       "age                 \n",
       "18               208\n",
       "19                81\n",
       "20                80\n",
       "21                56\n",
       "22                58"
      ]
     },
     "execution_count": 84,
     "metadata": {},
     "output_type": "execute_result"
    }
   ],
   "source": [
    "hommes_age = hommes.pivot_table('sex' , 'age', aggfunc = {'sex' : len})\n",
    "hommes_age.columns = ['décompte hommes']\n",
    "hommes_age.head()"
   ]
  },
  {
   "cell_type": "code",
   "execution_count": 85,
   "metadata": {},
   "outputs": [
    {
     "data": {
      "image/png": "[encoded data removed]",
      "text/plain": [
       "<Figure size 1080x648 with 1 Axes>"
      ]
     },
     "metadata": {
      "needs_background": "light"
     },
     "output_type": "display_data"
    }
   ],
   "source": [
    "plt.figure(figsize = (15, 9))\n",
    "femmes_nbre = -femmes_age['décompte femmes']\n",
    "hommes_nbre = hommes_age['décompte hommes']\n",
    "age = hommes_age.index\n",
    "r = range(age.min(), len(age) + age.min())\n",
    "plt.barh(r,\n",
    "         femmes_nbre)\n",
    "plt.barh(r,\n",
    "         hommes_nbre)\n",
    "plt.xlabel('Quantité',\n",
    "           size = 15)\n",
    "plt.ylabel('Age',\n",
    "           size = 15)\n",
    "plt.xticks()\n",
    "plt.tick_params('both',\n",
    "                length = 0)\n",
    "plt.grid(linestyle = '--')\n",
    "plt.legend(['Femmes', 'Hommes'])\n",
    "plt.title('Répartition des clients par leurs âges et par leurs sexes', size = 18);"
   ]
  },
  {
   "cell_type": "markdown",
   "metadata": {},
   "source": [
    "- On observe une répartition concernant l'effectif des 18 ans démesurément trop grande par rapport aux autres tranches d'âge des clients, expliquée certainement par des mineurs validant leurs achats en se faisant passer pour des majeurs de 18 ans.\n",
    "- Pic à 66 ans: âge de départ à la retraite à taux plein.\n",
    "- Profils assez symétriques dans l'ensemble."
   ]
  },
  {
   "cell_type": "code",
   "execution_count": 86,
   "metadata": {},
   "outputs": [
    {
     "data": {
      "text/plain": [
       "18    440\n",
       "43    215\n",
       "34    207\n",
       "36    203\n",
       "44    199\n",
       "Name: age, dtype: int64"
      ]
     },
     "execution_count": 86,
     "metadata": {},
     "output_type": "execute_result"
    }
   ],
   "source": [
    "# Dimension des 5 premiers effectifs:\n",
    "clients_ok.age.value_counts().head()"
   ]
  },
  {
   "cell_type": "markdown",
   "metadata": {},
   "source": [
    "A titre de comparaison, à la deuxième place, les 43 ans sont 215.<br/>\n",
    "L'effectif des 18 ans est donc considérée comme valeur aberrante.<br/>On crée donc un dataset supplémentaire, utile possiblement pour des analyses futures qui nécessiteraient des effectifs non biaisés:"
   ]
  },
  {
   "cell_type": "markdown",
   "metadata": {},
   "source": [
    "#### <span style='color:green'>Création d'un dataset dont l'effectif des 18 ans est supprimé:"
   ]
  },
  {
   "cell_type": "code",
   "execution_count": 87,
   "metadata": {},
   "outputs": [
    {
     "data": {
      "text/plain": [
       "(8181, 4)"
      ]
     },
     "execution_count": 87,
     "metadata": {},
     "output_type": "execute_result"
    }
   ],
   "source": [
    "clients_majeurs = clients_ok.drop(clients_ok.loc[clients_ok['age'] == 18].index, 0)\n",
    "clients_majeurs.shape"
   ]
  },
  {
   "cell_type": "code",
   "execution_count": 88,
   "metadata": {},
   "outputs": [
    {
     "data": {
      "image/png": "[encoded data removed]",
      "text/plain": [
       "<Figure size 576x576 with 1 Axes>"
      ]
     },
     "metadata": {
      "needs_background": "light"
     },
     "output_type": "display_data"
    }
   ],
   "source": [
    "plt.figure(figsize = (8, 8))\n",
    "ages = [femmes['age'],\n",
    "        hommes['age']]\n",
    "medianprops = {'color':\"red\"}\n",
    "meanprops = {'marker':'o', 'markeredgecolor':'black', 'markerfacecolor':'firebrick'}\n",
    "\n",
    "plt.boxplot(ages,\n",
    "            widths = 0.5,\n",
    "            medianprops = medianprops,\n",
    "            patch_artist = True,\n",
    "            showmeans = True,\n",
    "            meanprops = meanprops)\n",
    "boites = ['Femmes',\n",
    "          'Hommes']\n",
    "plt.xticks([1,2],\n",
    "           boites)\n",
    "plt.tick_params(axis = 'both',\n",
    "                length = 0)\n",
    "plt.ylabel('Age',\n",
    "           size = 18)\n",
    "plt.grid(axis = 'y')\n",
    "plt.title('Comparaison de l\\'âge des clients par sexe',\n",
    "          loc = 'center',\n",
    "          size = 21);"
   ]
  },
  {
   "cell_type": "markdown",
   "metadata": {},
   "source": [
    "- Quelque soit le sexe, aucun profil ne se distingue sensiblement de l'autre.\n",
    "- La moitié des clients se situe entre 44 et 93 ans, sachant que le dernier quartile va de 56 ans à 93 ans."
   ]
  },
  {
   "cell_type": "markdown",
   "metadata": {},
   "source": [
    "## <span style='color:orange'>2. Que vend l'entreprise?<a name=\"M22\"></a>"
   ]
  },
  {
   "cell_type": "markdown",
   "metadata": {},
   "source": [
    "### <span style='color:purple'>a) Catégorie des produits proposés.<a name=\"M221\"></a>"
   ]
  },
  {
   "cell_type": "code",
   "execution_count": 89,
   "metadata": {},
   "outputs": [],
   "source": [
    "# Calcul des pourcentages:\n",
    "proportion_0 = produits_ok['categ'].value_counts()[0]/produits_ok['categ'].value_counts().sum()*100\n",
    "proportion_1 = produits_ok['categ'].value_counts()[1]/produits_ok['categ'].value_counts().sum()*100\n",
    "proportion_2 = produits_ok['categ'].value_counts()[2]/produits_ok['categ'].value_counts().sum()*100"
   ]
  },
  {
   "cell_type": "code",
   "execution_count": 90,
   "metadata": {},
   "outputs": [
    {
     "data": {
      "image/png": "[encoded data removed]",
      "text/plain": [
       "<Figure size 576x576 with 1 Axes>"
      ]
     },
     "metadata": {},
     "output_type": "display_data"
    }
   ],
   "source": [
    "plt.figure(figsize = (8, 8))\n",
    "plt.pie([proportion_0, proportion_1, proportion_2],\n",
    "        autopct = '%.1f%%',\n",
    "        explode = (0.01, 0.01, 0.01),\n",
    "        pctdistance = 0.7,\n",
    "        startangle = 135)\n",
    "plt.legend(['Catégorie 0', 'Catégorie 1', 'Catégorie 2'],\n",
    "           loc=\"lower left\",\n",
    "           prop = {'size' : 13},\n",
    "           bbox_to_anchor=(0.75, 0, 1, 1))\n",
    "plt.title('Répartition des livres proposés',\n",
    "          size = 20);"
   ]
  },
  {
   "cell_type": "markdown",
   "metadata": {},
   "source": [
    "Sur les 3286 livres disponibles à la vente, la catégorie 0 est majoritaire à 70%."
   ]
  },
  {
   "cell_type": "markdown",
   "metadata": {},
   "source": [
    "### <span style='color:purple'>b) Quels sont les prix des produits proposés?<a name=\"M222\"></a>"
   ]
  },
  {
   "cell_type": "code",
   "execution_count": 91,
   "metadata": {},
   "outputs": [
    {
     "data": {
      "text/html": [
       "<div>\n",
       "<style scoped>\n",
       "    .dataframe tbody tr th:only-of-type {\n",
       "        vertical-align: middle;\n",
       "    }\n",
       "\n",
       "    .dataframe tbody tr th {\n",
       "        vertical-align: top;\n",
       "    }\n",
       "\n",
       "    .dataframe thead th {\n",
       "        text-align: right;\n",
       "    }\n",
       "</style>\n",
       "<table border=\"1\" class=\"dataframe\">\n",
       "  <thead>\n",
       "    <tr style=\"text-align: right;\">\n",
       "      <th></th>\n",
       "      <th>id_prod</th>\n",
       "      <th>price</th>\n",
       "      <th>categ</th>\n",
       "    </tr>\n",
       "  </thead>\n",
       "  <tbody>\n",
       "    <tr>\n",
       "      <th>0</th>\n",
       "      <td>0_1421</td>\n",
       "      <td>19.99</td>\n",
       "      <td>0</td>\n",
       "    </tr>\n",
       "    <tr>\n",
       "      <th>1</th>\n",
       "      <td>0_1368</td>\n",
       "      <td>5.13</td>\n",
       "      <td>0</td>\n",
       "    </tr>\n",
       "    <tr>\n",
       "      <th>2</th>\n",
       "      <td>0_731</td>\n",
       "      <td>17.99</td>\n",
       "      <td>0</td>\n",
       "    </tr>\n",
       "    <tr>\n",
       "      <th>4</th>\n",
       "      <td>0_1507</td>\n",
       "      <td>3.99</td>\n",
       "      <td>0</td>\n",
       "    </tr>\n",
       "    <tr>\n",
       "      <th>5</th>\n",
       "      <td>0_1163</td>\n",
       "      <td>9.99</td>\n",
       "      <td>0</td>\n",
       "    </tr>\n",
       "  </tbody>\n",
       "</table>\n",
       "</div>"
      ],
      "text/plain": [
       "  id_prod  price categ\n",
       "0  0_1421  19.99     0\n",
       "1  0_1368   5.13     0\n",
       "2   0_731  17.99     0\n",
       "4  0_1507   3.99     0\n",
       "5  0_1163   9.99     0"
      ]
     },
     "execution_count": 91,
     "metadata": {},
     "output_type": "execute_result"
    }
   ],
   "source": [
    "produits_0 = produits_ok.loc[produits_ok['categ'] == 0]\n",
    "produits_0.head()"
   ]
  },
  {
   "cell_type": "code",
   "execution_count": 92,
   "metadata": {
    "scrolled": true
   },
   "outputs": [
    {
     "data": {
      "text/plain": [
       "10.32"
      ]
     },
     "execution_count": 92,
     "metadata": {},
     "output_type": "execute_result"
    }
   ],
   "source": [
    "produits_0.price.median().round(2)"
   ]
  },
  {
   "cell_type": "code",
   "execution_count": 93,
   "metadata": {},
   "outputs": [],
   "source": [
    "produits_1 = produits_ok.loc[produits_ok['categ'] == 1]"
   ]
  },
  {
   "cell_type": "code",
   "execution_count": 94,
   "metadata": {},
   "outputs": [],
   "source": [
    "produits_2 = produits_ok.loc[produits_ok['categ'] == 2]"
   ]
  },
  {
   "cell_type": "code",
   "execution_count": 95,
   "metadata": {},
   "outputs": [
    {
     "data": {
      "text/plain": [
       "49"
      ]
     },
     "execution_count": 95,
     "metadata": {},
     "output_type": "execute_result"
    }
   ],
   "source": [
    "bins_0 = int(round(produits_0.price.max()/((produits_0.price.max() - produits_0.price.min())/len(produits_0)**(0.5)), 0))\n",
    "bins_0"
   ]
  },
  {
   "cell_type": "code",
   "execution_count": 96,
   "metadata": {},
   "outputs": [
    {
     "data": {
      "text/plain": [
       "28"
      ]
     },
     "execution_count": 96,
     "metadata": {},
     "output_type": "execute_result"
    }
   ],
   "source": [
    "bins_1 = int(round(produits_1.price.max()/((produits_1.price.max() - produits_1.price.min())/len(produits_1)**(0.5)), 0))\n",
    "bins_1"
   ]
  },
  {
   "cell_type": "code",
   "execution_count": 97,
   "metadata": {},
   "outputs": [
    {
     "data": {
      "text/plain": [
       "17"
      ]
     },
     "execution_count": 97,
     "metadata": {},
     "output_type": "execute_result"
    }
   ],
   "source": [
    "bins_2 = int(round(produits_2.price.max()/((produits_2.price.max() - produits_2.price.min())/len(produits_2)**(0.5)), 0))\n",
    "bins_2"
   ]
  },
  {
   "cell_type": "code",
   "execution_count": null,
   "metadata": {},
   "outputs": [],
   "source": [
    "plt.figure(figsize = (17, 9))\n",
    "\n",
    "plt.subplot(311)\n",
    "plt.hist([produits_0.price], bins = bins_0, edgecolor = 'w')\n",
    "plt.axvline(x = produits_0.price.median().round(2), color = 'red')\n",
    "plt.tick_params(axis = 'both', length = 0)\n",
    "plt.legend(['Médiane', 'Catégorie 0'], fontsize = 12)\n",
    "\n",
    "plt.subplot(312)\n",
    "plt.hist([produits_1.price], bins = bins_1, color = 'darkorange', edgecolor = 'w')\n",
    "plt.axvline(x = produits_1.price.median().round(2), color = 'red')\n",
    "plt.ylabel('Volumes des produits', size = 15)\n",
    "plt.tick_params(axis = 'both', length = 0)\n",
    "plt.legend(['Médiane', 'Catégorie 1'], fontsize = 12)\n",
    "\n",
    "plt.subplot(313)\n",
    "plt.hist([produits_2.price], bins = bins_2, color = 'forestgreen', edgecolor = 'w')\n",
    "plt.axvline(x = produits_2.price.median().round(2), color = 'red')\n",
    "plt.xlabel('Prix (€)', size = 15)\n",
    "plt.tick_params(axis = 'both', length = 0)\n",
    "plt.tick_params(axis = 'both', length = 0)\n",
    "plt.legend(['Médiane', 'Catégorie 2'], fontsize = 12)\n",
    "\n",
    "plt.suptitle('Répartition des livres par prix');"
   ]
  },
  {
   "cell_type": "markdown",
   "metadata": {},
   "source": [
    "- Catégories 0 et 1: La moitié des livres ont un prix de vente abordable.\n",
    "- Catégorie 2: Il faut avoir un budget plus conséquent pour accéder à cette gamme => seuil psychologique à dépasser pour le client."
   ]
  },
  {
   "cell_type": "markdown",
   "metadata": {},
   "source": [
    "#### <span style='color:green'>Comparaison globale:<a name=\"M2221\"></a>"
   ]
  },
  {
   "cell_type": "code",
   "execution_count": null,
   "metadata": {},
   "outputs": [],
   "source": [
    "plt.figure(figsize = (15, 8))\n",
    "\n",
    "prix = [produits_0['price'],\n",
    "        produits_1['price'],\n",
    "        produits_2['price']]\n",
    "\n",
    "medianprops = {'color':\"red\"}\n",
    "meanprops = {'marker':'o', 'markeredgecolor':'black', 'markerfacecolor':'firebrick'}\n",
    "\n",
    "plt.subplot(121)\n",
    "plt.boxplot(prix, widths = 0.7, medianprops = medianprops,\n",
    "            patch_artist = True,\n",
    "            showmeans = True,\n",
    "            meanprops = meanprops)\n",
    "boites = ['0', '1', '2']\n",
    "plt.xticks([1,2,3],\n",
    "           boites)\n",
    "plt.tick_params(axis = 'both',\n",
    "                length = 0)\n",
    "plt.xlabel('Catégories',\n",
    "           size = 17)\n",
    "plt.ylabel('Prix',\n",
    "           size = 17)\n",
    "plt.grid(axis = 'y')\n",
    "\n",
    "plt.subplot(122)\n",
    "plt.boxplot(prix,\n",
    "            whis = 'range', # intégre les outliers\n",
    "            widths = 0.7,\n",
    "            medianprops = medianprops,\n",
    "            patch_artist = True,\n",
    "            showmeans = True,\n",
    "            meanprops = meanprops)  \n",
    "boites = ['0', '1', '2']\n",
    "plt.xticks([1,2,3],\n",
    "           boites)\n",
    "plt.tick_params(axis = 'both',\n",
    "                length = 0)\n",
    "plt.xlabel('Catégories',\n",
    "           size = 17)\n",
    "plt.grid(axis = 'y')\n",
    "plt.title('outliers intégrés',\n",
    "          size = 19)\n",
    "\n",
    "plt.suptitle('Comparaison des prix par catégorie', size = 19);"
   ]
  },
  {
   "cell_type": "markdown",
   "metadata": {},
   "source": [
    "CCL: On intégre les outliers car ils font sens dans l'étude des prix de chaque catégorie."
   ]
  },
  {
   "cell_type": "code",
   "execution_count": null,
   "metadata": {},
   "outputs": [],
   "source": [
    "# Création d'une fonction qui permet de détailler les outliers:\n",
    "def outliers(data, col):\n",
    "    quartile_1 = data[col].quantile(0.25)\n",
    "    quartile_3 = data[col].quantile(0.75)\n",
    "    IQ = quartile_3 - quartile_1\n",
    "    seuil = 1.5*IQ \n",
    "    print('Limite basse=',quartile_1 - seuil)\n",
    "    print('Limite haute=',quartile_3 + seuil)\n",
    "    aberrants = data[~data[col].between((quartile_1 - seuil), (quartile_3 + seuil))]\n",
    "    sans_aberrants = data[data[col].between((quartile_1 - seuil), (quartile_3 + seuil))]\n",
    "    print('Nombre d\\'outliers:',aberrants.shape[0])\n",
    "    return aberrants"
   ]
  },
  {
   "cell_type": "code",
   "execution_count": null,
   "metadata": {
    "scrolled": false
   },
   "outputs": [],
   "source": [
    "outliers(produits_0, 'price')"
   ]
  },
  {
   "cell_type": "code",
   "execution_count": null,
   "metadata": {},
   "outputs": [],
   "source": [
    "outliers(produits_1, 'price')"
   ]
  },
  {
   "cell_type": "code",
   "execution_count": null,
   "metadata": {},
   "outputs": [],
   "source": [
    "outliers(produits_2, 'price')"
   ]
  },
  {
   "cell_type": "markdown",
   "metadata": {},
   "source": [
    "## <span style='color:orange'>3. Résultats bruts des ventes.<a name=\"M23\"></a>"
   ]
  },
  {
   "cell_type": "markdown",
   "metadata": {},
   "source": [
    "### <span style='color:purple'>a) Quels produits ont été vendus?<a name=\"M231\"></a>"
   ]
  },
  {
   "cell_type": "markdown",
   "metadata": {},
   "source": [
    "#### <span style='color:blue'>Volumes d'achat des produits:<a name=\"M2311\"></a>"
   ]
  },
  {
   "cell_type": "code",
   "execution_count": null,
   "metadata": {},
   "outputs": [],
   "source": [
    "activites.price = activites.price.apply(np.float64)"
   ]
  },
  {
   "cell_type": "code",
   "execution_count": null,
   "metadata": {},
   "outputs": [],
   "source": [
    "vca_produits = pd.pivot_table(activites, 'client_id', ['id_prod', 'categ', 'price'], aggfunc = {'client_id': len})\n",
    "vca_produits.reset_index(['categ', 'price'], inplace = True)\n",
    "vca_produits.columns = ['categ', 'price', 'volume d\\'achat'] \n",
    "vca_produits['montant'] = vca_produits.price.mul(vca_produits['volume d\\'achat'], 0)\n",
    "vca_produits.head()"
   ]
  },
  {
   "cell_type": "code",
   "execution_count": null,
   "metadata": {},
   "outputs": [],
   "source": [
    "vca_produits0 = vca_produits[vca_produits.categ == 0]\n",
    "vca_produits1 = vca_produits[vca_produits.categ == 1]\n",
    "vca_produits2 = vca_produits[vca_produits.categ == 2]"
   ]
  },
  {
   "cell_type": "markdown",
   "metadata": {},
   "source": [
    "#### <span style='color:green'>Podium des 10 livres de chaque catégorie les plus vendus:<a name=\"M23111\"></a>"
   ]
  },
  {
   "cell_type": "markdown",
   "metadata": {},
   "source": [
    "Catégorie 0:"
   ]
  },
  {
   "cell_type": "code",
   "execution_count": null,
   "metadata": {},
   "outputs": [],
   "source": [
    "vca_produits0.sort_values(by = 'volume d\\'achat', ascending = False).head(10)"
   ]
  },
  {
   "cell_type": "markdown",
   "metadata": {},
   "source": [
    "Catégorie 1:"
   ]
  },
  {
   "cell_type": "code",
   "execution_count": null,
   "metadata": {},
   "outputs": [],
   "source": [
    "vca_produits1.sort_values(by = 'volume d\\'achat', ascending = False).head(10)"
   ]
  },
  {
   "cell_type": "markdown",
   "metadata": {},
   "source": [
    "Catégorie 2:"
   ]
  },
  {
   "cell_type": "code",
   "execution_count": null,
   "metadata": {},
   "outputs": [],
   "source": [
    "vca_produits2.sort_values(by = 'volume d\\'achat', ascending = False).head(10)"
   ]
  },
  {
   "cell_type": "code",
   "execution_count": null,
   "metadata": {
    "scrolled": true
   },
   "outputs": [],
   "source": [
    "vca_produits0.count()[0]"
   ]
  },
  {
   "cell_type": "code",
   "execution_count": null,
   "metadata": {},
   "outputs": [],
   "source": [
    "vca_produits0['volume d\\'achat'].sum()"
   ]
  },
  {
   "cell_type": "code",
   "execution_count": null,
   "metadata": {},
   "outputs": [],
   "source": [
    "vca_produits1.count()[0]"
   ]
  },
  {
   "cell_type": "code",
   "execution_count": null,
   "metadata": {
    "scrolled": true
   },
   "outputs": [],
   "source": [
    "vca_produits1['volume d\\'achat'].sum()"
   ]
  },
  {
   "cell_type": "code",
   "execution_count": null,
   "metadata": {},
   "outputs": [],
   "source": [
    "vca_produits2.count()[0]"
   ]
  },
  {
   "cell_type": "code",
   "execution_count": null,
   "metadata": {},
   "outputs": [],
   "source": [
    "vca_produits2['volume d\\'achat'].sum()"
   ]
  },
  {
   "cell_type": "markdown",
   "metadata": {},
   "source": [
    "Quelques chiffres très généraux:<br/>\n",
    "- 2292 livres catégorie 0:\n",
    "                \n",
    "     - 209529 ventes\n",
    "\n",
    "\n",
    "- 737 livres catégorie 1:\n",
    "\n",
    "     - 109735 ventes\n",
    "\n",
    "\n",
    "- 236 livres catégorie 2:\n",
    "\n",
    "     - 17552 ventes."
   ]
  },
  {
   "cell_type": "markdown",
   "metadata": {},
   "source": [
    "#### <span style='color:green'>Evolution du montant des ventes en fonction du volume de produits proposés:<a name=\"M23112\"></a>"
   ]
  },
  {
   "cell_type": "code",
   "execution_count": null,
   "metadata": {},
   "outputs": [],
   "source": [
    "fig = plt.figure(figsize = (8, 8))\n",
    "\n",
    "ca_pro = vca_produits['montant'].values\n",
    "lorenz = np.cumsum(np.sort(ca_pro)) / ca_pro.sum()\n",
    "lorenz = np.append([0], lorenz)\n",
    "x = np.linspace(0, 1, len(lorenz))\n",
    "\n",
    "plt.plot(x, lorenz)\n",
    "plt.plot(x, x)\n",
    "plt.axhline(0.2, color = 'slateblue', linestyle = '--')\n",
    "plt.legend(['Lorenz', 'D: y = x', 'Pareto'], loc = 'best', prop = {'size' : 12})\n",
    "plt.grid()\n",
    "plt.xlabel('Produits', size = 17)\n",
    "plt.ylabel('Montant',  size = 17)\n",
    "plt.tick_params(axis = 'both', length = 0, labelsize = 15)\n",
    "plt.title('Evolution du montant des ventes', size = 20);"
   ]
  },
  {
   "cell_type": "code",
   "execution_count": null,
   "metadata": {},
   "outputs": [],
   "source": [
    "AUC = (lorenz.sum() -lorenz[-1]/2 -lorenz[0]/2)/len(ca_pro)\n",
    "S = 0.5 - AUC\n",
    "gini = 2*S\n",
    "gini"
   ]
  },
  {
   "cell_type": "markdown",
   "metadata": {},
   "source": [
    "L'indice de Gini confirme que le montant des ventes de livres est inégalitaire de l'ordre de 74%.<br/>Comme l'indique le principe de Pareto, 20% des livres vendus apportent 80 % du CA ce qui pose la question de:\n",
    "- l'intêret de proposer autant de choix.\n",
    "- ne cibler les ventes exclusivement que sur ses articles très prisés.\n",
    "- les produits qui fonctionnent dans le temps.\n",
    "- ceux qui ne fonctionnent pas ou plus."
   ]
  },
  {
   "cell_type": "markdown",
   "metadata": {},
   "source": [
    "#### <span style='color:blue'>Détail du volume des ventes par mois:<a name=\"M2312\"></a>"
   ]
  },
  {
   "cell_type": "code",
   "execution_count": null,
   "metadata": {
    "scrolled": false
   },
   "outputs": [],
   "source": [
    "# table pivot affichant par mois les volumes et CA des ventes par catégorie et total\n",
    "vca = activites.pivot_table('price' , 'annee-mois', 'categ', aggfunc = {'price': [len, np.sum]}, fill_value = 0)\n",
    "vca['quantité totale'] = vca.len[0].add(vca.len[1]).add(vca.len[2])\n",
    "vca['montant total'] = vca['sum'][0].add(vca['sum'][1]).add(vca['sum'][2])\n",
    "vca.insert(6, 'montant total', vca.pop('montant total')) # Déplacement de la colonne créée.\n",
    "vca.insert(3, 'quantité totale', vca.pop('quantité totale')) \n",
    "vca"
   ]
  },
  {
   "cell_type": "code",
   "execution_count": null,
   "metadata": {},
   "outputs": [],
   "source": [
    "vca['montant total'].sum().astype(int)"
   ]
  },
  {
   "cell_type": "markdown",
   "metadata": {},
   "source": [
    "Le montant du CA global est de l'ordre de 5 800 000 euros."
   ]
  },
  {
   "cell_type": "code",
   "execution_count": null,
   "metadata": {},
   "outputs": [],
   "source": [
    "qtt_c0 = vca.xs(0, axis = 1, level = 1).drop('sum', 1)\n",
    "qtt_c0.head()"
   ]
  },
  {
   "cell_type": "code",
   "execution_count": null,
   "metadata": {},
   "outputs": [],
   "source": [
    "quantite_c0 = qtt_c0.len"
   ]
  },
  {
   "cell_type": "code",
   "execution_count": null,
   "metadata": {},
   "outputs": [],
   "source": [
    "qtt_c1 = vca.xs(1, axis = 1, level = 1).drop('sum', 1)\n",
    "quantite_c1 = qtt_c1.len"
   ]
  },
  {
   "cell_type": "code",
   "execution_count": null,
   "metadata": {},
   "outputs": [],
   "source": [
    "qtt_c2 = vca.xs(2, axis = 1, level = 1).drop('sum', 1)\n",
    "quantite_c2 = qtt_c2.len"
   ]
  },
  {
   "cell_type": "code",
   "execution_count": null,
   "metadata": {},
   "outputs": [],
   "source": [
    "plt.figure(figsize = (17, 9))\n",
    "\n",
    "mois = vca.index\n",
    "\n",
    "plt.plot(range(len(mois)),\n",
    "        qtt_c0,\n",
    "        'o-')\n",
    "plt.plot(range(len(mois)),\n",
    "        qtt_c1,\n",
    "        'o-')\n",
    "plt.plot(range(len(mois)),\n",
    "        qtt_c2,\n",
    "        'o-')\n",
    "plt.xlabel('Mois',\n",
    "           size = 21)\n",
    "plt.tick_params(axis = 'both',\n",
    "                length = 0,\n",
    "               labelsize = 15)\n",
    "plt.ylabel('Volume',\n",
    "           size = 18)\n",
    "plt.xticks(range(len(mois)),\n",
    "           ['Mars', '', 'Mai', '', 'Jui', '', 'Sept','', 'Nov', '', 'Jan'])\n",
    "plt.grid(axis = 'x')\n",
    "plt.title('Volume de ventes par mois',\n",
    "         size = 22)\n",
    "plt.legend(['Catégorie 0', 'Catégorie 1', 'Catégorie 2'],\n",
    "           fontsize = 13);"
   ]
  },
  {
   "cell_type": "markdown",
   "metadata": {},
   "source": [
    "- La catégorie 2 étant relativement stable dans son évolution, on observe une compensation qui s'opère d'elle-même entre les ventes des catégories 0 et 1, ce qui permet de maintenir une stabilité continue des ventes.\n",
    "- Nécessité d'avoir du personnel de ventes en septembre (rentrée littéraire) et pour Noël.\n",
    "- Problème à éclaircir en octobre pour la catégorie 1."
   ]
  },
  {
   "cell_type": "markdown",
   "metadata": {},
   "source": [
    "#### <span style='color:green'>Recherche d'explications concernant la baisse soudaine d'octobre de la catégorie 1:<a name=\"M23121\"></a>"
   ]
  },
  {
   "cell_type": "code",
   "execution_count": null,
   "metadata": {},
   "outputs": [],
   "source": [
    "octobre = pd.pivot_table(activites[activites.categ == 1].loc[activites['annee-mois'] == '2021-10'], 'price', 'jour', aggfunc = {'price': sum})\n",
    "octobre"
   ]
  },
  {
   "cell_type": "code",
   "execution_count": null,
   "metadata": {},
   "outputs": [],
   "source": [
    "# On complète les jours manquants d'octobre afin de créer une table entière:\n",
    "data = pd.DataFrame(index = range(2, 28), columns = ['price']).fillna(0)\n",
    "data['jour'] = data.apply(lambda x: x.index)\n",
    "octobre = octobre.reset_index()\n",
    "octobre.jour = octobre['jour'].apply(lambda x: int(x))\n",
    "octobre = pd.concat([octobre, data], sort = True)\n",
    "octobre.sort_values(by = 'jour')\n",
    "octobre = pd.pivot_table(octobre, 'price', 'jour')\n",
    "octobre.reset_index(inplace = True)\n",
    "octobre.head()"
   ]
  },
  {
   "cell_type": "code",
   "execution_count": null,
   "metadata": {},
   "outputs": [],
   "source": [
    "plt.figure(figsize = (17, 8))\n",
    "jour = []\n",
    "for i in range(16):\n",
    "    jour.append(2*i + 1)\n",
    "    jour.append('')\n",
    "plt.plot(range(len(octobre.index)),\n",
    "        octobre.price,\n",
    "        'red')\n",
    "plt.xlabel('Jour',\n",
    "           size = 21)\n",
    "plt.ylabel('CA',\n",
    "           fontsize=20)  \n",
    "plt.grid(ls = '--')\n",
    "plt.xticks(np.arange(len(octobre.index)),\n",
    "           jour)\n",
    "plt.tick_params(axis = 'both',\n",
    "                length = 0,\n",
    "               labelsize = 15)\n",
    "plt.title('CA catégorie 1 en octobre',\n",
    "          size = 23);"
   ]
  },
  {
   "cell_type": "markdown",
   "metadata": {},
   "source": [
    "On constate qu'il n'y a eu aucune vente d'enregistrées entre le 2 et le 27 inclus.<br/>\n",
    "Il y a donc certainement eu un problème technique de la part du serveur.\n",
    "A signaler."
   ]
  },
  {
   "cell_type": "markdown",
   "metadata": {},
   "source": [
    "#### <span style='color:blue'>Détail du chiffre d'affaires par mois:<a name=\"M2313\"></a>"
   ]
  },
  {
   "cell_type": "code",
   "execution_count": null,
   "metadata": {},
   "outputs": [],
   "source": [
    "ca_c0 = vca.xs(0, axis = 1, level = 1).drop('len', 1)\n",
    "ca_c0 = ca_c0.reset_index()\n",
    "ca_c0.head()"
   ]
  },
  {
   "cell_type": "code",
   "execution_count": null,
   "metadata": {},
   "outputs": [],
   "source": [
    "ca_c1 = vca.xs(1, axis = 1, level = 1).drop('len', 1)\n",
    "ca_c1 = ca_c1.reset_index()"
   ]
  },
  {
   "cell_type": "code",
   "execution_count": null,
   "metadata": {},
   "outputs": [],
   "source": [
    "ca_c2 = vca.xs(2, axis = 1, level = 1).drop('len', 1)\n",
    "ca_c2 = ca_c2.reset_index()"
   ]
  },
  {
   "cell_type": "code",
   "execution_count": null,
   "metadata": {},
   "outputs": [],
   "source": [
    "ca = vca.xs('montant total', axis = 1, level = 0)\n",
    "ca = ca.reset_index()\n",
    "ca.columns = ['annee-mois', 'montant total']"
   ]
  },
  {
   "cell_type": "code",
   "execution_count": null,
   "metadata": {},
   "outputs": [],
   "source": [
    "plt.figure(figsize = (17, 9))\n",
    "mois = ca.index\n",
    "plt.bar(range(len(mois)),\n",
    "        ca_c0['sum'],\n",
    "        bottom = ca_c1['sum'] + ca_c2['sum'],\n",
    "        edgecolor = 'w',\n",
    "        linewidth = 2)\n",
    "plt.bar(range(len(mois)),\n",
    "        ca_c1['sum'],\n",
    "        bottom = ca_c2['sum'],\n",
    "        edgecolor = 'w',\n",
    "        linewidth = 2)\n",
    "plt.bar(range(len(mois)),\n",
    "        ca_c2['sum'],\n",
    "        edgecolor = 'w',\n",
    "        linewidth = 2)\n",
    "plt.axhline(ca['montant total'].mean(),\n",
    "          color = 'r')\n",
    "plt.xticks(np.arange(len(mois)),\n",
    "           ['Mars', '', 'Mai', '', 'Jui', '', 'Sept','', 'Nov', '', 'Jan'])\n",
    "plt.tick_params(axis = 'both',\n",
    "                length = 0,\n",
    "               labelsize = 15)\n",
    "plt.ylabel('CA',\n",
    "           size = 21)\n",
    "plt.legend(['Moyenne', 'Catégorie 0', 'Catégorie 1', 'Catégorie 2'],\n",
    "           loc= (0.87, 1.02),\n",
    "           prop = {'size' : 12})\n",
    "for x,y in zip(range(len(mois)), ca['montant total'].astype(int)):\n",
    "    plt.text(x,\n",
    "             y,\n",
    "             y,\n",
    "             ha = 'center', \n",
    "             va = 'bottom',\n",
    "             fontsize = 15)\n",
    "plt.title('CA par mois',\n",
    "          size = 23);"
   ]
  },
  {
   "cell_type": "markdown",
   "metadata": {},
   "source": [
    "CCL:\n",
    "A part une baisse importante enregistrée en octobre due à une panne de serveur, le CA ne fait qu\\'augmenter."
   ]
  },
  {
   "cell_type": "code",
   "execution_count": null,
   "metadata": {},
   "outputs": [],
   "source": [
    "qtt_tot = vca.xs('quantité totale', axis = 1, level = 0)\n",
    "qtt_tot.reset_index(inplace = True)\n",
    "qtt_tot.sum(1)"
   ]
  },
  {
   "cell_type": "code",
   "execution_count": null,
   "metadata": {},
   "outputs": [],
   "source": [
    "plt.figure(figsize = (17, 9))\n",
    "mois = ca.index\n",
    "ax1 = plt.subplot()\n",
    "ax1.plot(range(len(mois)),\n",
    "        ca.sum(1),\n",
    "        'bo-')\n",
    "plt.xlabel('Mois',\n",
    "           size = 21)\n",
    "plt.ylabel('CA',\n",
    "           color = 'b',\n",
    "           fontsize = 20)  \n",
    "for tl in ax1.get_yticklabels(): tl.set_color('b')\n",
    "plt.legend(['CA'])\n",
    "plt.tick_params(axis = 'both',\n",
    "                length = 0,\n",
    "               labelsize = 15)\n",
    "\n",
    "ax2 = ax1.twinx()\n",
    "ax2.plot(range(len(mois)),\n",
    "        qtt_tot.sum(1),\n",
    "        'ro-')\n",
    "plt.ylabel('Ventes',\n",
    "           color='r',\n",
    "           fontsize=20)  \n",
    "for tl in ax2.get_yticklabels(): tl.set_color('r')\n",
    "plt.legend(['Ventes'],\n",
    "          loc = 'center right')\n",
    "\n",
    "plt.xticks(np.arange(len(mois)),\n",
    "           ['Mars', '', 'Mai', '', 'Jui', '', 'Sept','', 'Nov', '', 'Jan'],\n",
    "          size = 20)\n",
    "plt.tick_params(axis = 'both',\n",
    "                length = 0,\n",
    "               labelsize = 15)\n",
    "plt.grid(ls = '--')\n",
    "plt.title('CA global et ventes',\n",
    "          size = 23);"
   ]
  },
  {
   "cell_type": "markdown",
   "metadata": {},
   "source": [
    "CCL:\n",
    "- Les ventes en moins des livres de catégorie 1 en octobre (10000 ventes en moins) font s'effondrer le CA global.\n",
    "Cette catégorie joue donc un rôle prépondérant dans la santé financière de l'entreprise.\n",
    "- Malgré cela, quand les ventes diminuent, le CA reste stable ou continue de croître."
   ]
  },
  {
   "cell_type": "markdown",
   "metadata": {},
   "source": [
    "#### <span style='color:blue'>Comparaison chiffre d'affaire et volume des ventes:<a name=\"M2314\"></a>"
   ]
  },
  {
   "cell_type": "code",
   "execution_count": null,
   "metadata": {},
   "outputs": [],
   "source": [
    "# Calcul des proportions des CA et des ventes par catégorie:\n",
    "prop_ca_c0 = vca['sum'].sum()[0]/vca['montant total'].sum()*100\n",
    "prop_ca_c1 = vca['sum'].sum()[1]/vca['montant total'].sum()*100\n",
    "prop_ca_c2 = vca['sum'].sum()[2]/vca['montant total'].sum()*100\n",
    "prop_v0 = quantite_c0.sum()/vca.sum()[0]*100\n",
    "prop_v1 = quantite_c1.sum()/vca.sum()[0]*100\n",
    "prop_v2 = quantite_c2.sum()/vca.sum()[0]*100"
   ]
  },
  {
   "cell_type": "code",
   "execution_count": null,
   "metadata": {},
   "outputs": [],
   "source": [
    "plt.figure(figsize = (15, 8))\n",
    "plt.subplot(1, 2, 1)\n",
    "plt.pie([prop_v0, prop_v1, prop_v2],\n",
    "        autopct = '%.1f%%',\n",
    "        explode = (0.01, 0.01, 0.01),\n",
    "        pctdistance = 0.7,\n",
    "        startangle = 135)\n",
    "plt.legend(['Catégorie 0', 'Catégorie 1', 'Catégorie 2'],\n",
    "           loc=\"lower left\",\n",
    "           prop = {'size' : 13},\n",
    "           bbox_to_anchor=(0.95, 0, 1, 1))\n",
    "plt.title('Ventes',\n",
    "          size = 20)\n",
    "\n",
    "plt.subplot(1, 2, 2)\n",
    "plt.pie([prop_ca_c0, prop_ca_c1, prop_ca_c2],\n",
    "        autopct = '%.1f%%',\n",
    "        explode = (0.01, 0.01, 0.01),\n",
    "        pctdistance = 0.5,\n",
    "        startangle = 135)\n",
    "plt.title('CA',\n",
    "          size = 20)\n",
    "plt.suptitle('Ventes et CA global de l\\'entreprise',\n",
    "             size = 21);"
   ]
  },
  {
   "cell_type": "markdown",
   "metadata": {},
   "source": [
    "- Très bonne équilibre des ventes en général.\n",
    "- La catégorie 1 domine le CA.\n",
    "- La catégorie 2 ne représente que 5% des ventes: Malgré cela, son CA est équivalent à quasiment un quart des ventes, ce qui montre son importance dans la santé financière de l'entreprise."
   ]
  },
  {
   "cell_type": "markdown",
   "metadata": {},
   "source": [
    "### <span style='color:purple'>b) Composition du panier des clients:<a name=\"M232\"></a>"
   ]
  },
  {
   "cell_type": "code",
   "execution_count": null,
   "metadata": {},
   "outputs": [],
   "source": [
    "paniers = activites.pivot_table('price' , 'client_id', 'categ', aggfunc = {'price': [len, np.sum]}, fill_value = 0)\n",
    "paniers['quantité totale'] = paniers.len[0].add(paniers.len[1]).add(paniers.len[2])\n",
    "paniers['montant total'] = paniers['sum'][0].add(paniers['sum'][1]).add(paniers['sum'][2])\n",
    "paniers.insert(6, 'montant total', paniers.pop('montant total'))\n",
    "paniers.insert(3, 'quantité totale', paniers.pop('quantité totale'))\n",
    "paniers.sort_values('montant total', ascending = False).head()"
   ]
  },
  {
   "cell_type": "markdown",
   "metadata": {},
   "source": [
    "On remarque 4 clients dont les achats sont des outliers.<br/>\n",
    "Ces clients sont des revendeurs professionnels qui se fournissent par le biais de l\\'entreprise."
   ]
  },
  {
   "cell_type": "code",
   "execution_count": null,
   "metadata": {},
   "outputs": [],
   "source": [
    "fig = plt.figure(figsize = (8, 8))\n",
    "\n",
    "paniers_totaux = paniers['montant total'].values\n",
    "lorenz_total= np.cumsum(np.sort(paniers_totaux)) / paniers_totaux.sum()\n",
    "lorenz_total = np.append([0], lorenz_total)\n",
    "x_total = np.linspace(0, 1, len(lorenz_total))\n",
    "\n",
    "paniers_qc = paniers[paniers['montant total'] < 50000]\n",
    "paniers_lambda = paniers_qc['montant total'].values\n",
    "lorenz_lambda = np.cumsum(np.sort(paniers_lambda)) / paniers_lambda.sum()\n",
    "lorenz_lambda = np.append([0], lorenz_lambda)\n",
    "x_lambda = np.linspace(0, 1, len(lorenz_lambda))\n",
    "\n",
    "plt.plot(x_total,\n",
    "         lorenz_total,\n",
    "         color = 'blue')\n",
    "plt.plot(x_lambda,\n",
    "         lorenz_lambda,\n",
    "         color = 'indigo')\n",
    "plt.plot(x_total,\n",
    "         x_total,\n",
    "         color = 'red')\n",
    "plt.axhline(0.5,\n",
    "            color = 'slateblue',\n",
    "            linestyle = '--')\n",
    "plt.xlabel('Nombre de clients (en %)',\n",
    "          size = 18)\n",
    "plt.ylabel('Chiffres d\\'affaires (en %)',\n",
    "          size = 18)\n",
    "plt.legend(['Tout client', 'Clients lambda', 'D: y = x', 'médiale'],\n",
    "           loc= 'lower right',\n",
    "           prop = {'size' : 12})\n",
    "plt.grid()\n",
    "plt.tick_params(axis = 'both',\n",
    "                length = 0,\n",
    "               labelsize = 15)\n",
    "plt.title('Achats tout clients vs clients lambda',\n",
    "         size = 22);"
   ]
  },
  {
   "cell_type": "markdown",
   "metadata": {},
   "source": [
    "Les 4 revendeurs professionnels génèrent 7.5 % du CA global sur les plus de 8600 acheteurs."
   ]
  },
  {
   "cell_type": "code",
   "execution_count": null,
   "metadata": {},
   "outputs": [],
   "source": [
    "AUC = (lorenz_total.sum() -lorenz_total[-1]/2 -lorenz_total[0]/2)/len(paniers_totaux)\n",
    "S = 0.5 - AUC\n",
    "gini_total = 2*S\n",
    "gini_total"
   ]
  },
  {
   "cell_type": "code",
   "execution_count": null,
   "metadata": {},
   "outputs": [],
   "source": [
    "AUC = (lorenz_lambda.sum() -lorenz_lambda[-1]/2 -lorenz_lambda[0]/2)/len(paniers_lambda)\n",
    "S = 0.5 - AUC\n",
    "gini_lambda = 2*S\n",
    "gini_lambda"
   ]
  },
  {
   "cell_type": "markdown",
   "metadata": {},
   "source": [
    "Les indices de Gini confirment le \"déséquilibre\" causé par ces seuls quatre revendeurs. "
   ]
  },
  {
   "cell_type": "markdown",
   "metadata": {},
   "source": [
    "#### <span style='color:blue'>Paniers revendeurs et paniers clients lambda<a name=\"M2321\"></a>"
   ]
  },
  {
   "cell_type": "markdown",
   "metadata": {},
   "source": [
    "On sépare les revendeurs des clients lambda pour les besoins de l'analyse.\n",
    "<br/>On étudiera ici principalement les habitudes de consommation des clients lambda, celles des revendeurs (si on peut employer en ce qui les concerne le terme \"habitude\") n'étant pas ici ce qui nous intéresse de prime abord.\n",
    "<br/>Elles pourront faire l'objet d'une analyse ultérieure."
   ]
  },
  {
   "cell_type": "code",
   "execution_count": null,
   "metadata": {},
   "outputs": [],
   "source": [
    "paniers_pro = paniers.sort_values('montant total', ascending = False).iloc[0:4]\n",
    "paniers_pro # OK pour eux."
   ]
  },
  {
   "cell_type": "code",
   "execution_count": null,
   "metadata": {},
   "outputs": [],
   "source": [
    "paniers_lambda = paniers.sort_values('montant total', ascending = False).iloc[4::]\n",
    "paniers_lambda.head(10) # Ok pour tous les autres"
   ]
  },
  {
   "cell_type": "code",
   "execution_count": null,
   "metadata": {},
   "outputs": [],
   "source": [
    "paniers_pro.describe().round(0).astype(int)"
   ]
  },
  {
   "cell_type": "code",
   "execution_count": null,
   "metadata": {},
   "outputs": [],
   "source": [
    "paniers_lambda.describe().astype(int)"
   ]
  },
  {
   "cell_type": "markdown",
   "metadata": {},
   "source": [
    "Les descriptions des paniers des vendeurs professionnels et des clients lambda sont radicalement différentes.  "
   ]
  },
  {
   "cell_type": "code",
   "execution_count": null,
   "metadata": {},
   "outputs": [],
   "source": [
    "# Calcul des propotions de CA par catégorie pour les revendeurs et les clients lambda:\n",
    "\n",
    "prop_cac0_pro = paniers_pro['sum'].sum()[0]/paniers_pro['montant total'].sum()*100\n",
    "prop_cac1_pro = paniers_pro['sum'].sum()[1]/paniers_pro['montant total'].sum()*100\n",
    "prop_cac2_pro = paniers_pro['sum'].sum()[2]/paniers_pro['montant total'].sum()*100\n",
    "\n",
    "prop_cac0_lambda = paniers_lambda['sum'].sum()[0]/paniers_lambda['montant total'].sum()*100\n",
    "prop_cac1_lambda = paniers_lambda['sum'].sum()[1]/paniers_lambda['montant total'].sum()*100\n",
    "prop_cac2_lambda = paniers_lambda['sum'].sum()[2]/paniers_lambda['montant total'].sum()*100"
   ]
  },
  {
   "cell_type": "code",
   "execution_count": null,
   "metadata": {},
   "outputs": [],
   "source": [
    "# # Calcul des proportions de volume de ventes par catégorie pour les revendeurs et les clients lambda:\n",
    "\n",
    "prop_v0_pro = paniers_pro['len'].sum()[0]/paniers_pro.sum()[0]*100\n",
    "prop_v1_pro = paniers_pro['len'].sum()[1]/paniers_pro.sum()[0]*100\n",
    "prop_v2_pro = paniers_pro['len'].sum()[2]/paniers_pro.sum()[0]*100\n",
    "\n",
    "prop_v0_lambda = paniers_lambda['len'].sum()[0]/paniers_lambda.sum()[0]*100\n",
    "prop_v1_lambda = paniers_lambda['len'].sum()[1]/paniers_lambda.sum()[0]*100\n",
    "prop_v2_lambda = paniers_lambda['len'].sum()[2]/paniers_lambda.sum()[0]*100"
   ]
  },
  {
   "cell_type": "code",
   "execution_count": null,
   "metadata": {},
   "outputs": [],
   "source": [
    "plt.figure(figsize = (15, 9))\n",
    "\n",
    "plt.subplot(2, 2, 1)\n",
    "plt.pie([prop_v0_pro, prop_v1_pro, prop_v2_pro],\n",
    "        autopct = '%.1f%%',\n",
    "        explode = (0.01, 0.01, 0.01),\n",
    "        pctdistance = 0.7,\n",
    "        startangle = 135)\n",
    "plt.title('Ventes revendeurs',\n",
    "          size = 18)\n",
    "\n",
    "plt.subplot(2, 2, 3)\n",
    "plt.pie([prop_cac0_pro, prop_cac1_pro, prop_cac2_pro],\n",
    "        autopct = '%.1f%%',\n",
    "        explode = (0.01, 0.01, 0.01),\n",
    "        pctdistance = 0.5,\n",
    "        startangle = 135)\n",
    "plt.title('CA revendeurs',\n",
    "          size = 18)\n",
    "\n",
    "plt.subplot(2, 2, 2)\n",
    "plt.pie([prop_v0_lambda, prop_v1_lambda, prop_v2_lambda],\n",
    "        autopct = '%.1f%%',\n",
    "        explode = (0.01, 0.01, 0.01),\n",
    "        pctdistance = 0.8,\n",
    "        startangle = 135)\n",
    "plt.title('Ventes clients lambda',\n",
    "          size = 18)\n",
    "plt.legend(['Catégorie 0', 'Catégorie 1', 'Catégorie 2'],\n",
    "           loc=\"lower left\",\n",
    "           prop = {'size' : 12},\n",
    "           bbox_to_anchor= (-0.7, -0.2, 1, 1))\n",
    "\n",
    "plt.subplot(2, 2, 4)\n",
    "plt.pie([prop_cac0_lambda, prop_cac1_lambda, prop_cac2_lambda],\n",
    "        autopct = '%.1f%%',\n",
    "        explode = (0.01, 0.01, 0.01),\n",
    "        pctdistance = 0.7,\n",
    "        startangle = 135)\n",
    "plt.title('CA clients lambda',\n",
    "          size = 18)\n",
    "\n",
    "plt.suptitle('Vente et CA revendeurs et clients lambda',\n",
    "            size = 20);"
   ]
  },
  {
   "cell_type": "markdown",
   "metadata": {},
   "source": [
    "CCL:<br/>\n",
    "Le bilan de l'entreprise suit les mêmes tendances que celui des revendeurs.<br/>\n",
    "Le CA catégorie 2 apporté par les revendeurs contribue de manière non négligeable à la santé financière de l'entreprise."
   ]
  },
  {
   "cell_type": "markdown",
   "metadata": {},
   "source": [
    "#### <span style='color:blue'>Comparaison montant et nombre d'articles des paniers clients lambda:<a name=\"M2322\"></a>"
   ]
  },
  {
   "cell_type": "code",
   "execution_count": null,
   "metadata": {},
   "outputs": [],
   "source": [
    "paniers_ca = paniers_lambda.xs('montant total', axis = 1, level = 0, drop_level = False)\n",
    "paniers_ca.reset_index(inplace = True)\n",
    "paniers_ca.columns = ['client_id', 'montant total']\n",
    "paniers_ca.sort_values('montant total', ascending = False).head(10)"
   ]
  },
  {
   "cell_type": "code",
   "execution_count": null,
   "metadata": {},
   "outputs": [],
   "source": [
    "bins_ca = int(round(paniers_ca['montant total'].max()/((paniers_ca['montant total'].max() - paniers_ca['montant total'].min())/len(paniers_ca)**(0.5)), 0))\n",
    "bins_ca"
   ]
  },
  {
   "cell_type": "code",
   "execution_count": null,
   "metadata": {},
   "outputs": [],
   "source": [
    "paniers_v = paniers_lambda.xs('quantité totale', axis = 1, level = 0, drop_level = False)\n",
    "paniers_v.reset_index(inplace = True)\n",
    "paniers_v.columns = ['client_id', 'quantité totale']\n",
    "paniers_v.sort_values('quantité totale', ascending = False).head(10)"
   ]
  },
  {
   "cell_type": "code",
   "execution_count": null,
   "metadata": {},
   "outputs": [],
   "source": [
    "bins_v = int(round(paniers_v['quantité totale'].max()/((paniers_v['quantité totale'].max() - paniers_v['quantité totale'].min())/len(paniers_v)**(0.5)), 0))\n",
    "bins_v"
   ]
  },
  {
   "cell_type": "code",
   "execution_count": null,
   "metadata": {},
   "outputs": [],
   "source": [
    "plt.figure(figsize = (17, 9))\n",
    "\n",
    "plt.subplot(2,1,1)\n",
    "plt.hist(paniers_ca['montant total'],\n",
    "         bins = bins_ca,\n",
    "         color = 'gold',\n",
    "         edgecolor = 'black')\n",
    "plt.xlabel('Montant',\n",
    "           size = 17)\n",
    "plt.ylabel('Nombre de clients',\n",
    "           size = 15)\n",
    "plt.tick_params(axis = 'both',\n",
    "                length = 0,\n",
    "               labelsize = 15)\n",
    "plt.axvline(x = paniers_ca['montant total'].median(),\n",
    "            color = 'blue',\n",
    "            linewidth = 3)\n",
    "plt.legend(['Médiane'],\n",
    "           fontsize = 15)\n",
    "plt.title('Paniers des clients lambda', size = 22)\n",
    "\n",
    "plt.subplot(2,1,2)\n",
    "plt.hist(paniers_v['quantité totale'],\n",
    "         bins = bins_v,\n",
    "         color = 'gold',\n",
    "         edgecolor = 'black')\n",
    "plt.xlabel('Nombre d\\'articles',\n",
    "           size = 17)\n",
    "plt.ylabel('Nombre de clients',\n",
    "           size = 15)\n",
    "plt.tick_params(axis = 'both',\n",
    "                length = 0,\n",
    "               labelsize = 15)\n",
    "plt.axvline(x = paniers_v['quantité totale'].median(),\n",
    "            color = 'blue',\n",
    "            linewidth = 3)\n",
    "plt.legend(['Médiane'],\n",
    "           fontsize = 15);"
   ]
  },
  {
   "cell_type": "markdown",
   "metadata": {},
   "source": [
    "### <span style='color:purple'>4. Sexe des clients par catégorie de produits achetés:<a name=\"M24\"></a>"
   ]
  },
  {
   "cell_type": "markdown",
   "metadata": {},
   "source": [
    "Le choix est fait ici de ne travailler qu'avec les achats des clients lambdas, afin de préserver une analyse réaliste des ventes.<br/>\n",
    "Il faut donc séparer les achats réalisées par les revendeurs de ceux des clients lambdas:"
   ]
  },
  {
   "cell_type": "code",
   "execution_count": null,
   "metadata": {},
   "outputs": [],
   "source": [
    "# Les identifiants des 4 revendeurs:\n",
    "liste_revendeurs = list(paniers.sort_values('montant total', ascending = False).index[:4]) \n",
    "liste_revendeurs"
   ]
  },
  {
   "cell_type": "code",
   "execution_count": null,
   "metadata": {},
   "outputs": [],
   "source": [
    "# Création d'une table contenant uniquement les achats des revendeurs:\n",
    "activites_pro = pd.DataFrame(columns = ['session_id', 'annee-mois', 'jour', 'heure-min', 'id_prod', 'price', 'categ', 'client_id', 'sex', 'age', 'birth'])\n",
    "for x in liste_revendeurs:\n",
    "    activites_pro = activites_pro.append(activites[activites.client_id == x])\n",
    "activites_pro.head()"
   ]
  },
  {
   "cell_type": "code",
   "execution_count": null,
   "metadata": {},
   "outputs": [],
   "source": [
    "# On retire les achats des revendeurs de la table activites:\n",
    "activites_lambda = activites.drop(activites_pro.index, 0)\n",
    "# C'est cette table qui nous intéresse pour la suite!"
   ]
  },
  {
   "cell_type": "code",
   "execution_count": null,
   "metadata": {},
   "outputs": [],
   "source": [
    "activites_lambda.shape"
   ]
  },
  {
   "cell_type": "code",
   "execution_count": null,
   "metadata": {},
   "outputs": [],
   "source": [
    "activites_lambda.price = activites_lambda.price.apply(np.float64)"
   ]
  },
  {
   "cell_type": "markdown",
   "metadata": {},
   "source": [
    "#### <span style='color:blue'>Analyse <a name=\"M241\"></a>"
   ]
  },
  {
   "cell_type": "code",
   "execution_count": null,
   "metadata": {
    "scrolled": false
   },
   "outputs": [],
   "source": [
    "sexe = activites_lambda.pivot_table('price', 'sex', 'categ', aggfunc = {'price': [len, np.sum]}, fill_value = 0)\n",
    "sexe['quantité totale'] = sexe.len[0].add(sexe.len[1]).add(sexe.len[2])\n",
    "sexe['montant total'] = sexe['sum'][0].add(sexe['sum'][1]).add(sexe['sum'][2])\n",
    "sexe.insert(6, 'montant total', sexe.pop('montant total'))\n",
    "sexe.insert(3, 'quantité totale', sexe.pop('quantité totale'))\n",
    "sexe.sort_values('montant total', ascending = False)"
   ]
  },
  {
   "cell_type": "code",
   "execution_count": null,
   "metadata": {},
   "outputs": [],
   "source": [
    "# Pourcentage d'achats et de CA pour chaque sexe toutes catégorie:\n",
    "f_v = sexe.xs('f', axis = 0)[:4] / sexe.xs('f', axis = 0)[3] * 100\n",
    "h_v = sexe.xs('m', axis = 0)[:4] / sexe.xs('f', axis = 0)[3] * 100\n",
    "f_ca = sexe.xs('f', axis = 0)[4:] / sexe.xs('f', axis = 0)[7] * 100\n",
    "h_ca = sexe.xs('m', axis = 0)[4:] / sexe.xs('f', axis = 0)[7] * 100"
   ]
  },
  {
   "cell_type": "code",
   "execution_count": null,
   "metadata": {},
   "outputs": [],
   "source": [
    "plt.figure(figsize = (15, 9))\n",
    "\n",
    "plt.subplot(2, 2, 1)\n",
    "plt.pie([f_v[0], f_v[1], f_v[2]],\n",
    "        autopct = '%.1f%%',\n",
    "        explode = (0.01, 0.01, 0.01),\n",
    "        pctdistance = 0.8,\n",
    "        startangle = 135)\n",
    "plt.title('Ventes femmes',\n",
    "          size = 18)\n",
    "\n",
    "plt.subplot(2, 2, 3)\n",
    "plt.pie([f_ca[0], f_ca[1], f_ca[2]],\n",
    "        autopct = '%.1f%%',\n",
    "        explode = (0.01, 0.01, 0.01),\n",
    "        pctdistance = 0.7,\n",
    "        startangle = 135)\n",
    "plt.title('CA femmes',\n",
    "          size = 18)\n",
    "\n",
    "plt.subplot(2, 2, 2)\n",
    "plt.pie([h_v[0], h_v[1], h_v[2]],\n",
    "        autopct = '%.1f%%',\n",
    "        explode = (0.01, 0.01, 0.01),\n",
    "        pctdistance = 0.8,\n",
    "        startangle = 135)\n",
    "plt.title('Ventes hommes',\n",
    "          size = 18)\n",
    "plt.legend(['Catégorie 0', 'Catégorie 1', 'Catégorie 2'],\n",
    "           loc=\"lower left\",\n",
    "           prop = {'size' : 12},\n",
    "           bbox_to_anchor= (-0.7, -0.2, 1, 1))\n",
    "\n",
    "plt.subplot(2, 2, 4)\n",
    "plt.pie([h_ca[0], h_ca[1], h_ca[2]],\n",
    "        autopct = '%.1f%%',\n",
    "        explode = (0.01, 0.01, 0.01),\n",
    "        pctdistance = 0.7,\n",
    "        startangle = 135)\n",
    "plt.title('CA hommes',\n",
    "          size = 18)\n",
    "\n",
    "plt.suptitle('Ventes et CA pour chaque sexe des clients lambda',\n",
    "            size = 20);"
   ]
  },
  {
   "cell_type": "code",
   "execution_count": null,
   "metadata": {},
   "outputs": [],
   "source": [
    "# Pourcentage d'achats et de CA entre chaque sexe dans la catégorie 0:\n",
    "f_v0 = sexe.xs('f', axis = 0)[0] / (sexe.xs('f', axis = 0)[0] + sexe.xs('m', axis = 0)[0]) * 100\n",
    "h_v0 = sexe.xs('m', axis = 0)[0] / (sexe.xs('f', axis = 0)[0] + sexe.xs('m', axis = 0)[0]) * 100\n",
    "f_ca0 = sexe.xs('f', axis = 0)[4] / (sexe.xs('f', axis = 0)[4] + sexe.xs('m', axis = 0)[4]) * 100\n",
    "h_ca0 = sexe.xs('m', axis = 0)[4] / (sexe.xs('f', axis = 0)[4] + sexe.xs('m', axis = 0)[4]) * 100"
   ]
  },
  {
   "cell_type": "code",
   "execution_count": null,
   "metadata": {},
   "outputs": [],
   "source": [
    "# Pourcentage d'achats et de CA entre chaque sexe dans la catégorie 1:\n",
    "f_v1 = sexe.xs('f', axis = 0)[1] / (sexe.xs('f', axis = 0)[1] + sexe.xs('m', axis = 0)[1]) * 100\n",
    "h_v1 = sexe.xs('m', axis = 0)[1] / (sexe.xs('f', axis = 0)[1] + sexe.xs('m', axis = 0)[1]) * 100\n",
    "f_ca1 = sexe.xs('f', axis = 0)[5] / (sexe.xs('f', axis = 0)[5] + sexe.xs('m', axis = 0)[5]) * 100\n",
    "h_ca1 = sexe.xs('m', axis = 0)[5] / (sexe.xs('f', axis = 0)[5] + sexe.xs('m', axis = 0)[5]) * 100"
   ]
  },
  {
   "cell_type": "code",
   "execution_count": null,
   "metadata": {},
   "outputs": [],
   "source": [
    "# Pourcentage d'achats et de CA entre chaque sexe dans la catégorie 2:\n",
    "f_v2 = sexe.xs('f', axis = 0)[2] / (sexe.xs('f', axis = 0)[2] + sexe.xs('m', axis = 0)[2]) * 100\n",
    "h_v2 = sexe.xs('m', axis = 0)[2] / (sexe.xs('f', axis = 0)[2] + sexe.xs('m', axis = 0)[2]) * 100\n",
    "f_ca2 = sexe.xs('f', axis = 0)[6] / (sexe.xs('f', axis = 0)[6] + sexe.xs('m', axis = 0)[6]) * 100\n",
    "h_ca2 = sexe.xs('m', axis = 0)[6] / (sexe.xs('f', axis = 0)[6] + sexe.xs('m', axis = 0)[6]) * 100"
   ]
  },
  {
   "cell_type": "code",
   "execution_count": null,
   "metadata": {},
   "outputs": [],
   "source": [
    "plt.figure(figsize = (17, 8))\n",
    "\n",
    "barWidth = 0.3\n",
    "r1 = range(3)\n",
    "r2 = [x + barWidth for x in r1]\n",
    "r3 = range(3,6)\n",
    "r4 = [x + barWidth for x in r3]\n",
    "\n",
    "plt.bar(r1,\n",
    "        [f_v0, f_v1, f_v2],\n",
    "        width = barWidth,\n",
    "        linewidth = 2,\n",
    "        color = 'tomato',\n",
    "        edgecolor = 'w')\n",
    "plt.bar(r2,\n",
    "        [h_v0, h_v1, h_v2],\n",
    "        width = barWidth,\n",
    "        linewidth = 2,\n",
    "        color = 'darkslateblue',\n",
    "        edgecolor = 'w')\n",
    "plt.bar(r3,\n",
    "        [f_ca0, f_ca1, f_ca2],\n",
    "        width = barWidth,\n",
    "        linewidth = 2,\n",
    "        color = 'brown',\n",
    "        edgecolor = 'w')\n",
    "plt.bar(r4,\n",
    "        [h_ca0, h_ca1, h_ca2],\n",
    "        width = barWidth,\n",
    "        linewidth = 2,\n",
    "        color = 'midnightblue',\n",
    "        edgecolor = 'w')\n",
    "plt.tick_params(axis = 'both',\n",
    "                length = 0,\n",
    "               labelsize = 15)\n",
    "plt.ylabel('Quantité (%)',\n",
    "           size = 18)\n",
    "plt.xticks([x + barWidth / 2 for x in range(6)],\n",
    "           ['Ventes\\nCatégorie 0', 'Ventes\\nCatégorie 1', 'Ventes\\nCatégorie 2', 'CA\\nCatégorie 0', 'CA\\nCatégorie 1', 'CA\\nCatégorie 2'])\n",
    "plt.title('Comparaison ventes et CA par sexe des clients lambda',\n",
    "         size = 22)\n",
    "plt.legend(['Femmes', 'Hommes', 'Femmes', 'Hommes'],\n",
    "           loc = 'lower right',\n",
    "           fontsize = 13);"
   ]
  },
  {
   "cell_type": "markdown",
   "metadata": {},
   "source": [
    "CCL: Il semble y avoir corrélation entre le sexe des clients et les catégories de produits achetés."
   ]
  },
  {
   "cell_type": "markdown",
   "metadata": {},
   "source": [
    "#### <span style='color:blue'>Corrélation (variables qualitatives)<a name=\"M242\"></a>"
   ]
  },
  {
   "cell_type": "markdown",
   "metadata": {},
   "source": [
    "On fait l'hypothèse nulle qu'il y a indépendance entre les deux variables."
   ]
  },
  {
   "cell_type": "code",
   "execution_count": null,
   "metadata": {},
   "outputs": [],
   "source": [
    "# Création de la matrice \"valeurs observées\" (tableau de contingence):\n",
    "X = 'sex'\n",
    "Y = 'categ'\n",
    "cont = activites_lambda[[X,Y]].pivot_table(index = 'sex', columns = 'categ', aggfunc = len).fillna(0)\n",
    "contingence = cont.copy()\n",
    "\n",
    "tx = activites_lambda['sex'].value_counts()\n",
    "ty = activites_lambda['categ'].value_counts()\n",
    "\n",
    "contingence.loc[:, 'Total'] = tx\n",
    "contingence.loc['total', :] = ty\n",
    "contingence.loc['total', 'Total'] = len(activites_lambda)\n",
    "contingence.astype(int)"
   ]
  },
  {
   "cell_type": "code",
   "execution_count": null,
   "metadata": {},
   "outputs": [],
   "source": [
    "# Création de la matrice \"valeurs attendues\" (tableau d'indépendance):\n",
    "tx_df = pd.DataFrame(tx)\n",
    "tx_df.columns = [\"c\"]\n",
    "ty_df = pd.DataFrame(ty)\n",
    "ty_df.columns = [\"c\"]\n",
    "\n",
    "n = len(activites_lambda)\n",
    "\n",
    "independance = pd.DataFrame(np.dot(tx_df, ty_df.T) / n, index = ['f', 'm'], columns = [0, 1, 2]).astype(int)\n",
    "independance"
   ]
  },
  {
   "cell_type": "code",
   "execution_count": null,
   "metadata": {},
   "outputs": [],
   "source": [
    "# Calcul de la matrice \"écart au carré normalisé de la valeur attendue VS valeur observée\":\n",
    "frequence = (cont - independance)**2/independance\n",
    "frequence"
   ]
  },
  {
   "cell_type": "code",
   "execution_count": null,
   "metadata": {},
   "outputs": [],
   "source": [
    "# Calcul du khi²:\n",
    "# Somme des valeurs de la précédente matrice. Cette somme suit une loi du Chi2 à k degrés de liberté.\n",
    "xi_n = frequence.sum().sum()\n",
    "xi_n"
   ]
  },
  {
   "cell_type": "code",
   "execution_count": null,
   "metadata": {},
   "outputs": [],
   "source": [
    "# Calcul du degré de liberté dl:\n",
    "# dl = (nbre de lignes de la table de contingence - 1) x (nbre de colonnes - 1)  \n",
    "# NB: les lignes et colonnes des totaux ne sont pas pris en compte.\n",
    "dl = (2 - 1) * (3 - 1)\n",
    "dl"
   ]
  },
  {
   "cell_type": "markdown",
   "metadata": {},
   "source": [
    "D'après la table du khi², avec un degré de liberté valant 2, notre khi² est supérieur à la valeur théorique du khi² (environ 9,2) pour un risque de 1% mais inférieur à la valeur théorique du khi² (environ 10,5) pour un risque de 0.5%.<br/>Avec un risque de 1% (ce qui est plus que suffisant), on peut donc rejeter l'hypothèse d'indépendance entre les deux variables.\n"
   ]
  },
  {
   "cell_type": "markdown",
   "metadata": {},
   "source": [
    "Confirmation par la carte de chaleur:"
   ]
  },
  {
   "cell_type": "code",
   "execution_count": null,
   "metadata": {},
   "outputs": [],
   "source": [
    "table = frequence / xi_n\n",
    "table"
   ]
  },
  {
   "cell_type": "code",
   "execution_count": null,
   "metadata": {},
   "outputs": [],
   "source": [
    "sns.heatmap(table, annot = table, lw = 1);"
   ]
  },
  {
   "cell_type": "markdown",
   "metadata": {},
   "source": [
    "Les deux cases de la catégorie 1 participent à hauteur d'environ 33% à la valeur du Khi².<br/>\n",
    "Or la différence de ses deux valeurs est un delta plus important que celui de l'ensemble des catégories.<br/>\n",
    "Notre Khi² étant significatif, on peut conclure qu'il y a donc bien corrélation entre le sexe des clients et les catégories de produits achetés bien qu'étant assez \"faible\", elle soit donc difficilement exploitable commercialement parlant!"
   ]
  },
  {
   "cell_type": "markdown",
   "metadata": {},
   "source": [
    "Vérification avec la librairie Scipy.stats:"
   ]
  },
  {
   "cell_type": "code",
   "execution_count": null,
   "metadata": {},
   "outputs": [],
   "source": [
    "# Calcul du khi2 et de la pvalue à partir de la matrice des valeurs observées:\n",
    "st_chi2, st_p, st_dof, st_exp = st.chi2_contingency(cont)"
   ]
  },
  {
   "cell_type": "code",
   "execution_count": null,
   "metadata": {},
   "outputs": [],
   "source": [
    "st_exp # C'est bien la même matrice qui représentait le tableau d'indépendance."
   ]
  },
  {
   "cell_type": "code",
   "execution_count": null,
   "metadata": {},
   "outputs": [],
   "source": [
    "st_dof # Nombre de degré de liberté k"
   ]
  },
  {
   "cell_type": "code",
   "execution_count": null,
   "metadata": {},
   "outputs": [],
   "source": [
    "st_chi2 # On retrouve quasiment la même valeur calculée manuellement."
   ]
  },
  {
   "cell_type": "code",
   "execution_count": null,
   "metadata": {},
   "outputs": [],
   "source": [
    "st_p # p-value empirique"
   ]
  },
  {
   "cell_type": "markdown",
   "metadata": {},
   "source": [
    "La p-value est inférieur à 1 %, on peut donc rejeter avec un risque d'erreur inférieur à 1% l'hypothèse nulle disant que les deux variables sont indépendantes."
   ]
  },
  {
   "cell_type": "markdown",
   "metadata": {},
   "source": [
    "### <span style='color:purple'>5. Age des clients... <a name=\"M25\"></a>"
   ]
  },
  {
   "cell_type": "markdown",
   "metadata": {},
   "source": [
    "### <span style='color:purple'>a) ...  et montant total des achats<a name=\"M251\"></a>"
   ]
  },
  {
   "cell_type": "markdown",
   "metadata": {},
   "source": [
    "##### <span style='color:blue'>Analyse<a name=\"M2511\"></a>"
   ]
  },
  {
   "cell_type": "markdown",
   "metadata": {},
   "source": [
    "Regardons d'un point de vue global l'évolution du montant total par tranches d'âge (donc sans différencier chaque client):"
   ]
  },
  {
   "cell_type": "code",
   "execution_count": null,
   "metadata": {},
   "outputs": [],
   "source": [
    "montant = pd.pivot_table(activites_lambda, 'price', 'age', 'categ', aggfunc = np.sum, fill_value = 0)\n",
    "montant['montant total'] = montant.sum(1)\n",
    "\n",
    "montant.head()"
   ]
  },
  {
   "cell_type": "code",
   "execution_count": null,
   "metadata": {},
   "outputs": [],
   "source": [
    "plt.figure(figsize = (17, 10))\n",
    "\n",
    "age = []\n",
    "for i in range(len(montant.index)):\n",
    "    age.append(montant.index.min() + 3*i)\n",
    "    age.append('')\n",
    "    age.append('')\n",
    "    \n",
    "plt.bar(range(len(montant.index)),\n",
    "        montant['montant total'])\n",
    "\n",
    "plt.xticks(np.arange(len(montant.index)),\n",
    "           age,\n",
    "          fontsize = 13)\n",
    "plt.tick_params(axis = 'both',\n",
    "                length = 0,\n",
    "               labelsize = 15)\n",
    "plt.ylabel('Montant total',\n",
    "           size = 19)\n",
    "plt.yticks(size = 15)\n",
    "plt.title('Montant total des ventes en fonction de l\\'âge',\n",
    "          size = 22);"
   ]
  },
  {
   "cell_type": "markdown",
   "metadata": {},
   "source": [
    "En dehors du pic attendu des 18 ans, il semble y avoir deux tendances.<br/>Analysons maintenant le montant total de chaque client."
   ]
  },
  {
   "cell_type": "markdown",
   "metadata": {},
   "source": [
    "##### <span style='color:blue'>Corrélation (variables quantitatives):<a name=\"M2512\"></a>"
   ]
  },
  {
   "cell_type": "code",
   "execution_count": null,
   "metadata": {},
   "outputs": [],
   "source": [
    "obs = pd.pivot_table(activites_lambda, 'price', ['age', 'client_id'], aggfunc = np.sum, fill_value = 0)\n",
    "obs.columns = ['montant']\n",
    "obs.reset_index(inplace = True)\n",
    "obs.drop('client_id', 1, inplace = True)\n",
    "obs.head()"
   ]
  },
  {
   "cell_type": "code",
   "execution_count": null,
   "metadata": {},
   "outputs": [],
   "source": [
    "plt.figure(figsize = (17, 8))\n",
    "\n",
    "plt.scatter(obs.age, obs.montant)\n",
    "\n",
    "X1 = obs['age'].iloc[:obs[obs['montant'] == obs['montant'].max()].index.item()]\n",
    "Y1 = obs['montant'].iloc[:obs[obs['montant'] == obs['montant'].max()].index.item()]\n",
    "X1 = X1[:, np.newaxis]\n",
    "Y1 = Y1[:, np.newaxis]  # incrémente la dimension du tableau existant et transforme en vecteur colonne\n",
    "model1 = linear_model.LinearRegression()\n",
    "model1.fit(X1, Y1) # ajuste le modèle\n",
    "print(model1.coef_, model1.intercept_)\n",
    "X_NEW1 = np.linspace(obs['age'].min(),\n",
    "                     obs[obs['montant'] == obs['montant'].max()]['age'].item(), # obtenir l'âge correspondant au montant max\n",
    "                     100)\n",
    "X_NEW1 = X_NEW1[:, np.newaxis]\n",
    "Y_NEW1 = model1.predict(X_NEW1)\n",
    "plt.plot(X_NEW1,\n",
    "         Y_NEW1,\n",
    "         color = 'black',\n",
    "         linewidth = 3)\n",
    "\n",
    "X2 = obs['age'].iloc[obs[obs['montant'] == obs['montant'].max()].index.item():]\n",
    "Y2 = obs['montant'].iloc[obs[obs['montant'] == obs['montant'].max()].index.item():]\n",
    "X2 = X2[:, np.newaxis]\n",
    "Y2 = Y2[:, np.newaxis]\n",
    "model2 = linear_model.LinearRegression()\n",
    "model2.fit(X2, Y2)\n",
    "print(model2.coef_, model2.intercept_)\n",
    "X_NEW2 = np.linspace(obs[obs['montant'] == obs['montant'].max()]['age'].item(),\n",
    "                     obs['age'].max(),\n",
    "                     100)\n",
    "X_NEW2 = X_NEW2[:, np.newaxis]\n",
    "Y_NEW2 = model2.predict(X_NEW2)\n",
    "plt.plot(X_NEW2,\n",
    "         Y_NEW2, \n",
    "         color = 'red',\n",
    "         linewidth = 3)\n",
    "\n",
    "plt.xlabel('Age',\n",
    "           size = 17)\n",
    "plt.ylabel('Montant',\n",
    "           size = 17)\n",
    "plt.tick_params(axis = 'both',\n",
    "                length = 0,\n",
    "                labelsize = 15)\n",
    "plt.grid()\n",
    "plt.title('Montant des achats par âge',\n",
    "             fontsize = 21);"
   ]
  },
  {
   "cell_type": "code",
   "execution_count": null,
   "metadata": {},
   "outputs": [],
   "source": [
    "# Coefficent de détermination R² sur la 1ère catégorie d'âge:\n",
    "model1.score(X1,Y1)"
   ]
  },
  {
   "cell_type": "code",
   "execution_count": null,
   "metadata": {},
   "outputs": [],
   "source": [
    "# Coefficent de détermination R² sur la 2ème catégorie d'âge:\n",
    "model2.score(X2,Y2)"
   ]
  },
  {
   "cell_type": "markdown",
   "metadata": {},
   "source": [
    "CCL: Le modèle explique peu la distribution des points dans les 2 catégories d'âge."
   ]
  },
  {
   "cell_type": "code",
   "execution_count": null,
   "metadata": {},
   "outputs": [],
   "source": [
    "# Coefficient de corrélation de Pearson pour la 1ère catégorie d'âge:\n",
    "st.pearsonr(obs['age'].iloc[:obs[obs['montant'] == obs['montant'].max()].index.item()], obs['montant'].iloc[:obs[obs['montant'] == obs['montant'].max()].index.item()])"
   ]
  },
  {
   "cell_type": "code",
   "execution_count": null,
   "metadata": {},
   "outputs": [],
   "source": [
    "# Coefficient de corrélation de Pearson pour la 2ème catégorie d'âge:\n",
    "st.pearsonr(obs['age'].iloc[obs[obs['montant'] == obs['montant'].max()].index.item():], obs['montant'].iloc[obs[obs['montant'] == obs['montant'].max()].index.item():])"
   ]
  },
  {
   "cell_type": "markdown",
   "metadata": {},
   "source": [
    "CCL: On ne peut pas conclure sur la linéarité des variables pour les 2 catégories d'âge."
   ]
  },
  {
   "cell_type": "code",
   "execution_count": null,
   "metadata": {},
   "outputs": [],
   "source": [
    "# ANOVA:\n",
    "# Moyenne des montants d'achat de la 1ère catégorie d'âge:\n",
    "m1 = obs.montant.iloc[:obs[obs.montant == obs.montant.max()].index.item()].mean()\n",
    "# Moyenne des montants d'achat de la 2ème catégorie d'âge:\n",
    "m2 = obs.montant.iloc[obs[obs.montant == obs.montant.max()].index.item():].mean()\n",
    "# Moyenne globale des montants d'achat:\n",
    "m = obs.montant.mean()\n",
    "# Variation interclasse:\n",
    "SCE = obs.montant.iloc[:obs[obs.montant == obs.montant.max()].index.item()].shape[0]*(m1 - m)**2 + obs.montant.iloc[obs[obs.montant == obs.montant.max()].index.item():].shape[0]*(m2 - m)**2"
   ]
  },
  {
   "cell_type": "code",
   "execution_count": null,
   "metadata": {},
   "outputs": [],
   "source": [
    "# variance interclasse estimée:\n",
    "k = 2\n",
    "MCE = SCE / (k - 1)"
   ]
  },
  {
   "cell_type": "code",
   "execution_count": null,
   "metadata": {},
   "outputs": [],
   "source": [
    "# Variation intraclasse:\n",
    "erreur1 = list(obs.montant.iloc[:obs[obs.montant == obs.montant.max()].index.item()] - m1)\n",
    "erreur2 = list(obs.montant.iloc[obs[obs.montant == obs.montant.max()].index.item():] - m2)\n",
    "erreur = erreur1 + erreur2\n",
    "scr = []\n",
    "for err in erreur:\n",
    "    scr.append(err**2)\n",
    "SCR = np.sum(scr)"
   ]
  },
  {
   "cell_type": "code",
   "execution_count": null,
   "metadata": {},
   "outputs": [],
   "source": [
    "# Degré de liberté:\n",
    "dl = len(obs) - k"
   ]
  },
  {
   "cell_type": "code",
   "execution_count": null,
   "metadata": {},
   "outputs": [],
   "source": [
    "# Variance intraclasse estimée:\n",
    "MCR = SCR / dl"
   ]
  },
  {
   "cell_type": "code",
   "execution_count": null,
   "metadata": {},
   "outputs": [],
   "source": [
    "# Vérification des calculs:\n",
    "F = MCE / MCR\n",
    "F"
   ]
  },
  {
   "cell_type": "code",
   "execution_count": null,
   "metadata": {},
   "outputs": [],
   "source": [
    "st.f_oneway(obs.montant.iloc[:obs[obs.montant == obs.montant.max()].index.item()], obs.montant.iloc[obs[obs.montant == obs.montant.max()].index.item():])\n",
    "# Ok !"
   ]
  },
  {
   "cell_type": "code",
   "execution_count": null,
   "metadata": {},
   "outputs": [],
   "source": [
    "# Variation totale:\n",
    "SCT = np.sum((obs.montant - m)**2)"
   ]
  },
  {
   "cell_type": "code",
   "execution_count": null,
   "metadata": {
    "scrolled": true
   },
   "outputs": [],
   "source": [
    "# Calcul de eta²:\n",
    "eta_2 = SCE / SCT\n",
    "eta_2"
   ]
  },
  {
   "cell_type": "markdown",
   "metadata": {},
   "source": [
    "Les règles générales données par Cohen et Miles & Shevlin (2001) pour analyser eta_2, c'est-à-dire l'effet taille (ou comment la variance est expliquée) énoncent:\n",
    "- effet petit: 0.01\n",
    "- effet moyen: 0.06\n",
    "- effet grand: 0.14"
   ]
  },
  {
   "cell_type": "markdown",
   "metadata": {},
   "source": [
    "Le modèle de régression linéaire explique la variance à hauteur de 6 % ce qui représente un effet taille moyen.\n",
    "<br/>Le test est donc moyennement significatif."
   ]
  },
  {
   "cell_type": "markdown",
   "metadata": {},
   "source": [
    "CCL: On ne peut donc pas vraiment conclure sur la corrélation entre l'âge des clients et le montant total.\n",
    "<br/>Les clients, passés 50 ans, commencent à simplement dépenser un peu moins."
   ]
  },
  {
   "cell_type": "markdown",
   "metadata": {},
   "source": [
    "### <span style='color:purple'>b) ...  et fréquence d'achat par mois<a name=\"M252\"></a>"
   ]
  },
  {
   "cell_type": "markdown",
   "metadata": {},
   "source": [
    "##### <span style='color:blue'>Analyse<a name=\"M2531\"></a>"
   ]
  },
  {
   "cell_type": "code",
   "execution_count": null,
   "metadata": {},
   "outputs": [],
   "source": [
    "freq = pd.pivot_table(activites_lambda, 'price', index = ['age', 'client_id', 'session_id'], aggfunc = len, fill_value = 0)\n",
    "freq = freq.groupby(['age','client_id']).count()\n",
    "freq.reset_index(inplace = True)\n",
    "freq.drop('client_id', 1, inplace = True)\n",
    "freq.columns = ['age', 'nbre_session']\n",
    "freq['fréquence moyenne d\\'achat par mois'] = round(freq.nbre_session/12, 2)\n",
    "freq.head()"
   ]
  },
  {
   "cell_type": "code",
   "execution_count": null,
   "metadata": {},
   "outputs": [],
   "source": [
    "plt.figure(figsize = (10, 9))\n",
    "nombre = [freq['fréquence moyenne d\\'achat par mois'].loc[freq.age <= 30],\n",
    "        freq['fréquence moyenne d\\'achat par mois'].loc[freq.age >=31]]\n",
    "\n",
    "medianprops = {'color':\"black\"}\n",
    "meanprops = {'marker':'o', 'markeredgecolor':'black', 'markerfacecolor':'firebrick'}\n",
    "  \n",
    "plt.boxplot(nombre,\n",
    "            widths = 0.5,\n",
    "            patch_artist = True,\n",
    "            medianprops = medianprops,\n",
    "            showmeans = True,\n",
    "            meanprops = meanprops)\n",
    "boites = ['18-30 ans', '31 ans et plus']\n",
    "plt.xticks([1,2],\n",
    "           boites)\n",
    "plt.tick_params(axis = 'both',\n",
    "                length = 0)\n",
    "plt.ylabel('Fréquence',\n",
    "           size = 17)\n",
    "plt.grid(axis = 'y')\n",
    "plt.title('Fréquence mensuelle d\\'achat d\\'articles par catégorie d\\'âge',\n",
    "          size = 19);"
   ]
  },
  {
   "cell_type": "markdown",
   "metadata": {},
   "source": [
    "##### <span style='color:blue'>Corrélation (variable qualitative et quantitative)<a name=\"M2532\"></a>"
   ]
  },
  {
   "cell_type": "code",
   "execution_count": null,
   "metadata": {
    "scrolled": false
   },
   "outputs": [],
   "source": [
    "plt.figure(figsize = (17, 9))\n",
    "\n",
    "plt.scatter(freq.age, freq['fréquence moyenne d\\'achat par mois'])\n",
    "\n",
    "X1 = freq.age[freq.age <= 30]\n",
    "Y1 = freq['fréquence moyenne d\\'achat par mois'].loc[freq.age <= 30]\n",
    "X1 = X1[:, np.newaxis]\n",
    "Y1 = Y1[:, np.newaxis]\n",
    "\n",
    "model1 = linear_model.LinearRegression()\n",
    "model1.fit(X1, Y1)\n",
    "print(model1.coef_, model1.intercept_)\n",
    "X_NEW1 = np.linspace(X1.min(),\n",
    "                     X1.max(),\n",
    "                     100)\n",
    "X_NEW1 = X_NEW1[:, np.newaxis]\n",
    "Y_NEW1 = model1.predict(X_NEW1)\n",
    "plt.plot(X_NEW1,\n",
    "         Y_NEW1,\n",
    "         color = 'indigo',\n",
    "         linewidth = 5)\n",
    "\n",
    "X2 = freq.age[freq.age >= 31]\n",
    "Y2 = freq['fréquence moyenne d\\'achat par mois'].loc[freq.age >= 31]\n",
    "X2 = X2[:, np.newaxis]\n",
    "Y2 = Y2[:, np.newaxis]\n",
    "model2 = linear_model.LinearRegression()\n",
    "model2.fit(X2, Y2)\n",
    "print(model2.coef_, model2.intercept_)\n",
    "X_NEW2 = np.linspace(X2.min(),\n",
    "                     X2.max(),\n",
    "                     100)\n",
    "X_NEW2 = X_NEW2[:, np.newaxis]\n",
    "Y_NEW2 = model2.predict(X_NEW2)\n",
    "plt.plot(X_NEW2,\n",
    "         Y_NEW2, \n",
    "         color = 'black',\n",
    "         linewidth = 5)\n",
    "\n",
    "plt.xlabel('Age',\n",
    "           size = 18)\n",
    "plt.ylabel('Fréquence',\n",
    "           size = 18)\n",
    "plt.tick_params(axis = 'both',\n",
    "                length = 0)\n",
    "plt.grid()\n",
    "plt.title('Fréquence mensuelle d\\'achat par rapport à l\\'âge',\n",
    "          size = 22);"
   ]
  },
  {
   "cell_type": "code",
   "execution_count": null,
   "metadata": {},
   "outputs": [],
   "source": [
    "# ANOVA:\n",
    "# Moyenne des fréquences mensuelle d'achat moyennes de la 1ère catégorie d'âge:\n",
    "m1 = freq['fréquence moyenne d\\'achat par mois'][freq.age <= 30].mean()\n",
    "# Moyenne des fréquences mensuelle d'achat moyennes de la 2ème catégorie d'âge:\n",
    "m2 = freq['fréquence moyenne d\\'achat par mois'][freq.age > 30].mean()\n",
    "# Moyenne globale des fréquence mensuelle d'achat moyennes:\n",
    "m = freq['fréquence moyenne d\\'achat par mois'].mean()\n",
    "# Variation interclasse:\n",
    "SCE = freq['fréquence moyenne d\\'achat par mois'][freq.age <= 30].shape[0]*(m1 - m)**2 + freq['fréquence moyenne d\\'achat par mois'][freq.age > 30].shape[0]*(m2 - m)**2"
   ]
  },
  {
   "cell_type": "code",
   "execution_count": null,
   "metadata": {},
   "outputs": [],
   "source": [
    "st.f_oneway(freq['fréquence moyenne d\\'achat par mois'][freq.age <= 30], freq['fréquence moyenne d\\'achat par mois'][freq.age > 30])"
   ]
  },
  {
   "cell_type": "code",
   "execution_count": null,
   "metadata": {},
   "outputs": [],
   "source": [
    "# Variation totale:\n",
    "SCT = np.sum((freq['fréquence moyenne d\\'achat par mois'] - m)**2)"
   ]
  },
  {
   "cell_type": "code",
   "execution_count": null,
   "metadata": {},
   "outputs": [],
   "source": [
    "# Calcul de eta²:\n",
    "eta_2 = SCE / SCT\n",
    "eta_2"
   ]
  },
  {
   "cell_type": "markdown",
   "metadata": {},
   "source": [
    "Le rapport de corrélation nous indique que la variation est expliquée par le modèle de régression à hauteur de 13 %.<br/>\n",
    "Au regar de la p_value, le test est relativement significatif.<br/>\n",
    "Il y a bien corrélation de manière générale entre l'âge et la fréquence d'achat mensuelle."
   ]
  },
  {
   "cell_type": "markdown",
   "metadata": {},
   "source": [
    "### <span style='color:purple'>c) ... et taille du panier moyen en nombre d'articles<a name=\"M253\"></a>"
   ]
  },
  {
   "cell_type": "markdown",
   "metadata": {},
   "source": [
    "##### <span style='color:blue'>Analyse<a name=\"M2531\"></a>"
   ]
  },
  {
   "cell_type": "code",
   "execution_count": null,
   "metadata": {},
   "outputs": [],
   "source": [
    "paniers_age = pd.pivot_table(activites_lambda, 'price', ['age', 'client_id'], 'annee-mois', aggfunc = len, fill_value = 0)\n",
    "paniers_age['moyenne'] = round(paniers_age.sum(1)/12, 2)\n",
    "paniers_age.reset_index(inplace = True)\n",
    "paniers_age.drop(['client_id', '2021-03', '2021-03', '2021-04', '2021-05', '2021-06', '2021-07', '2021-08', '2021-09', '2021-10', '2021-11', '2021-12', '2022-01','2022-02'], 1, inplace = True)\n",
    "paniers_age.columns = ['age', 'panier_moyen']\n",
    "paniers_age.head()"
   ]
  },
  {
   "cell_type": "code",
   "execution_count": null,
   "metadata": {},
   "outputs": [],
   "source": [
    "plt.figure(figsize = (10, 9))\n",
    "\n",
    "medianprops = {'color':\"black\"}\n",
    "meanprops = {'marker':'o', 'markeredgecolor':'black', 'markerfacecolor':'firebrick'}\n",
    "\n",
    "taille = [paniers_age.panier_moyen.loc[paniers_age.age <= 30],\n",
    "        paniers_age.panier_moyen.loc[paniers_age.age <=50].loc[paniers_age.age >=31],\n",
    "        paniers_age.panier_moyen.loc[paniers_age.age >= 51]]\n",
    "plt.boxplot(taille,\n",
    "            widths = 0.7,\n",
    "            patch_artist = True,\n",
    "            medianprops = medianprops,\n",
    "            showmeans = True,\n",
    "            meanprops = meanprops)\n",
    "boites = ['18-30 ans', '31-50 ans', 'plus de 51 ans']\n",
    "plt.xticks([1,2,3],\n",
    "           boites)\n",
    "plt.tick_params(axis = 'both',\n",
    "                length = 0)\n",
    "plt.ylabel('Fréquence',\n",
    "           size = 17)\n",
    "plt.grid(axis = 'y')\n",
    "plt.title('Taille du panier moyen en nombre d\\'articles par catégorie d\\'âge',\n",
    "          size = 19);"
   ]
  },
  {
   "cell_type": "markdown",
   "metadata": {},
   "source": [
    "##### <span style='color:blue'>Corrélation (variable qualitative et quantitative)<a name=\"M2542\"></a>"
   ]
  },
  {
   "cell_type": "code",
   "execution_count": null,
   "metadata": {
    "scrolled": false
   },
   "outputs": [],
   "source": [
    "plt.figure(figsize = (17, 9))\n",
    "\n",
    "plt.scatter(paniers_age.age, paniers_age.panier_moyen)\n",
    "\n",
    "X1 = paniers_age.age[paniers_age.age <= 30]\n",
    "Y1 = paniers_age.panier_moyen[paniers_age.age <= 30]\n",
    "X1 = X1[:, np.newaxis]\n",
    "Y1 = Y1[:, np.newaxis]\n",
    "\n",
    "X2 = paniers_age.age[paniers_age.age >= 31][paniers_age.age <= 50] \n",
    "Y2 = paniers_age.panier_moyen[paniers_age.age >= 31][paniers_age.age <= 50]\n",
    "X2 = X2[:, np.newaxis]\n",
    "Y2 = Y2[:, np.newaxis]\n",
    "\n",
    "X3 = paniers_age.age[paniers_age.age >= 51]\n",
    "Y3 = paniers_age.panier_moyen[paniers_age.age >= 51]\n",
    "X3 = X3[:, np.newaxis]\n",
    "Y3 = Y3[:, np.newaxis]\n",
    "\n",
    "model1 = linear_model.LinearRegression()\n",
    "model1.fit(X1, Y1)\n",
    "print(model1.coef_, model1.intercept_)\n",
    "\n",
    "model2 = linear_model.LinearRegression()\n",
    "model2.fit(X2, Y2)\n",
    "print(model2.coef_, model2.intercept_)\n",
    "\n",
    "model3 = linear_model.LinearRegression()\n",
    "model3.fit(X3, Y3)\n",
    "print(model3.coef_, model3.intercept_)\n",
    "\n",
    "X_NEW1 = np.linspace(X1.min(),\n",
    "                     X1.max(),\n",
    "                     100)\n",
    "X_NEW1 = X_NEW1[:, np.newaxis]\n",
    "Y_NEW1 = model1.predict(X_NEW1)\n",
    "\n",
    "X_NEW2 = np.linspace(X2.min(),\n",
    "                     X2.max(),\n",
    "                     100)\n",
    "X_NEW2 = X_NEW2[:, np.newaxis]\n",
    "Y_NEW2 = model2.predict(X_NEW2)\n",
    "\n",
    "X_NEW3 = np.linspace(X3.min(),\n",
    "                     X3.max(),\n",
    "                     100)\n",
    "X_NEW3 = X_NEW3[:, np.newaxis]\n",
    "Y_NEW3 = model3.predict(X_NEW3)\n",
    "\n",
    "plt.plot(X_NEW1,\n",
    "         Y_NEW1,\n",
    "         color = 'indigo',\n",
    "         linewidth = 5)\n",
    "plt.plot(X_NEW2,\n",
    "         Y_NEW2, \n",
    "         color = 'black',\n",
    "         linewidth = 5)\n",
    "plt.plot(X_NEW3,\n",
    "         Y_NEW3, \n",
    "         color = 'darkblue',\n",
    "         linewidth = 5)\n",
    "\n",
    "plt.xlabel('Age',\n",
    "           size = 18)\n",
    "plt.ylabel('Panier',\n",
    "           size = 18)\n",
    "plt.tick_params(axis = 'both',\n",
    "                length = 0)\n",
    "plt.grid()\n",
    "plt.title('Panier moyen en nombre d\\'articles par rapport à l\\'âge',\n",
    "          size = 22);"
   ]
  },
  {
   "cell_type": "code",
   "execution_count": null,
   "metadata": {},
   "outputs": [],
   "source": [
    "# ANOVA:\n",
    "# Moyenne des paniers moyens annuels de la 1ère catégorie d'âge:\n",
    "m1 = paniers_age.panier_moyen[paniers_age.age <= 30].mean()\n",
    "# Moyenne des paniers moyens annuels de la 2ème catégorie d'âge:\n",
    "m2 = paniers_age.panier_moyen[paniers_age.age <=50][paniers_age.age >=31].mean()\n",
    "# Moyenne des paniers moyens annuels de la 3ème catégorie d'âge:\n",
    "m3 = paniers_age.panier_moyen[paniers_age.age >= 51].mean()\n",
    "# Moyenne globale des paniers moyens annuels:\n",
    "m = paniers_age.panier_moyen.mean()\n",
    "# Variation interclasse:\n",
    "SCE = paniers_age.panier_moyen[paniers_age.age <= 30].shape[0]*(m1 - m)**2 + paniers_age.panier_moyen[paniers_age.age <=50][paniers_age.age >=31].shape[0]*(m2 - m)**2 + paniers_age.panier_moyen[paniers_age.age >= 51].shape[0]*(m3 - m)**2"
   ]
  },
  {
   "cell_type": "code",
   "execution_count": null,
   "metadata": {},
   "outputs": [],
   "source": [
    "st.f_oneway(paniers_age.panier_moyen[paniers_age.age <= 30], paniers_age.panier_moyen[paniers_age.age <=50][paniers_age.age >=31], paniers_age.panier_moyen[paniers_age.age >= 51])"
   ]
  },
  {
   "cell_type": "code",
   "execution_count": null,
   "metadata": {},
   "outputs": [],
   "source": [
    "# Variation totale:\n",
    "SCT = np.sum((paniers_age.panier_moyen - m)**2)"
   ]
  },
  {
   "cell_type": "code",
   "execution_count": null,
   "metadata": {},
   "outputs": [],
   "source": [
    "# Calcul de eta²:\n",
    "eta_2 = SCE / SCT\n",
    "eta_2"
   ]
  },
  {
   "cell_type": "markdown",
   "metadata": {},
   "source": [
    "CCL:<br/>\n",
    "Le rapport de corrélation explique bien la variation autour des moyennes à hauteur de 29%.\n",
    "Au regard de la p_value, le test est donc significatif.<br/>\n",
    "Il y a bien une corrélation entre l'âge des clients et le panier moyen annuel.<br/>\n",
    "Cependant, les clients ont des paniers significativement différent selon les catégories d'âge.<br/>\n",
    "Il faut donc repenser le ciblage marketing par ces tranches d'âge. "
   ]
  },
  {
   "cell_type": "markdown",
   "metadata": {},
   "source": [
    "### <span style='color:purple'>d) ... et catégories de produits achetés<a name=\"M254\"></a>"
   ]
  },
  {
   "cell_type": "markdown",
   "metadata": {},
   "source": [
    "##### <span style='color:blue'>Analyse<a name=\"M2541\"></a>"
   ]
  },
  {
   "cell_type": "code",
   "execution_count": null,
   "metadata": {},
   "outputs": [],
   "source": [
    "ages = pd.pivot_table(activites_lambda, 'price', 'age', 'categ', aggfunc = len, fill_value = 0)\n",
    "ages['quantité totale'] = ages.sum(1)\n",
    "ages.reset_index(inplace = True)\n",
    "ages.columns = ['age', '0', '1', '2', 'quantité totale']\n",
    "ages.set_index('age').head()"
   ]
  },
  {
   "cell_type": "code",
   "execution_count": null,
   "metadata": {},
   "outputs": [],
   "source": [
    "plt.figure(figsize = (17, 10))\n",
    "\n",
    "age = []\n",
    "for i in range(len(ages)):\n",
    "    age.append(ages.age.min() + 3*i)\n",
    "    age.append('')\n",
    "    age.append('')\n",
    "    \n",
    "plt.bar(range(len(ages)),\n",
    "        ages['0'],\n",
    "        bottom = ages['1'] + ages['2'],\n",
    "        edgecolor = 'w')\n",
    "plt.bar(range(len(ages)),\n",
    "        ages['1'],\n",
    "        bottom = ages['2'],\n",
    "        edgecolor = 'w')\n",
    "plt.bar(range(len(ages)),\n",
    "        ages['2'],\n",
    "        edgecolor = 'w')\n",
    "\n",
    "\n",
    "plt.xticks(np.arange(len(ages)),\n",
    "           age,\n",
    "          fontsize = 13)\n",
    "plt.tick_params(axis = 'both',\n",
    "                length = 0,\n",
    "               labelsize = 15)\n",
    "plt.ylabel('Volumes',\n",
    "           size = 19)\n",
    "plt.yticks(size = 15)\n",
    "plt.legend(['Catégorie 0', 'Catégorie 1', 'Catégorie 2'])\n",
    "plt.title('Comparaison de ventes en fonction de l\\'âge',\n",
    "          size = 22);"
   ]
  },
  {
   "cell_type": "markdown",
   "metadata": {},
   "source": [
    "CCL:\n",
    "- Il semble y avoir corrélation de l'âge avec les catégories de produits achetés.\n",
    "- On remarque des catégories beaucoup plus achetées que d'autres par certaines tranches d'âge (ce qui peut être intéressant soit à exploiter commercialement, soit à compenser dans les autres catégories d'âge)."
   ]
  },
  {
   "cell_type": "markdown",
   "metadata": {},
   "source": [
    "##### <span style='color:blue'>Corrélation<a name=\"M2542\"></a>"
   ]
  },
  {
   "cell_type": "markdown",
   "metadata": {},
   "source": [
    "Ici, on considère que les variables sont qualitatives."
   ]
  },
  {
   "cell_type": "markdown",
   "metadata": {},
   "source": [
    "ERREUR: on ne peut pas considérer l'âge comme tel car laissé ainsi, il est nécessairemnt quantitatif. Il faut indispensablement le convertir en catégorie afin de pouvoir le considérer qualitatif."
   ]
  },
  {
   "cell_type": "markdown",
   "metadata": {},
   "source": [
    "On fait l'hypothèse nulle que les variables sont indépendantes."
   ]
  },
  {
   "cell_type": "code",
   "execution_count": null,
   "metadata": {},
   "outputs": [],
   "source": [
    "# Création de la matrice \"valeurs observées\" (tableau de contingence):\n",
    "X = 'age'\n",
    "Y = 'categ'\n",
    "cont2 = activites_lambda[[X,Y]].pivot_table(index = 'age', columns = 'categ', aggfunc = len).fillna(0)\n",
    "contingence2 = cont2.copy()\n",
    "\n",
    "tx2 = activites_lambda['age'].value_counts()\n",
    "ty2 = activites_lambda['categ'].value_counts()\n",
    "\n",
    "contingence2.loc[:, 'Total'] = tx2\n",
    "contingence2.loc['total', :] = ty2\n",
    "contingence2.loc['total', 'Total'] = len(activites_lambda)\n",
    "contingence2.astype(int).head()"
   ]
  },
  {
   "cell_type": "code",
   "execution_count": null,
   "metadata": {
    "scrolled": false
   },
   "outputs": [],
   "source": [
    "## Création de la matrice \"valeurs attendues\" (tableau d'indépendance):\n",
    "tx2_df = pd.DataFrame(contingence2['Total'].iloc[:76])\n",
    "tx2_df.columns = [\"c\"]\n",
    "ty2_df = pd.DataFrame(contingence2.loc['total'].iloc[:3])\n",
    "ty2_df.columns = [\"c\"]\n",
    "\n",
    "n = len(activites_lambda)\n",
    "\n",
    "independance2 = pd.DataFrame(np.dot(tx2_df, ty2_df.T) / n, index = list(cont2.index), columns = [0, 1, 2]).astype(int)\n",
    "independance2.head()"
   ]
  },
  {
   "cell_type": "code",
   "execution_count": null,
   "metadata": {},
   "outputs": [],
   "source": [
    "# Calcul de la matrice \"écart au carré normalisé de la valeur attendue VS valeur observée\":\n",
    "frequence2 = (cont2 - independance2)**2/independance2\n",
    "frequence2.head()"
   ]
  },
  {
   "cell_type": "code",
   "execution_count": null,
   "metadata": {},
   "outputs": [],
   "source": [
    "# Calcul du khi²:\n",
    "# Somme des valeurs de la précédente matrice. Cette somme suit une loi du khi² à k degrés de liberté.\n",
    "xi_n = frequence2.sum().sum()\n",
    "xi_n"
   ]
  },
  {
   "cell_type": "code",
   "execution_count": null,
   "metadata": {},
   "outputs": [],
   "source": [
    "# Calcul du degré de liberté dl:\n",
    "# dl = (nbre de lignes de la table de contingence - 1) x (nbre de colonnes - 1)  \n",
    "# Nota bene: les lignes et colonnes des totaux ne sont pas pris en compte.\n",
    "dl = (76 - 1) * (3 - 1)\n",
    "dl"
   ]
  },
  {
   "cell_type": "markdown",
   "metadata": {},
   "source": [
    "D'après le tableau du khi², avec un degré de liberté de 150, notre khi² empirique est nettement supérieur au khi² théorique  même avec un risque d'erreur de 0.1% (autour de 210).<br/>\n",
    "En conséquence, avec une fiabilité de plus de 99.9%, on peut affirmer que l'hypothèse d'indépendance est rejetée.\n",
    "<br/>Il y a donc clairement corrélation entre les deux variables."
   ]
  },
  {
   "cell_type": "markdown",
   "metadata": {},
   "source": [
    "Confirmation par la carte de chaleur:"
   ]
  },
  {
   "cell_type": "code",
   "execution_count": null,
   "metadata": {
    "scrolled": true
   },
   "outputs": [],
   "source": [
    "table2 = frequence2 / xi_n\n",
    "table2.head()"
   ]
  },
  {
   "cell_type": "code",
   "execution_count": null,
   "metadata": {
    "scrolled": false
   },
   "outputs": [],
   "source": [
    "plt.figure(figsize = (10, 20))\n",
    "plt.title('Ventes',\n",
    "         size = 22)\n",
    "sns.heatmap(table2, annot = table2);"
   ]
  },
  {
   "cell_type": "markdown",
   "metadata": {},
   "source": [
    "CCL:<br/>\n",
    "Au regard de la p_value, notre test est significatif.<br/>\n",
    "On observe très bien par la catégorie 2 les différences de couleurs qui indiquent qu'il y a bel et bien une relation de corréation entre l'âge des clients et les catégories de produits achetés."
   ]
  },
  {
   "cell_type": "markdown",
   "metadata": {},
   "source": [
    "Vérification par scikit-learn:"
   ]
  },
  {
   "cell_type": "code",
   "execution_count": null,
   "metadata": {},
   "outputs": [],
   "source": [
    "st_chi2, st_p, st_dof, st_exp = st.chi2_contingency(cont2)"
   ]
  },
  {
   "cell_type": "code",
   "execution_count": null,
   "metadata": {},
   "outputs": [],
   "source": [
    "st_dof"
   ]
  },
  {
   "cell_type": "code",
   "execution_count": null,
   "metadata": {},
   "outputs": [],
   "source": [
    "#st_exp"
   ]
  },
  {
   "cell_type": "code",
   "execution_count": null,
   "metadata": {},
   "outputs": [],
   "source": [
    "st_chi2 # On retrouve quasiment la valeur trouvé \"manuellement\""
   ]
  },
  {
   "cell_type": "code",
   "execution_count": null,
   "metadata": {},
   "outputs": [],
   "source": [
    "st_p # confirme bien la corrélation des variables avec un risque d'erreur dérisoire."
   ]
  },
  {
   "cell_type": "markdown",
   "metadata": {},
   "source": [
    "Notre test est significatif.\n",
    "<br/>Il y a donc bien corrélation des variables avec un risque d'erreur inférieur à 0.1%"
   ]
  },
  {
   "cell_type": "markdown",
   "metadata": {},
   "source": [
    "Correctif: Traitement de variables de type qualitatif et quantitatif:"
   ]
  },
  {
   "cell_type": "code",
   "execution_count": null,
   "metadata": {},
   "outputs": [],
   "source": [
    "activites_lambda.head()"
   ]
  },
  {
   "cell_type": "code",
   "execution_count": null,
   "metadata": {},
   "outputs": [],
   "source": [
    "var0 = activites_lambda.age.loc[activites_lambda.categ == 0]\n",
    "var1 = activites_lambda.age.loc[activites_lambda.categ == 1]\n",
    "var2 = activites_lambda.age.loc[activites_lambda.categ == 2]"
   ]
  },
  {
   "cell_type": "code",
   "execution_count": null,
   "metadata": {},
   "outputs": [],
   "source": [
    "plt.figure(figsize = (10, 9))\n",
    "\n",
    "medianprops = {'color':\"black\"}\n",
    "meanprops = {'marker':'o', 'markeredgecolor':'black', 'markerfacecolor':'firebrick'}\n",
    "\n",
    "taille = [var0, var1, var2]\n",
    "plt.boxplot(taille,\n",
    "            showfliers = False,\n",
    "            widths = 0.7,\n",
    "            patch_artist = True,\n",
    "            medianprops = medianprops,\n",
    "            showmeans = True,\n",
    "            meanprops = meanprops)\n",
    "boites = ['0', '1', '2']\n",
    "plt.xticks([1,2,3],\n",
    "           boites)\n",
    "plt.tick_params(axis = 'both',\n",
    "                length = 0)\n",
    "plt.ylabel('Age des clients',\n",
    "           size = 17)\n",
    "plt.grid(axis = 'y')\n",
    "\n",
    "plt.title('Age des clients en fonction des catégories achetées',\n",
    "          size = 22);"
   ]
  },
  {
   "cell_type": "code",
   "execution_count": null,
   "metadata": {},
   "outputs": [],
   "source": [
    "# ANOVA:\n",
    "# Moyenne des âges de la catégorie 0:\n",
    "m0 = var0.mean()\n",
    "# Moyenne des âges de la catégorie 1:\n",
    "m1 = var1.mean()\n",
    "# Moyenne des âges de la catégorie 2:\n",
    "m2 = var2.mean()\n",
    "# Moyenne globale des âges:\n",
    "m = activites_lambda.age.mean()\n",
    "# Variation interclasse:\n",
    "SCE = var0.shape[0]*(m0 - m)**2 + var1.shape[0]*(m1 - m)**2 + var2.shape[0]*(m2 - m)**2\n",
    "# Variation totale:\n",
    "SCT = np.sum((activites_lambda.age - m)**2)\n",
    "# Calcul de eta²:\n",
    "eta_2 = SCE / SCT\n",
    "eta_2"
   ]
  },
  {
   "cell_type": "code",
   "execution_count": null,
   "metadata": {},
   "outputs": [],
   "source": [
    "st.f_oneway(var0, var1, var2)"
   ]
  },
  {
   "cell_type": "markdown",
   "metadata": {},
   "source": [
    "Les variations sont expliquées autour de la moyenne à hauteur de 11% ce qui est un effet taille relativement grand.<br/>\n",
    "Au regard de la p_value, le test est donc significatif.<br/>\n",
    "Il y a donc corrélation entre l'âge des clients et les catégories de produits achetés."
   ]
  }
 ],
 "metadata": {
  "kernelspec": {
   "display_name": "Python 3",
   "language": "python",
   "name": "python3"
  },
  "language_info": {
   "codemirror_mode": {
    "name": "ipython",
    "version": 3
   },
   "file_extension": ".py",
   "mimetype": "text/x-python",
   "name": "python",
   "nbconvert_exporter": "python",
   "pygments_lexer": "ipython3",
   "version": "3.7.6"
  }
 },
 "nbformat": 4,
 "nbformat_minor": 2
}
